{
 "cells": [
  {
   "cell_type": "code",
   "id": "initial_id",
   "metadata": {
    "collapsed": true,
    "ExecuteTime": {
     "end_time": "2024-06-24T09:33:53.264765Z",
     "start_time": "2024-06-24T09:33:53.260521Z"
    }
   },
   "source": [
    "import pandas as pd\n",
    "import matplotlib.pyplot as plt\n",
    "import numpy as np\n",
    "import seaborn as sns"
   ],
   "outputs": [],
   "execution_count": 182
  },
  {
   "metadata": {
    "ExecuteTime": {
     "end_time": "2024-06-24T09:33:53.361632Z",
     "start_time": "2024-06-24T09:33:53.348422Z"
    }
   },
   "cell_type": "code",
   "source": "df = pd.read_csv(\"netflix_movies_and_tv_shows_sample_dataset_sample.csv\")",
   "id": "4ccb609b7a9f224d",
   "outputs": [],
   "execution_count": 183
  },
  {
   "metadata": {
    "ExecuteTime": {
     "end_time": "2024-06-24T09:33:53.405077Z",
     "start_time": "2024-06-24T09:33:53.385469Z"
    }
   },
   "cell_type": "code",
   "source": "df.head()",
   "id": "20ac02caa0d53479",
   "outputs": [
    {
     "data": {
      "text/plain": [
       "                                      url  \\\n",
       "0  https://www.netflix.com/title/80189221   \n",
       "1  https://www.netflix.com/title/81031373   \n",
       "2  https://www.netflix.com/title/80996601   \n",
       "3  https://www.netflix.com/title/81350429   \n",
       "4  https://www.netflix.com/title/81149184   \n",
       "\n",
       "                                               name contentType  \\\n",
       "0                        The Haunting of Hill House    TVSeries   \n",
       "1  Don't F**k with Cats: Hunting an Internet Killer    TVSeries   \n",
       "2                                     Love Is Blind    TVSeries   \n",
       "3                                      I Care a Lot       Movie   \n",
       "4                                tick, tick...BOOM!       Movie   \n",
       "\n",
       "                                         description contentRating  \\\n",
       "0  Flashing between past and present, a fractured...           18+   \n",
       "1  A twisted criminal's gruesome videos drive a g...           18+   \n",
       "2  Nick and Vanessa Lachey host this social exper...           16+   \n",
       "3  A court-appointed legal guardian defrauds her ...           18+   \n",
       "4  On the brink of turning 30, a promising theate...           13+   \n",
       "\n",
       "                          genre  \\\n",
       "0                  TV Mysteries   \n",
       "1      True Crime Documentaries   \n",
       "2  Wedding & Romance Reality TV   \n",
       "3                     US Movies   \n",
       "4                     US Movies   \n",
       "\n",
       "                                              poster formattedDuration  \\\n",
       "0  https://occ-0-1492-1007.1.nflxso.net/dnm/api/v...               NaN   \n",
       "1  https://occ-0-1492-1007.1.nflxso.net/dnm/api/v...               NaN   \n",
       "2  https://occ-0-1492-1007.1.nflxso.net/dnm/api/v...               NaN   \n",
       "3  https://occ-0-1492-1007.1.nflxso.net/dnm/api/v...            1h 59m   \n",
       "4  https://occ-0-1492-1007.1.nflxso.net/dnm/api/v...            1h 55m   \n",
       "\n",
       "  releasedDate                                             actors  ...  \\\n",
       "0   2018-10-12  Michiel Huisman, Carla Gugino, Timothy Hutton,...  ...   \n",
       "1   2019-12-18                                                NaN  ...   \n",
       "2    2020-2-13                        Nick Lachey, Vanessa Lachey  ...   \n",
       "3    2021-2-19  Rosamund Pike, Peter Dinklage, Eiza González, ...  ...   \n",
       "4   2021-11-19  Andrew Garfield, Alexandra Shipp, Vanessa Hudg...  ...   \n",
       "\n",
       "         creator                                              audio  \\\n",
       "0  Mike Flanagan                                                NaN   \n",
       "1            NaN                                                NaN   \n",
       "2            NaN                                                NaN   \n",
       "3            NaN    English - Audio Description, English [Original]   \n",
       "4            NaN  English - Audio Description, English [Original...   \n",
       "\n",
       "         subtitle    availableForOffline numberOfSeasons  seasonStartDate  \\\n",
       "0             NaN  Available to download             1.0       2018-10-12   \n",
       "1             NaN  Available to download             1.0       2019-12-18   \n",
       "2             NaN  Available to download             2.0        2020-2-13   \n",
       "3  English, Hindi  Available to download             NaN              NaN   \n",
       "4         English  Available to download             NaN              NaN   \n",
       "\n",
       "    source           sourceLink                                uniqId  \\\n",
       "0  Netflix  https://netflix.com  85814dcd-729d-577f-873b-e3b7d9f21ab1   \n",
       "1  Netflix  https://netflix.com  134f93fc-a991-55ca-ad36-8c438b930e52   \n",
       "2  Netflix  https://netflix.com  e5461057-25c2-59a5-8672-d4b4a102ee00   \n",
       "3  Netflix  https://netflix.com  bbc71932-fc79-51aa-bf83-023c2c5db97c   \n",
       "4  Netflix  https://netflix.com  cd630201-99b9-5ac4-bb78-7fad5c65cc95   \n",
       "\n",
       "             scrapedAt  \n",
       "0  05/03/2022 14:51:34  \n",
       "1  05/03/2022 14:51:36  \n",
       "2  05/03/2022 14:51:37  \n",
       "3  05/03/2022 14:51:37  \n",
       "4  05/03/2022 14:51:38  \n",
       "\n",
       "[5 rows x 21 columns]"
      ],
      "text/html": [
       "<div>\n",
       "<style scoped>\n",
       "    .dataframe tbody tr th:only-of-type {\n",
       "        vertical-align: middle;\n",
       "    }\n",
       "\n",
       "    .dataframe tbody tr th {\n",
       "        vertical-align: top;\n",
       "    }\n",
       "\n",
       "    .dataframe thead th {\n",
       "        text-align: right;\n",
       "    }\n",
       "</style>\n",
       "<table border=\"1\" class=\"dataframe\">\n",
       "  <thead>\n",
       "    <tr style=\"text-align: right;\">\n",
       "      <th></th>\n",
       "      <th>url</th>\n",
       "      <th>name</th>\n",
       "      <th>contentType</th>\n",
       "      <th>description</th>\n",
       "      <th>contentRating</th>\n",
       "      <th>genre</th>\n",
       "      <th>poster</th>\n",
       "      <th>formattedDuration</th>\n",
       "      <th>releasedDate</th>\n",
       "      <th>actors</th>\n",
       "      <th>...</th>\n",
       "      <th>creator</th>\n",
       "      <th>audio</th>\n",
       "      <th>subtitle</th>\n",
       "      <th>availableForOffline</th>\n",
       "      <th>numberOfSeasons</th>\n",
       "      <th>seasonStartDate</th>\n",
       "      <th>source</th>\n",
       "      <th>sourceLink</th>\n",
       "      <th>uniqId</th>\n",
       "      <th>scrapedAt</th>\n",
       "    </tr>\n",
       "  </thead>\n",
       "  <tbody>\n",
       "    <tr>\n",
       "      <th>0</th>\n",
       "      <td>https://www.netflix.com/title/80189221</td>\n",
       "      <td>The Haunting of Hill House</td>\n",
       "      <td>TVSeries</td>\n",
       "      <td>Flashing between past and present, a fractured...</td>\n",
       "      <td>18+</td>\n",
       "      <td>TV Mysteries</td>\n",
       "      <td>https://occ-0-1492-1007.1.nflxso.net/dnm/api/v...</td>\n",
       "      <td>NaN</td>\n",
       "      <td>2018-10-12</td>\n",
       "      <td>Michiel Huisman, Carla Gugino, Timothy Hutton,...</td>\n",
       "      <td>...</td>\n",
       "      <td>Mike Flanagan</td>\n",
       "      <td>NaN</td>\n",
       "      <td>NaN</td>\n",
       "      <td>Available to download</td>\n",
       "      <td>1.0</td>\n",
       "      <td>2018-10-12</td>\n",
       "      <td>Netflix</td>\n",
       "      <td>https://netflix.com</td>\n",
       "      <td>85814dcd-729d-577f-873b-e3b7d9f21ab1</td>\n",
       "      <td>05/03/2022 14:51:34</td>\n",
       "    </tr>\n",
       "    <tr>\n",
       "      <th>1</th>\n",
       "      <td>https://www.netflix.com/title/81031373</td>\n",
       "      <td>Don't F**k with Cats: Hunting an Internet Killer</td>\n",
       "      <td>TVSeries</td>\n",
       "      <td>A twisted criminal's gruesome videos drive a g...</td>\n",
       "      <td>18+</td>\n",
       "      <td>True Crime Documentaries</td>\n",
       "      <td>https://occ-0-1492-1007.1.nflxso.net/dnm/api/v...</td>\n",
       "      <td>NaN</td>\n",
       "      <td>2019-12-18</td>\n",
       "      <td>NaN</td>\n",
       "      <td>...</td>\n",
       "      <td>NaN</td>\n",
       "      <td>NaN</td>\n",
       "      <td>NaN</td>\n",
       "      <td>Available to download</td>\n",
       "      <td>1.0</td>\n",
       "      <td>2019-12-18</td>\n",
       "      <td>Netflix</td>\n",
       "      <td>https://netflix.com</td>\n",
       "      <td>134f93fc-a991-55ca-ad36-8c438b930e52</td>\n",
       "      <td>05/03/2022 14:51:36</td>\n",
       "    </tr>\n",
       "    <tr>\n",
       "      <th>2</th>\n",
       "      <td>https://www.netflix.com/title/80996601</td>\n",
       "      <td>Love Is Blind</td>\n",
       "      <td>TVSeries</td>\n",
       "      <td>Nick and Vanessa Lachey host this social exper...</td>\n",
       "      <td>16+</td>\n",
       "      <td>Wedding &amp; Romance Reality TV</td>\n",
       "      <td>https://occ-0-1492-1007.1.nflxso.net/dnm/api/v...</td>\n",
       "      <td>NaN</td>\n",
       "      <td>2020-2-13</td>\n",
       "      <td>Nick Lachey, Vanessa Lachey</td>\n",
       "      <td>...</td>\n",
       "      <td>NaN</td>\n",
       "      <td>NaN</td>\n",
       "      <td>NaN</td>\n",
       "      <td>Available to download</td>\n",
       "      <td>2.0</td>\n",
       "      <td>2020-2-13</td>\n",
       "      <td>Netflix</td>\n",
       "      <td>https://netflix.com</td>\n",
       "      <td>e5461057-25c2-59a5-8672-d4b4a102ee00</td>\n",
       "      <td>05/03/2022 14:51:37</td>\n",
       "    </tr>\n",
       "    <tr>\n",
       "      <th>3</th>\n",
       "      <td>https://www.netflix.com/title/81350429</td>\n",
       "      <td>I Care a Lot</td>\n",
       "      <td>Movie</td>\n",
       "      <td>A court-appointed legal guardian defrauds her ...</td>\n",
       "      <td>18+</td>\n",
       "      <td>US Movies</td>\n",
       "      <td>https://occ-0-1492-1007.1.nflxso.net/dnm/api/v...</td>\n",
       "      <td>1h 59m</td>\n",
       "      <td>2021-2-19</td>\n",
       "      <td>Rosamund Pike, Peter Dinklage, Eiza González, ...</td>\n",
       "      <td>...</td>\n",
       "      <td>NaN</td>\n",
       "      <td>English - Audio Description, English [Original]</td>\n",
       "      <td>English, Hindi</td>\n",
       "      <td>Available to download</td>\n",
       "      <td>NaN</td>\n",
       "      <td>NaN</td>\n",
       "      <td>Netflix</td>\n",
       "      <td>https://netflix.com</td>\n",
       "      <td>bbc71932-fc79-51aa-bf83-023c2c5db97c</td>\n",
       "      <td>05/03/2022 14:51:37</td>\n",
       "    </tr>\n",
       "    <tr>\n",
       "      <th>4</th>\n",
       "      <td>https://www.netflix.com/title/81149184</td>\n",
       "      <td>tick, tick...BOOM!</td>\n",
       "      <td>Movie</td>\n",
       "      <td>On the brink of turning 30, a promising theate...</td>\n",
       "      <td>13+</td>\n",
       "      <td>US Movies</td>\n",
       "      <td>https://occ-0-1492-1007.1.nflxso.net/dnm/api/v...</td>\n",
       "      <td>1h 55m</td>\n",
       "      <td>2021-11-19</td>\n",
       "      <td>Andrew Garfield, Alexandra Shipp, Vanessa Hudg...</td>\n",
       "      <td>...</td>\n",
       "      <td>NaN</td>\n",
       "      <td>English - Audio Description, English [Original...</td>\n",
       "      <td>English</td>\n",
       "      <td>Available to download</td>\n",
       "      <td>NaN</td>\n",
       "      <td>NaN</td>\n",
       "      <td>Netflix</td>\n",
       "      <td>https://netflix.com</td>\n",
       "      <td>cd630201-99b9-5ac4-bb78-7fad5c65cc95</td>\n",
       "      <td>05/03/2022 14:51:38</td>\n",
       "    </tr>\n",
       "  </tbody>\n",
       "</table>\n",
       "<p>5 rows × 21 columns</p>\n",
       "</div>"
      ]
     },
     "execution_count": 184,
     "metadata": {},
     "output_type": "execute_result"
    }
   ],
   "execution_count": 184
  },
  {
   "metadata": {
    "ExecuteTime": {
     "end_time": "2024-06-24T09:33:53.429724Z",
     "start_time": "2024-06-24T09:33:53.419347Z"
    }
   },
   "cell_type": "code",
   "source": "df.info()",
   "id": "8d6ecd6898345990",
   "outputs": [
    {
     "name": "stdout",
     "output_type": "stream",
     "text": [
      "<class 'pandas.core.frame.DataFrame'>\n",
      "RangeIndex: 148 entries, 0 to 147\n",
      "Data columns (total 21 columns):\n",
      " #   Column               Non-Null Count  Dtype  \n",
      "---  ------               --------------  -----  \n",
      " 0   url                  148 non-null    object \n",
      " 1   name                 148 non-null    object \n",
      " 2   contentType          148 non-null    object \n",
      " 3   description          148 non-null    object \n",
      " 4   contentRating        148 non-null    object \n",
      " 5   genre                148 non-null    object \n",
      " 6   poster               148 non-null    object \n",
      " 7   formattedDuration    43 non-null     object \n",
      " 8   releasedDate         148 non-null    object \n",
      " 9   actors               132 non-null    object \n",
      " 10  director             51 non-null     object \n",
      " 11  creator              74 non-null     object \n",
      " 12  audio                43 non-null     object \n",
      " 13  subtitle             43 non-null     object \n",
      " 14  availableForOffline  148 non-null    object \n",
      " 15  numberOfSeasons      105 non-null    float64\n",
      " 16  seasonStartDate      105 non-null    object \n",
      " 17  source               148 non-null    object \n",
      " 18  sourceLink           148 non-null    object \n",
      " 19  uniqId               148 non-null    object \n",
      " 20  scrapedAt            148 non-null    object \n",
      "dtypes: float64(1), object(20)\n",
      "memory usage: 24.4+ KB\n"
     ]
    }
   ],
   "execution_count": 185
  },
  {
   "metadata": {
    "ExecuteTime": {
     "end_time": "2024-06-24T09:33:53.439208Z",
     "start_time": "2024-06-24T09:33:53.431426Z"
    }
   },
   "cell_type": "code",
   "source": "df.drop([\"url\", \"contentRating\",\"poster\", \"formattedDuration\", \"releasedDate\", \"creator\", \"audio\", \"subtitle\", \"availableForOffline\", \"numberOfSeasons\", \"seasonStartDate\", \"sourceLink\", \"scrapedAt\", \"director\"], inplace=True, axis=1)",
   "id": "1098fb33209d95c4",
   "outputs": [],
   "execution_count": 186
  },
  {
   "metadata": {
    "ExecuteTime": {
     "end_time": "2024-06-24T09:33:53.455578Z",
     "start_time": "2024-06-24T09:33:53.446805Z"
    }
   },
   "cell_type": "code",
   "source": "df.head()",
   "id": "b76bc5723da1be9e",
   "outputs": [
    {
     "data": {
      "text/plain": [
       "                                               name contentType  \\\n",
       "0                        The Haunting of Hill House    TVSeries   \n",
       "1  Don't F**k with Cats: Hunting an Internet Killer    TVSeries   \n",
       "2                                     Love Is Blind    TVSeries   \n",
       "3                                      I Care a Lot       Movie   \n",
       "4                                tick, tick...BOOM!       Movie   \n",
       "\n",
       "                                         description  \\\n",
       "0  Flashing between past and present, a fractured...   \n",
       "1  A twisted criminal's gruesome videos drive a g...   \n",
       "2  Nick and Vanessa Lachey host this social exper...   \n",
       "3  A court-appointed legal guardian defrauds her ...   \n",
       "4  On the brink of turning 30, a promising theate...   \n",
       "\n",
       "                          genre  \\\n",
       "0                  TV Mysteries   \n",
       "1      True Crime Documentaries   \n",
       "2  Wedding & Romance Reality TV   \n",
       "3                     US Movies   \n",
       "4                     US Movies   \n",
       "\n",
       "                                              actors   source  \\\n",
       "0  Michiel Huisman, Carla Gugino, Timothy Hutton,...  Netflix   \n",
       "1                                                NaN  Netflix   \n",
       "2                        Nick Lachey, Vanessa Lachey  Netflix   \n",
       "3  Rosamund Pike, Peter Dinklage, Eiza González, ...  Netflix   \n",
       "4  Andrew Garfield, Alexandra Shipp, Vanessa Hudg...  Netflix   \n",
       "\n",
       "                                 uniqId  \n",
       "0  85814dcd-729d-577f-873b-e3b7d9f21ab1  \n",
       "1  134f93fc-a991-55ca-ad36-8c438b930e52  \n",
       "2  e5461057-25c2-59a5-8672-d4b4a102ee00  \n",
       "3  bbc71932-fc79-51aa-bf83-023c2c5db97c  \n",
       "4  cd630201-99b9-5ac4-bb78-7fad5c65cc95  "
      ],
      "text/html": [
       "<div>\n",
       "<style scoped>\n",
       "    .dataframe tbody tr th:only-of-type {\n",
       "        vertical-align: middle;\n",
       "    }\n",
       "\n",
       "    .dataframe tbody tr th {\n",
       "        vertical-align: top;\n",
       "    }\n",
       "\n",
       "    .dataframe thead th {\n",
       "        text-align: right;\n",
       "    }\n",
       "</style>\n",
       "<table border=\"1\" class=\"dataframe\">\n",
       "  <thead>\n",
       "    <tr style=\"text-align: right;\">\n",
       "      <th></th>\n",
       "      <th>name</th>\n",
       "      <th>contentType</th>\n",
       "      <th>description</th>\n",
       "      <th>genre</th>\n",
       "      <th>actors</th>\n",
       "      <th>source</th>\n",
       "      <th>uniqId</th>\n",
       "    </tr>\n",
       "  </thead>\n",
       "  <tbody>\n",
       "    <tr>\n",
       "      <th>0</th>\n",
       "      <td>The Haunting of Hill House</td>\n",
       "      <td>TVSeries</td>\n",
       "      <td>Flashing between past and present, a fractured...</td>\n",
       "      <td>TV Mysteries</td>\n",
       "      <td>Michiel Huisman, Carla Gugino, Timothy Hutton,...</td>\n",
       "      <td>Netflix</td>\n",
       "      <td>85814dcd-729d-577f-873b-e3b7d9f21ab1</td>\n",
       "    </tr>\n",
       "    <tr>\n",
       "      <th>1</th>\n",
       "      <td>Don't F**k with Cats: Hunting an Internet Killer</td>\n",
       "      <td>TVSeries</td>\n",
       "      <td>A twisted criminal's gruesome videos drive a g...</td>\n",
       "      <td>True Crime Documentaries</td>\n",
       "      <td>NaN</td>\n",
       "      <td>Netflix</td>\n",
       "      <td>134f93fc-a991-55ca-ad36-8c438b930e52</td>\n",
       "    </tr>\n",
       "    <tr>\n",
       "      <th>2</th>\n",
       "      <td>Love Is Blind</td>\n",
       "      <td>TVSeries</td>\n",
       "      <td>Nick and Vanessa Lachey host this social exper...</td>\n",
       "      <td>Wedding &amp; Romance Reality TV</td>\n",
       "      <td>Nick Lachey, Vanessa Lachey</td>\n",
       "      <td>Netflix</td>\n",
       "      <td>e5461057-25c2-59a5-8672-d4b4a102ee00</td>\n",
       "    </tr>\n",
       "    <tr>\n",
       "      <th>3</th>\n",
       "      <td>I Care a Lot</td>\n",
       "      <td>Movie</td>\n",
       "      <td>A court-appointed legal guardian defrauds her ...</td>\n",
       "      <td>US Movies</td>\n",
       "      <td>Rosamund Pike, Peter Dinklage, Eiza González, ...</td>\n",
       "      <td>Netflix</td>\n",
       "      <td>bbc71932-fc79-51aa-bf83-023c2c5db97c</td>\n",
       "    </tr>\n",
       "    <tr>\n",
       "      <th>4</th>\n",
       "      <td>tick, tick...BOOM!</td>\n",
       "      <td>Movie</td>\n",
       "      <td>On the brink of turning 30, a promising theate...</td>\n",
       "      <td>US Movies</td>\n",
       "      <td>Andrew Garfield, Alexandra Shipp, Vanessa Hudg...</td>\n",
       "      <td>Netflix</td>\n",
       "      <td>cd630201-99b9-5ac4-bb78-7fad5c65cc95</td>\n",
       "    </tr>\n",
       "  </tbody>\n",
       "</table>\n",
       "</div>"
      ]
     },
     "execution_count": 187,
     "metadata": {},
     "output_type": "execute_result"
    }
   ],
   "execution_count": 187
  },
  {
   "metadata": {
    "ExecuteTime": {
     "end_time": "2024-06-24T09:33:53.513690Z",
     "start_time": "2024-06-24T09:33:53.510259Z"
    }
   },
   "cell_type": "code",
   "source": "df = df.dropna()",
   "id": "22b1f34206d78a6f",
   "outputs": [],
   "execution_count": 188
  },
  {
   "metadata": {
    "ExecuteTime": {
     "end_time": "2024-06-24T09:33:53.573622Z",
     "start_time": "2024-06-24T09:33:53.527887Z"
    }
   },
   "cell_type": "code",
   "source": "sns.heatmap(df.isnull(), yticklabels=False, cbar=False, cmap=\"viridis\")",
   "id": "5cc3d3fd39ca21cd",
   "outputs": [
    {
     "data": {
      "text/plain": [
       "<Axes: >"
      ]
     },
     "execution_count": 189,
     "metadata": {},
     "output_type": "execute_result"
    },
    {
     "data": {
      "text/plain": [
       "<Figure size 640x480 with 1 Axes>"
      ],
      "image/png": "[encoded data removed]"
     },
     "metadata": {},
     "output_type": "display_data"
    }
   ],
   "execution_count": 189
  },
  {
   "metadata": {
    "ExecuteTime": {
     "end_time": "2024-06-24T09:33:53.628879Z",
     "start_time": "2024-06-24T09:33:53.624535Z"
    }
   },
   "cell_type": "code",
   "source": "filtered_df = pd.DataFrame(df[df['contentType'] == 'TVSeries'])",
   "id": "aba27dc1d9538ec0",
   "outputs": [],
   "execution_count": 190
  },
  {
   "metadata": {
    "ExecuteTime": {
     "end_time": "2024-06-24T09:33:53.663825Z",
     "start_time": "2024-06-24T09:33:53.652578Z"
    }
   },
   "cell_type": "code",
   "source": "filtered_df.info()",
   "id": "8e727894796f18cb",
   "outputs": [
    {
     "name": "stdout",
     "output_type": "stream",
     "text": [
      "<class 'pandas.core.frame.DataFrame'>\n",
      "Index: 98 entries, 0 to 147\n",
      "Data columns (total 7 columns):\n",
      " #   Column       Non-Null Count  Dtype \n",
      "---  ------       --------------  ----- \n",
      " 0   name         98 non-null     object\n",
      " 1   contentType  98 non-null     object\n",
      " 2   description  98 non-null     object\n",
      " 3   genre        98 non-null     object\n",
      " 4   actors       98 non-null     object\n",
      " 5   source       98 non-null     object\n",
      " 6   uniqId       98 non-null     object\n",
      "dtypes: object(7)\n",
      "memory usage: 6.1+ KB\n"
     ]
    }
   ],
   "execution_count": 191
  },
  {
   "metadata": {
    "ExecuteTime": {
     "end_time": "2024-06-24T09:33:53.678223Z",
     "start_time": "2024-06-24T09:33:53.667902Z"
    }
   },
   "cell_type": "code",
   "source": [
    "def check_if_exists(tv_series):\n",
    "    if tv_series in df['name'].values:\n",
    "        print('The value {} exists in the \"type\" column.'.format(tv_series))\n",
    "    else:\n",
    "        print('The value {} does not exist in the \"type\" column.'.format(tv_series))"
   ],
   "id": "8a64fad8b1ecb5c6",
   "outputs": [],
   "execution_count": 192
  },
  {
   "metadata": {
    "ExecuteTime": {
     "end_time": "2024-06-24T09:33:53.730726Z",
     "start_time": "2024-06-24T09:33:53.727102Z"
    }
   },
   "cell_type": "code",
   "source": "check_if_exists(tv_series=\"Squid Game\")",
   "id": "303d85486d37d643",
   "outputs": [
    {
     "name": "stdout",
     "output_type": "stream",
     "text": [
      "The value Squid Game exists in the \"type\" column.\n"
     ]
    }
   ],
   "execution_count": 193
  },
  {
   "metadata": {
    "ExecuteTime": {
     "end_time": "2024-06-24T09:33:53.795558Z",
     "start_time": "2024-06-24T09:33:53.790468Z"
    }
   },
   "cell_type": "code",
   "source": "filtered_df['actors'] = filtered_df['actors'].apply(lambda x:x.split(', '))",
   "id": "153eaea73418c553",
   "outputs": [],
   "execution_count": 194
  },
  {
   "metadata": {
    "ExecuteTime": {
     "end_time": "2024-06-24T09:33:53.836492Z",
     "start_time": "2024-06-24T09:33:53.832176Z"
    }
   },
   "cell_type": "code",
   "source": "filtered_df['genre'] = filtered_df['genre'].apply(lambda x:x.split(', '))",
   "id": "98e4fd76c45ebd48",
   "outputs": [],
   "execution_count": 195
  },
  {
   "metadata": {
    "ExecuteTime": {
     "end_time": "2024-06-24T09:33:53.875833Z",
     "start_time": "2024-06-24T09:33:53.866288Z"
    }
   },
   "cell_type": "code",
   "source": "filtered_df.head()",
   "id": "dfe7bdcceb19d76e",
   "outputs": [
    {
     "data": {
      "text/plain": [
       "                          name contentType  \\\n",
       "0   The Haunting of Hill House    TVSeries   \n",
       "2                Love Is Blind    TVSeries   \n",
       "5                Midnight Mass    TVSeries   \n",
       "6                      Kingdom    TVSeries   \n",
       "10               PIECES OF HER    TVSeries   \n",
       "\n",
       "                                          description  \\\n",
       "0   Flashing between past and present, a fractured...   \n",
       "2   Nick and Vanessa Lachey host this social exper...   \n",
       "5   The arrival of a charismatic young priest brin...   \n",
       "6   While strange rumors about their ill king grip...   \n",
       "10  A woman pieces together her mother's dark past...   \n",
       "\n",
       "                             genre  \\\n",
       "0                   [TV Mysteries]   \n",
       "2   [Wedding & Romance Reality TV]   \n",
       "5                   [TV Mysteries]   \n",
       "6              [Horror TV Serials]   \n",
       "10                  [TV Mysteries]   \n",
       "\n",
       "                                               actors   source  \\\n",
       "0   [Michiel Huisman, Carla Gugino, Timothy Hutton...  Netflix   \n",
       "2                       [Nick Lachey, Vanessa Lachey]  Netflix   \n",
       "5   [Kate Siegel, Zach Gilford, Hamish Linklater, ...  Netflix   \n",
       "6   [Ju Ji-hoon, Ryu Seung-ryong, Bae Doona, Kim S...  Netflix   \n",
       "10  [Toni Collette, Bella Heathcote, Jessica Barde...  Netflix   \n",
       "\n",
       "                                  uniqId  \n",
       "0   85814dcd-729d-577f-873b-e3b7d9f21ab1  \n",
       "2   e5461057-25c2-59a5-8672-d4b4a102ee00  \n",
       "5   d452167a-817d-5526-9070-d7fc23e8ff67  \n",
       "6   ef1d6583-df37-5e68-b1aa-348697b6f302  \n",
       "10  1a888770-1435-5440-97eb-284225c1075b  "
      ],
      "text/html": [
       "<div>\n",
       "<style scoped>\n",
       "    .dataframe tbody tr th:only-of-type {\n",
       "        vertical-align: middle;\n",
       "    }\n",
       "\n",
       "    .dataframe tbody tr th {\n",
       "        vertical-align: top;\n",
       "    }\n",
       "\n",
       "    .dataframe thead th {\n",
       "        text-align: right;\n",
       "    }\n",
       "</style>\n",
       "<table border=\"1\" class=\"dataframe\">\n",
       "  <thead>\n",
       "    <tr style=\"text-align: right;\">\n",
       "      <th></th>\n",
       "      <th>name</th>\n",
       "      <th>contentType</th>\n",
       "      <th>description</th>\n",
       "      <th>genre</th>\n",
       "      <th>actors</th>\n",
       "      <th>source</th>\n",
       "      <th>uniqId</th>\n",
       "    </tr>\n",
       "  </thead>\n",
       "  <tbody>\n",
       "    <tr>\n",
       "      <th>0</th>\n",
       "      <td>The Haunting of Hill House</td>\n",
       "      <td>TVSeries</td>\n",
       "      <td>Flashing between past and present, a fractured...</td>\n",
       "      <td>[TV Mysteries]</td>\n",
       "      <td>[Michiel Huisman, Carla Gugino, Timothy Hutton...</td>\n",
       "      <td>Netflix</td>\n",
       "      <td>85814dcd-729d-577f-873b-e3b7d9f21ab1</td>\n",
       "    </tr>\n",
       "    <tr>\n",
       "      <th>2</th>\n",
       "      <td>Love Is Blind</td>\n",
       "      <td>TVSeries</td>\n",
       "      <td>Nick and Vanessa Lachey host this social exper...</td>\n",
       "      <td>[Wedding &amp; Romance Reality TV]</td>\n",
       "      <td>[Nick Lachey, Vanessa Lachey]</td>\n",
       "      <td>Netflix</td>\n",
       "      <td>e5461057-25c2-59a5-8672-d4b4a102ee00</td>\n",
       "    </tr>\n",
       "    <tr>\n",
       "      <th>5</th>\n",
       "      <td>Midnight Mass</td>\n",
       "      <td>TVSeries</td>\n",
       "      <td>The arrival of a charismatic young priest brin...</td>\n",
       "      <td>[TV Mysteries]</td>\n",
       "      <td>[Kate Siegel, Zach Gilford, Hamish Linklater, ...</td>\n",
       "      <td>Netflix</td>\n",
       "      <td>d452167a-817d-5526-9070-d7fc23e8ff67</td>\n",
       "    </tr>\n",
       "    <tr>\n",
       "      <th>6</th>\n",
       "      <td>Kingdom</td>\n",
       "      <td>TVSeries</td>\n",
       "      <td>While strange rumors about their ill king grip...</td>\n",
       "      <td>[Horror TV Serials]</td>\n",
       "      <td>[Ju Ji-hoon, Ryu Seung-ryong, Bae Doona, Kim S...</td>\n",
       "      <td>Netflix</td>\n",
       "      <td>ef1d6583-df37-5e68-b1aa-348697b6f302</td>\n",
       "    </tr>\n",
       "    <tr>\n",
       "      <th>10</th>\n",
       "      <td>PIECES OF HER</td>\n",
       "      <td>TVSeries</td>\n",
       "      <td>A woman pieces together her mother's dark past...</td>\n",
       "      <td>[TV Mysteries]</td>\n",
       "      <td>[Toni Collette, Bella Heathcote, Jessica Barde...</td>\n",
       "      <td>Netflix</td>\n",
       "      <td>1a888770-1435-5440-97eb-284225c1075b</td>\n",
       "    </tr>\n",
       "  </tbody>\n",
       "</table>\n",
       "</div>"
      ]
     },
     "execution_count": 196,
     "metadata": {},
     "output_type": "execute_result"
    }
   ],
   "execution_count": 196
  },
  {
   "metadata": {},
   "cell_type": "markdown",
   "source": "Remove white spaces",
   "id": "b0cb27ee36707e1f"
  },
  {
   "metadata": {
    "ExecuteTime": {
     "end_time": "2024-06-24T09:33:53.895999Z",
     "start_time": "2024-06-24T09:33:53.893158Z"
    }
   },
   "cell_type": "code",
   "source": [
    "def remove_whitespaces(text):\n",
    "    edited_list = []\n",
    "    for i in text:\n",
    "        edited_list.append(i.replace(' ',''))\n",
    "    return edited_list"
   ],
   "id": "b51435ff797293c9",
   "outputs": [],
   "execution_count": 197
  },
  {
   "metadata": {
    "ExecuteTime": {
     "end_time": "2024-06-24T09:33:53.929957Z",
     "start_time": "2024-06-24T09:33:53.926606Z"
    }
   },
   "cell_type": "code",
   "source": "filtered_df['actors'] = filtered_df['actors'].apply(remove_whitespaces)",
   "id": "5fdb432154efc93d",
   "outputs": [],
   "execution_count": 198
  },
  {
   "metadata": {
    "ExecuteTime": {
     "end_time": "2024-06-24T09:33:53.948206Z",
     "start_time": "2024-06-24T09:33:53.944719Z"
    }
   },
   "cell_type": "code",
   "source": "filtered_df['genre'] = filtered_df['genre'].apply(remove_whitespaces)",
   "id": "a0bc847f5c534f95",
   "outputs": [],
   "execution_count": 199
  },
  {
   "metadata": {
    "ExecuteTime": {
     "end_time": "2024-06-24T09:33:53.968631Z",
     "start_time": "2024-06-24T09:33:53.953597Z"
    }
   },
   "cell_type": "code",
   "source": "filtered_df.head()",
   "id": "bd1aca85997a035c",
   "outputs": [
    {
     "data": {
      "text/plain": [
       "                          name contentType  \\\n",
       "0   The Haunting of Hill House    TVSeries   \n",
       "2                Love Is Blind    TVSeries   \n",
       "5                Midnight Mass    TVSeries   \n",
       "6                      Kingdom    TVSeries   \n",
       "10               PIECES OF HER    TVSeries   \n",
       "\n",
       "                                          description  \\\n",
       "0   Flashing between past and present, a fractured...   \n",
       "2   Nick and Vanessa Lachey host this social exper...   \n",
       "5   The arrival of a charismatic young priest brin...   \n",
       "6   While strange rumors about their ill king grip...   \n",
       "10  A woman pieces together her mother's dark past...   \n",
       "\n",
       "                         genre  \\\n",
       "0                [TVMysteries]   \n",
       "2   [Wedding&RomanceRealityTV]   \n",
       "5                [TVMysteries]   \n",
       "6            [HorrorTVSerials]   \n",
       "10               [TVMysteries]   \n",
       "\n",
       "                                               actors   source  \\\n",
       "0   [MichielHuisman, CarlaGugino, TimothyHutton, H...  Netflix   \n",
       "2                         [NickLachey, VanessaLachey]  Netflix   \n",
       "5   [KateSiegel, ZachGilford, HamishLinklater, Hen...  Netflix   \n",
       "6   [JuJi-hoon, RyuSeung-ryong, BaeDoona, KimSang-...  Netflix   \n",
       "10  [ToniCollette, BellaHeathcote, JessicaBarden, ...  Netflix   \n",
       "\n",
       "                                  uniqId  \n",
       "0   85814dcd-729d-577f-873b-e3b7d9f21ab1  \n",
       "2   e5461057-25c2-59a5-8672-d4b4a102ee00  \n",
       "5   d452167a-817d-5526-9070-d7fc23e8ff67  \n",
       "6   ef1d6583-df37-5e68-b1aa-348697b6f302  \n",
       "10  1a888770-1435-5440-97eb-284225c1075b  "
      ],
      "text/html": [
       "<div>\n",
       "<style scoped>\n",
       "    .dataframe tbody tr th:only-of-type {\n",
       "        vertical-align: middle;\n",
       "    }\n",
       "\n",
       "    .dataframe tbody tr th {\n",
       "        vertical-align: top;\n",
       "    }\n",
       "\n",
       "    .dataframe thead th {\n",
       "        text-align: right;\n",
       "    }\n",
       "</style>\n",
       "<table border=\"1\" class=\"dataframe\">\n",
       "  <thead>\n",
       "    <tr style=\"text-align: right;\">\n",
       "      <th></th>\n",
       "      <th>name</th>\n",
       "      <th>contentType</th>\n",
       "      <th>description</th>\n",
       "      <th>genre</th>\n",
       "      <th>actors</th>\n",
       "      <th>source</th>\n",
       "      <th>uniqId</th>\n",
       "    </tr>\n",
       "  </thead>\n",
       "  <tbody>\n",
       "    <tr>\n",
       "      <th>0</th>\n",
       "      <td>The Haunting of Hill House</td>\n",
       "      <td>TVSeries</td>\n",
       "      <td>Flashing between past and present, a fractured...</td>\n",
       "      <td>[TVMysteries]</td>\n",
       "      <td>[MichielHuisman, CarlaGugino, TimothyHutton, H...</td>\n",
       "      <td>Netflix</td>\n",
       "      <td>85814dcd-729d-577f-873b-e3b7d9f21ab1</td>\n",
       "    </tr>\n",
       "    <tr>\n",
       "      <th>2</th>\n",
       "      <td>Love Is Blind</td>\n",
       "      <td>TVSeries</td>\n",
       "      <td>Nick and Vanessa Lachey host this social exper...</td>\n",
       "      <td>[Wedding&amp;RomanceRealityTV]</td>\n",
       "      <td>[NickLachey, VanessaLachey]</td>\n",
       "      <td>Netflix</td>\n",
       "      <td>e5461057-25c2-59a5-8672-d4b4a102ee00</td>\n",
       "    </tr>\n",
       "    <tr>\n",
       "      <th>5</th>\n",
       "      <td>Midnight Mass</td>\n",
       "      <td>TVSeries</td>\n",
       "      <td>The arrival of a charismatic young priest brin...</td>\n",
       "      <td>[TVMysteries]</td>\n",
       "      <td>[KateSiegel, ZachGilford, HamishLinklater, Hen...</td>\n",
       "      <td>Netflix</td>\n",
       "      <td>d452167a-817d-5526-9070-d7fc23e8ff67</td>\n",
       "    </tr>\n",
       "    <tr>\n",
       "      <th>6</th>\n",
       "      <td>Kingdom</td>\n",
       "      <td>TVSeries</td>\n",
       "      <td>While strange rumors about their ill king grip...</td>\n",
       "      <td>[HorrorTVSerials]</td>\n",
       "      <td>[JuJi-hoon, RyuSeung-ryong, BaeDoona, KimSang-...</td>\n",
       "      <td>Netflix</td>\n",
       "      <td>ef1d6583-df37-5e68-b1aa-348697b6f302</td>\n",
       "    </tr>\n",
       "    <tr>\n",
       "      <th>10</th>\n",
       "      <td>PIECES OF HER</td>\n",
       "      <td>TVSeries</td>\n",
       "      <td>A woman pieces together her mother's dark past...</td>\n",
       "      <td>[TVMysteries]</td>\n",
       "      <td>[ToniCollette, BellaHeathcote, JessicaBarden, ...</td>\n",
       "      <td>Netflix</td>\n",
       "      <td>1a888770-1435-5440-97eb-284225c1075b</td>\n",
       "    </tr>\n",
       "  </tbody>\n",
       "</table>\n",
       "</div>"
      ]
     },
     "execution_count": 200,
     "metadata": {},
     "output_type": "execute_result"
    }
   ],
   "execution_count": 200
  },
  {
   "metadata": {},
   "cell_type": "markdown",
   "source": "Keep only top cast",
   "id": "3db69569f52c096c"
  },
  {
   "metadata": {
    "ExecuteTime": {
     "end_time": "2024-06-24T09:33:53.995502Z",
     "start_time": "2024-06-24T09:33:53.992128Z"
    }
   },
   "cell_type": "code",
   "source": [
    "def extract_cast(text):\n",
    "    i = 0\n",
    "    edited_cast = []\n",
    "    for name in text:\n",
    "        if i < 5:\n",
    "            edited_cast.append(name)\n",
    "            i = i + 1\n",
    "    return edited_cast"
   ],
   "id": "942b7e91dbfa2b12",
   "outputs": [],
   "execution_count": 201
  },
  {
   "metadata": {
    "ExecuteTime": {
     "end_time": "2024-06-24T09:33:54.008999Z",
     "start_time": "2024-06-24T09:33:54.004696Z"
    }
   },
   "cell_type": "code",
   "source": "filtered_df['actors'] = filtered_df['actors'].apply(extract_cast)",
   "id": "f051de67f0db5981",
   "outputs": [],
   "execution_count": 202
  },
  {
   "metadata": {
    "ExecuteTime": {
     "end_time": "2024-06-24T09:33:54.081170Z",
     "start_time": "2024-06-24T09:33:54.076862Z"
    }
   },
   "cell_type": "code",
   "source": "filtered_df['keyword'] = filtered_df['actors'] + filtered_df['genre']",
   "id": "5460b5d3d610770b",
   "outputs": [],
   "execution_count": 203
  },
  {
   "metadata": {
    "ExecuteTime": {
     "end_time": "2024-06-24T09:33:54.132181Z",
     "start_time": "2024-06-24T09:33:54.118481Z"
    }
   },
   "cell_type": "code",
   "source": "filtered_df.head() #Possible will need ot remove \"&\" ",
   "id": "a17c8968f50576b4",
   "outputs": [
    {
     "data": {
      "text/plain": [
       "                          name contentType  \\\n",
       "0   The Haunting of Hill House    TVSeries   \n",
       "2                Love Is Blind    TVSeries   \n",
       "5                Midnight Mass    TVSeries   \n",
       "6                      Kingdom    TVSeries   \n",
       "10               PIECES OF HER    TVSeries   \n",
       "\n",
       "                                          description  \\\n",
       "0   Flashing between past and present, a fractured...   \n",
       "2   Nick and Vanessa Lachey host this social exper...   \n",
       "5   The arrival of a charismatic young priest brin...   \n",
       "6   While strange rumors about their ill king grip...   \n",
       "10  A woman pieces together her mother's dark past...   \n",
       "\n",
       "                         genre  \\\n",
       "0                [TVMysteries]   \n",
       "2   [Wedding&RomanceRealityTV]   \n",
       "5                [TVMysteries]   \n",
       "6            [HorrorTVSerials]   \n",
       "10               [TVMysteries]   \n",
       "\n",
       "                                               actors   source  \\\n",
       "0   [MichielHuisman, CarlaGugino, TimothyHutton, H...  Netflix   \n",
       "2                         [NickLachey, VanessaLachey]  Netflix   \n",
       "5   [KateSiegel, ZachGilford, HamishLinklater, Hen...  Netflix   \n",
       "6   [JuJi-hoon, RyuSeung-ryong, BaeDoona, KimSang-...  Netflix   \n",
       "10  [ToniCollette, BellaHeathcote, JessicaBarden, ...  Netflix   \n",
       "\n",
       "                                  uniqId  \\\n",
       "0   85814dcd-729d-577f-873b-e3b7d9f21ab1   \n",
       "2   e5461057-25c2-59a5-8672-d4b4a102ee00   \n",
       "5   d452167a-817d-5526-9070-d7fc23e8ff67   \n",
       "6   ef1d6583-df37-5e68-b1aa-348697b6f302   \n",
       "10  1a888770-1435-5440-97eb-284225c1075b   \n",
       "\n",
       "                                              keyword  \n",
       "0   [MichielHuisman, CarlaGugino, TimothyHutton, H...  \n",
       "2   [NickLachey, VanessaLachey, Wedding&RomanceRea...  \n",
       "5   [KateSiegel, ZachGilford, HamishLinklater, Hen...  \n",
       "6   [JuJi-hoon, RyuSeung-ryong, BaeDoona, KimSang-...  \n",
       "10  [ToniCollette, BellaHeathcote, JessicaBarden, ...  "
      ],
      "text/html": [
       "<div>\n",
       "<style scoped>\n",
       "    .dataframe tbody tr th:only-of-type {\n",
       "        vertical-align: middle;\n",
       "    }\n",
       "\n",
       "    .dataframe tbody tr th {\n",
       "        vertical-align: top;\n",
       "    }\n",
       "\n",
       "    .dataframe thead th {\n",
       "        text-align: right;\n",
       "    }\n",
       "</style>\n",
       "<table border=\"1\" class=\"dataframe\">\n",
       "  <thead>\n",
       "    <tr style=\"text-align: right;\">\n",
       "      <th></th>\n",
       "      <th>name</th>\n",
       "      <th>contentType</th>\n",
       "      <th>description</th>\n",
       "      <th>genre</th>\n",
       "      <th>actors</th>\n",
       "      <th>source</th>\n",
       "      <th>uniqId</th>\n",
       "      <th>keyword</th>\n",
       "    </tr>\n",
       "  </thead>\n",
       "  <tbody>\n",
       "    <tr>\n",
       "      <th>0</th>\n",
       "      <td>The Haunting of Hill House</td>\n",
       "      <td>TVSeries</td>\n",
       "      <td>Flashing between past and present, a fractured...</td>\n",
       "      <td>[TVMysteries]</td>\n",
       "      <td>[MichielHuisman, CarlaGugino, TimothyHutton, H...</td>\n",
       "      <td>Netflix</td>\n",
       "      <td>85814dcd-729d-577f-873b-e3b7d9f21ab1</td>\n",
       "      <td>[MichielHuisman, CarlaGugino, TimothyHutton, H...</td>\n",
       "    </tr>\n",
       "    <tr>\n",
       "      <th>2</th>\n",
       "      <td>Love Is Blind</td>\n",
       "      <td>TVSeries</td>\n",
       "      <td>Nick and Vanessa Lachey host this social exper...</td>\n",
       "      <td>[Wedding&amp;RomanceRealityTV]</td>\n",
       "      <td>[NickLachey, VanessaLachey]</td>\n",
       "      <td>Netflix</td>\n",
       "      <td>e5461057-25c2-59a5-8672-d4b4a102ee00</td>\n",
       "      <td>[NickLachey, VanessaLachey, Wedding&amp;RomanceRea...</td>\n",
       "    </tr>\n",
       "    <tr>\n",
       "      <th>5</th>\n",
       "      <td>Midnight Mass</td>\n",
       "      <td>TVSeries</td>\n",
       "      <td>The arrival of a charismatic young priest brin...</td>\n",
       "      <td>[TVMysteries]</td>\n",
       "      <td>[KateSiegel, ZachGilford, HamishLinklater, Hen...</td>\n",
       "      <td>Netflix</td>\n",
       "      <td>d452167a-817d-5526-9070-d7fc23e8ff67</td>\n",
       "      <td>[KateSiegel, ZachGilford, HamishLinklater, Hen...</td>\n",
       "    </tr>\n",
       "    <tr>\n",
       "      <th>6</th>\n",
       "      <td>Kingdom</td>\n",
       "      <td>TVSeries</td>\n",
       "      <td>While strange rumors about their ill king grip...</td>\n",
       "      <td>[HorrorTVSerials]</td>\n",
       "      <td>[JuJi-hoon, RyuSeung-ryong, BaeDoona, KimSang-...</td>\n",
       "      <td>Netflix</td>\n",
       "      <td>ef1d6583-df37-5e68-b1aa-348697b6f302</td>\n",
       "      <td>[JuJi-hoon, RyuSeung-ryong, BaeDoona, KimSang-...</td>\n",
       "    </tr>\n",
       "    <tr>\n",
       "      <th>10</th>\n",
       "      <td>PIECES OF HER</td>\n",
       "      <td>TVSeries</td>\n",
       "      <td>A woman pieces together her mother's dark past...</td>\n",
       "      <td>[TVMysteries]</td>\n",
       "      <td>[ToniCollette, BellaHeathcote, JessicaBarden, ...</td>\n",
       "      <td>Netflix</td>\n",
       "      <td>1a888770-1435-5440-97eb-284225c1075b</td>\n",
       "      <td>[ToniCollette, BellaHeathcote, JessicaBarden, ...</td>\n",
       "    </tr>\n",
       "  </tbody>\n",
       "</table>\n",
       "</div>"
      ]
     },
     "execution_count": 204,
     "metadata": {},
     "output_type": "execute_result"
    }
   ],
   "execution_count": 204
  },
  {
   "metadata": {
    "ExecuteTime": {
     "end_time": "2024-06-24T09:33:54.145475Z",
     "start_time": "2024-06-24T09:33:54.133879Z"
    }
   },
   "cell_type": "code",
   "source": "filtered_df['keyword'] = filtered_df['keyword'].apply(lambda x:\" \".join(x))",
   "id": "4ffa1f9104fa6f5c",
   "outputs": [],
   "execution_count": 205
  },
  {
   "metadata": {
    "ExecuteTime": {
     "end_time": "2024-06-24T09:33:54.216634Z",
     "start_time": "2024-06-24T09:33:54.211842Z"
    }
   },
   "cell_type": "code",
   "source": "edited_df=pd.DataFrame(filtered_df[[\"name\", \"uniqId\", \"keyword\"]])",
   "id": "c7ba9d2dd44e8fd6",
   "outputs": [],
   "execution_count": 206
  },
  {
   "metadata": {
    "ExecuteTime": {
     "end_time": "2024-06-24T09:33:54.264171Z",
     "start_time": "2024-06-24T09:33:54.255504Z"
    }
   },
   "cell_type": "code",
   "source": "edited_df.head()",
   "id": "b249c1365e2460db",
   "outputs": [
    {
     "data": {
      "text/plain": [
       "                          name                                uniqId  \\\n",
       "0   The Haunting of Hill House  85814dcd-729d-577f-873b-e3b7d9f21ab1   \n",
       "2                Love Is Blind  e5461057-25c2-59a5-8672-d4b4a102ee00   \n",
       "5                Midnight Mass  d452167a-817d-5526-9070-d7fc23e8ff67   \n",
       "6                      Kingdom  ef1d6583-df37-5e68-b1aa-348697b6f302   \n",
       "10               PIECES OF HER  1a888770-1435-5440-97eb-284225c1075b   \n",
       "\n",
       "                                              keyword  \n",
       "0   MichielHuisman CarlaGugino TimothyHutton Henry...  \n",
       "2   NickLachey VanessaLachey Wedding&RomanceRealityTV  \n",
       "5   KateSiegel ZachGilford HamishLinklater HenryTh...  \n",
       "6   JuJi-hoon RyuSeung-ryong BaeDoona KimSang-ho K...  \n",
       "10  ToniCollette BellaHeathcote JessicaBarden JoeD...  "
      ],
      "text/html": [
       "<div>\n",
       "<style scoped>\n",
       "    .dataframe tbody tr th:only-of-type {\n",
       "        vertical-align: middle;\n",
       "    }\n",
       "\n",
       "    .dataframe tbody tr th {\n",
       "        vertical-align: top;\n",
       "    }\n",
       "\n",
       "    .dataframe thead th {\n",
       "        text-align: right;\n",
       "    }\n",
       "</style>\n",
       "<table border=\"1\" class=\"dataframe\">\n",
       "  <thead>\n",
       "    <tr style=\"text-align: right;\">\n",
       "      <th></th>\n",
       "      <th>name</th>\n",
       "      <th>uniqId</th>\n",
       "      <th>keyword</th>\n",
       "    </tr>\n",
       "  </thead>\n",
       "  <tbody>\n",
       "    <tr>\n",
       "      <th>0</th>\n",
       "      <td>The Haunting of Hill House</td>\n",
       "      <td>85814dcd-729d-577f-873b-e3b7d9f21ab1</td>\n",
       "      <td>MichielHuisman CarlaGugino TimothyHutton Henry...</td>\n",
       "    </tr>\n",
       "    <tr>\n",
       "      <th>2</th>\n",
       "      <td>Love Is Blind</td>\n",
       "      <td>e5461057-25c2-59a5-8672-d4b4a102ee00</td>\n",
       "      <td>NickLachey VanessaLachey Wedding&amp;RomanceRealityTV</td>\n",
       "    </tr>\n",
       "    <tr>\n",
       "      <th>5</th>\n",
       "      <td>Midnight Mass</td>\n",
       "      <td>d452167a-817d-5526-9070-d7fc23e8ff67</td>\n",
       "      <td>KateSiegel ZachGilford HamishLinklater HenryTh...</td>\n",
       "    </tr>\n",
       "    <tr>\n",
       "      <th>6</th>\n",
       "      <td>Kingdom</td>\n",
       "      <td>ef1d6583-df37-5e68-b1aa-348697b6f302</td>\n",
       "      <td>JuJi-hoon RyuSeung-ryong BaeDoona KimSang-ho K...</td>\n",
       "    </tr>\n",
       "    <tr>\n",
       "      <th>10</th>\n",
       "      <td>PIECES OF HER</td>\n",
       "      <td>1a888770-1435-5440-97eb-284225c1075b</td>\n",
       "      <td>ToniCollette BellaHeathcote JessicaBarden JoeD...</td>\n",
       "    </tr>\n",
       "  </tbody>\n",
       "</table>\n",
       "</div>"
      ]
     },
     "execution_count": 207,
     "metadata": {},
     "output_type": "execute_result"
    }
   ],
   "execution_count": 207
  },
  {
   "metadata": {
    "ExecuteTime": {
     "end_time": "2024-06-24T09:33:54.298140Z",
     "start_time": "2024-06-24T09:33:54.295250Z"
    }
   },
   "cell_type": "code",
   "source": "from sklearn.feature_extraction.text import CountVectorizer",
   "id": "d528b9704893f48",
   "outputs": [],
   "execution_count": 208
  },
  {
   "metadata": {
    "ExecuteTime": {
     "end_time": "2024-06-24T09:33:54.322308Z",
     "start_time": "2024-06-24T09:33:54.319013Z"
    }
   },
   "cell_type": "code",
   "source": "cv = CountVectorizer(max_features = 5000)",
   "id": "ad4cdfed55ec9ad8",
   "outputs": [],
   "execution_count": 209
  },
  {
   "metadata": {
    "ExecuteTime": {
     "end_time": "2024-06-24T09:33:54.370467Z",
     "start_time": "2024-06-24T09:33:54.363765Z"
    }
   },
   "cell_type": "code",
   "source": "X = cv.fit_transform(edited_df['keyword'])",
   "id": "675654a5e1ca0c17",
   "outputs": [],
   "execution_count": 210
  },
  {
   "metadata": {
    "ExecuteTime": {
     "end_time": "2024-06-24T09:33:54.466646Z",
     "start_time": "2024-06-24T09:33:54.463020Z"
    }
   },
   "cell_type": "code",
   "source": "vectors = X.toarray()",
   "id": "b21147ba37eff0d0",
   "outputs": [],
   "execution_count": 211
  },
  {
   "metadata": {
    "ExecuteTime": {
     "end_time": "2024-06-24T09:33:54.515577Z",
     "start_time": "2024-06-24T09:33:54.511330Z"
    }
   },
   "cell_type": "code",
   "source": "from sklearn.metrics.pairwise import cosine_similarity",
   "id": "f8d077547080dcbe",
   "outputs": [],
   "execution_count": 212
  },
  {
   "metadata": {
    "ExecuteTime": {
     "end_time": "2024-06-24T09:33:54.588766Z",
     "start_time": "2024-06-24T09:33:54.583885Z"
    }
   },
   "cell_type": "code",
   "source": "similarity = cosine_similarity(vectors)",
   "id": "495193a9f56564f5",
   "outputs": [],
   "execution_count": 213
  },
  {
   "metadata": {
    "ExecuteTime": {
     "end_time": "2024-06-24T09:33:54.601349Z",
     "start_time": "2024-06-24T09:33:54.590949Z"
    }
   },
   "cell_type": "code",
   "source": "similarity.shape",
   "id": "7e449cfe9e2458d2",
   "outputs": [
    {
     "data": {
      "text/plain": [
       "(98, 98)"
      ]
     },
     "execution_count": 214,
     "metadata": {},
     "output_type": "execute_result"
    }
   ],
   "execution_count": 214
  },
  {
   "metadata": {
    "ExecuteTime": {
     "end_time": "2024-06-24T09:58:30.274433Z",
     "start_time": "2024-06-24T09:58:30.266353Z"
    }
   },
   "cell_type": "code",
   "source": [
    "def recommend(tv_series):\n",
    "    index = edited_df[edited_df['name'] == tv_series].index[0]\n",
    "    \n",
    "    #top 5 similar movies\n",
    "    similar_tv_series = sorted(list(enumerate(similarity[index])),reverse = True,key = lambda x:x[1])[1:8]\n",
    "    recommended = []\n",
    "    for i in similar_tv_series:\n",
    "        recommended.append(edited_df.iloc[i[0]])\n",
    "        \n",
    "    r = pd.DataFrame(recommended)\n",
    "    return r"
   ],
   "id": "19d8e236d1741d7d",
   "outputs": [],
   "execution_count": 244
  },
  {
   "metadata": {
    "ExecuteTime": {
     "end_time": "2024-06-24T09:58:32.523618Z",
     "start_time": "2024-06-24T09:58:32.512714Z"
    }
   },
   "cell_type": "code",
   "source": "recommend('Stranger Things')",
   "id": "f25352c0155c6615",
   "outputs": [
    {
     "data": {
      "text/plain": [
       "                name                                uniqId  \\\n",
       "38   Sweet Magnolias  797f2eef-2ba3-5ad6-a8ee-fd35c41847e6   \n",
       "43           Halston  8545b9fe-707d-5dad-8a6a-fda51063f374   \n",
       "45        Bridgerton  b4b6a90c-2f80-5e10-bb2a-47029c584ec8   \n",
       "52       The Witcher  be7ed494-c382-5a02-849a-e7a4dd9c3726   \n",
       "83    Anne with an E  698a8ba4-b3cd-57bc-bd97-991a97932e62   \n",
       "100   Altered Carbon  4022092b-9e89-56a6-b45c-9c4597b9395f   \n",
       "113  Shadow and Bone  f1b6efcb-7ec5-56e1-83c1-69696dd6e900   \n",
       "\n",
       "                                               keyword  \n",
       "38   JoAnnaGarciaSwisher BrookeElliott HeatherHeadl...  \n",
       "43   EwanMcGregor BillPullman RebeccaDayan DavidPit...  \n",
       "45   AdjoaAndoh JulieAndrews LorraineAshbourne Jona...  \n",
       "52   HenryCavill AnyaChalotra FreyaAllan JoeyBatey ...  \n",
       "83   AmybethMcNulty GeraldineJames R.H.Thomson Corr...  \n",
       "100  AnthonyMackie LelaLoren SimoneMissick ChrisCon...  \n",
       "113  JessieMeiLi ArchieRenaux BenBarnes FreddyCarte...  "
      ],
      "text/html": [
       "<div>\n",
       "<style scoped>\n",
       "    .dataframe tbody tr th:only-of-type {\n",
       "        vertical-align: middle;\n",
       "    }\n",
       "\n",
       "    .dataframe tbody tr th {\n",
       "        vertical-align: top;\n",
       "    }\n",
       "\n",
       "    .dataframe thead th {\n",
       "        text-align: right;\n",
       "    }\n",
       "</style>\n",
       "<table border=\"1\" class=\"dataframe\">\n",
       "  <thead>\n",
       "    <tr style=\"text-align: right;\">\n",
       "      <th></th>\n",
       "      <th>name</th>\n",
       "      <th>uniqId</th>\n",
       "      <th>keyword</th>\n",
       "    </tr>\n",
       "  </thead>\n",
       "  <tbody>\n",
       "    <tr>\n",
       "      <th>38</th>\n",
       "      <td>Sweet Magnolias</td>\n",
       "      <td>797f2eef-2ba3-5ad6-a8ee-fd35c41847e6</td>\n",
       "      <td>JoAnnaGarciaSwisher BrookeElliott HeatherHeadl...</td>\n",
       "    </tr>\n",
       "    <tr>\n",
       "      <th>43</th>\n",
       "      <td>Halston</td>\n",
       "      <td>8545b9fe-707d-5dad-8a6a-fda51063f374</td>\n",
       "      <td>EwanMcGregor BillPullman RebeccaDayan DavidPit...</td>\n",
       "    </tr>\n",
       "    <tr>\n",
       "      <th>45</th>\n",
       "      <td>Bridgerton</td>\n",
       "      <td>b4b6a90c-2f80-5e10-bb2a-47029c584ec8</td>\n",
       "      <td>AdjoaAndoh JulieAndrews LorraineAshbourne Jona...</td>\n",
       "    </tr>\n",
       "    <tr>\n",
       "      <th>52</th>\n",
       "      <td>The Witcher</td>\n",
       "      <td>be7ed494-c382-5a02-849a-e7a4dd9c3726</td>\n",
       "      <td>HenryCavill AnyaChalotra FreyaAllan JoeyBatey ...</td>\n",
       "    </tr>\n",
       "    <tr>\n",
       "      <th>83</th>\n",
       "      <td>Anne with an E</td>\n",
       "      <td>698a8ba4-b3cd-57bc-bd97-991a97932e62</td>\n",
       "      <td>AmybethMcNulty GeraldineJames R.H.Thomson Corr...</td>\n",
       "    </tr>\n",
       "    <tr>\n",
       "      <th>100</th>\n",
       "      <td>Altered Carbon</td>\n",
       "      <td>4022092b-9e89-56a6-b45c-9c4597b9395f</td>\n",
       "      <td>AnthonyMackie LelaLoren SimoneMissick ChrisCon...</td>\n",
       "    </tr>\n",
       "    <tr>\n",
       "      <th>113</th>\n",
       "      <td>Shadow and Bone</td>\n",
       "      <td>f1b6efcb-7ec5-56e1-83c1-69696dd6e900</td>\n",
       "      <td>JessieMeiLi ArchieRenaux BenBarnes FreddyCarte...</td>\n",
       "    </tr>\n",
       "  </tbody>\n",
       "</table>\n",
       "</div>"
      ]
     },
     "execution_count": 245,
     "metadata": {},
     "output_type": "execute_result"
    }
   ],
   "execution_count": 245
  },
  {
   "metadata": {
    "ExecuteTime": {
     "end_time": "2024-06-24T09:33:54.694440Z",
     "start_time": "2024-06-24T09:33:54.691654Z"
    }
   },
   "cell_type": "code",
   "source": "",
   "id": "62c0f7de53649d88",
   "outputs": [],
   "execution_count": 218
  }
 ],
 "metadata": {
  "kernelspec": {
   "display_name": "Python 3",
   "language": "python",
   "name": "python3"
  },
  "language_info": {
   "codemirror_mode": {
    "name": "ipython",
    "version": 2
   },
   "file_extension": ".py",
   "mimetype": "text/x-python",
   "name": "python",
   "nbconvert_exporter": "python",
   "pygments_lexer": "ipython2",
   "version": "2.7.6"
  }
 },
 "nbformat": 4,
 "nbformat_minor": 5
}
