{
 "cells": [
  {
   "cell_type": "code",
   "id": "initial_id",
   "metadata": {
    "collapsed": true,
    "ExecuteTime": {
     "end_time": "2024-05-13T14:53:48.268152Z",
     "start_time": "2024-05-13T14:53:48.249220Z"
    }
   },
   "source": "import numpy as np",
   "outputs": [],
   "execution_count": 28
  },
  {
   "metadata": {
    "ExecuteTime": {
     "end_time": "2024-05-13T14:53:48.303938Z",
     "start_time": "2024-05-13T14:53:48.268152Z"
    }
   },
   "cell_type": "code",
   "source": [
    "x = np.array([2,4,5])\n",
    "y = np.array([4,2,5])"
   ],
   "id": "2fa456d3bb9bdd99",
   "outputs": [],
   "execution_count": 29
  },
  {
   "metadata": {
    "ExecuteTime": {
     "end_time": "2024-05-13T14:53:48.315322Z",
     "start_time": "2024-05-13T14:53:48.303938Z"
    }
   },
   "cell_type": "code",
   "source": "y + x",
   "id": "fd8d0638c55688d2",
   "outputs": [
    {
     "data": {
      "text/plain": [
       "array([ 6,  6, 10])"
      ]
     },
     "execution_count": 30,
     "metadata": {},
     "output_type": "execute_result"
    }
   ],
   "execution_count": 30
  },
  {
   "metadata": {
    "ExecuteTime": {
     "end_time": "2024-05-13T14:53:48.336255Z",
     "start_time": "2024-05-13T14:53:48.315322Z"
    }
   },
   "cell_type": "code",
   "source": "y - x",
   "id": "92e67a51af28baf5",
   "outputs": [
    {
     "data": {
      "text/plain": [
       "array([ 2, -2,  0])"
      ]
     },
     "execution_count": 31,
     "metadata": {},
     "output_type": "execute_result"
    }
   ],
   "execution_count": 31
  },
  {
   "metadata": {
    "ExecuteTime": {
     "end_time": "2024-05-13T14:53:48.353221Z",
     "start_time": "2024-05-13T14:53:48.336255Z"
    }
   },
   "cell_type": "code",
   "source": "y / x",
   "id": "93796f62a94eea04",
   "outputs": [
    {
     "data": {
      "text/plain": [
       "array([2. , 0.5, 1. ])"
      ]
     },
     "execution_count": 32,
     "metadata": {},
     "output_type": "execute_result"
    }
   ],
   "execution_count": 32
  },
  {
   "metadata": {
    "ExecuteTime": {
     "end_time": "2024-05-13T14:53:48.367809Z",
     "start_time": "2024-05-13T14:53:48.353221Z"
    }
   },
   "cell_type": "code",
   "source": [
    "# dot product\n",
    "y = np.array([2,4,5,6])\n",
    "x = np.array([3,4,5,2])\n",
    "\n",
    "np.dot(y, x) #the result is scalar \n"
   ],
   "id": "19064e266a4b75d9",
   "outputs": [
    {
     "data": {
      "text/plain": [
       "59"
      ]
     },
     "execution_count": 33,
     "metadata": {},
     "output_type": "execute_result"
    }
   ],
   "execution_count": 33
  },
  {
   "metadata": {
    "ExecuteTime": {
     "end_time": "2024-05-13T14:53:48.377541Z",
     "start_time": "2024-05-13T14:53:48.367809Z"
    }
   },
   "cell_type": "code",
   "source": [
    "y = np.array([2,3,4])\n",
    "x = np.array([8,2,1])\n",
    "y * x #Hadamard product approach, the result is vector, it is the main difference with the previous method - the dot product"
   ],
   "id": "f0886abdc7bdaa8c",
   "outputs": [
    {
     "data": {
      "text/plain": [
       "array([16,  6,  4])"
      ]
     },
     "execution_count": 34,
     "metadata": {},
     "output_type": "execute_result"
    }
   ],
   "execution_count": 34
  },
  {
   "metadata": {},
   "cell_type": "markdown",
   "source": "MATRIX MULTIPLICATION",
   "id": "7fca5b1df650d14c"
  },
  {
   "metadata": {
    "ExecuteTime": {
     "end_time": "2024-05-13T14:53:48.385737Z",
     "start_time": "2024-05-13T14:53:48.377541Z"
    }
   },
   "cell_type": "code",
   "source": [
    "mat_a = [[2,4,5],\n",
    "            [1,6,2]]\n",
    "mat_b = [[1,6],\n",
    "            [3,1],\n",
    "            [1,2]]"
   ],
   "id": "aeda3bfe5630634",
   "outputs": [],
   "execution_count": 35
  },
  {
   "metadata": {
    "ExecuteTime": {
     "end_time": "2024-05-13T14:53:48.395480Z",
     "start_time": "2024-05-13T14:53:48.385737Z"
    }
   },
   "cell_type": "code",
   "source": [
    "def matrix_mult(matrix_a, matrix_b):\n",
    "    # First thing we need to do is check for the shapes - the length of matrix A should be the same as the width (number of rows) of matrix B and the width (number of rows) of matrix B should be the same as length of matrix A so the multiplication can be performed.\n",
    "\n",
    "    if len(matrix_a[0]) != len(matrix_b): # we check the length of matrix A first element [0] and a number of elements in B because each element is a row.\n",
    "        raise ValueError(\"Incompatible matrix shape\")\n",
    "    result = []\n",
    "    \n",
    "    for row in range(len(matrix_a)):\n",
    "        new_row = []\n",
    "        for col in range(len(matrix_b[0])):\n",
    "            dot_product = sum(matrix_a[row][k] * matrix_b[k][col] for k in range(len(matrix_b)))\n",
    "            new_row.append(dot_product)\n",
    "        result.append(new_row)\n",
    "    return result"
   ],
   "id": "aab037ac669481f0",
   "outputs": [],
   "execution_count": 36
  },
  {
   "metadata": {
    "ExecuteTime": {
     "end_time": "2024-05-13T14:53:48.404207Z",
     "start_time": "2024-05-13T14:53:48.395480Z"
    }
   },
   "cell_type": "code",
   "source": [
    "res = matrix_mult(mat_a, mat_b)\n",
    "res"
   ],
   "id": "7351e037f0c9ff01",
   "outputs": [
    {
     "data": {
      "text/plain": [
       "[[19, 26], [21, 16]]"
      ]
     },
     "execution_count": 37,
     "metadata": {},
     "output_type": "execute_result"
    }
   ],
   "execution_count": 37
  },
  {
   "metadata": {},
   "cell_type": "markdown",
   "source": [
    "MATRIX TRANSPOSE\n",
    "This used when the matrices are not compatible\n"
   ],
   "id": "3da8d3857b25fa5"
  },
  {
   "metadata": {
    "ExecuteTime": {
     "end_time": "2024-05-13T14:53:48.409729Z",
     "start_time": "2024-05-13T14:53:48.404207Z"
    }
   },
   "cell_type": "code",
   "source": "mat_a",
   "id": "7831c17df4eaa4a2",
   "outputs": [
    {
     "data": {
      "text/plain": [
       "[[2, 4, 5], [1, 6, 2]]"
      ]
     },
     "execution_count": 38,
     "metadata": {},
     "output_type": "execute_result"
    }
   ],
   "execution_count": 38
  },
  {
   "metadata": {
    "ExecuteTime": {
     "end_time": "2024-05-13T14:53:48.416601Z",
     "start_time": "2024-05-13T14:53:48.409729Z"
    }
   },
   "cell_type": "code",
   "source": [
    "def transpose_mat(m):\n",
    "    tm = []\n",
    "    for i in range(len(m[0])):\n",
    "        new_row = []\n",
    "        for j in range(len(m)):\n",
    "            new_row.append(m[j][i])\n",
    "        tm.append(new_row)\n",
    "    return tm"
   ],
   "id": "d9e4cd2354ae0fe1",
   "outputs": [],
   "execution_count": 39
  },
  {
   "metadata": {
    "ExecuteTime": {
     "end_time": "2024-05-13T14:53:48.422794Z",
     "start_time": "2024-05-13T14:53:48.416601Z"
    }
   },
   "cell_type": "code",
   "source": "transpose_mat(mat_a)",
   "id": "4d6622da4d05a88e",
   "outputs": [
    {
     "data": {
      "text/plain": [
       "[[2, 1], [4, 6], [5, 2]]"
      ]
     },
     "execution_count": 40,
     "metadata": {},
     "output_type": "execute_result"
    }
   ],
   "execution_count": 40
  },
  {
   "metadata": {
    "ExecuteTime": {
     "end_time": "2024-05-13T14:53:48.427892Z",
     "start_time": "2024-05-13T14:53:48.422794Z"
    }
   },
   "cell_type": "code",
   "source": [
    "#Sparse_matrces\n",
    "\n",
    "# architecture and efficiency are a key elements\n",
    "\n",
    "m_a = [[0,2,0,0,0],\n",
    "       [0,0,0,0,0],\n",
    "       [0,1,0,0,0],\n",
    "       [0,1,0,0,0],\n",
    "       [0,0,0,0,0]]\n",
    "m_b = [[0,0,0,0,0],\n",
    "       [0,0,0,0,0],\n",
    "       [0,2,0,0,0],\n",
    "       [0,1,0,2,0],\n",
    "       [0,0,0,0,0]]"
   ],
   "id": "bd19b2224e937ece",
   "outputs": [],
   "execution_count": 41
  },
  {
   "metadata": {
    "ExecuteTime": {
     "end_time": "2024-05-13T15:15:58.725234Z",
     "start_time": "2024-05-13T15:15:58.715447Z"
    }
   },
   "cell_type": "code",
   "source": [
    "def sparce_mm(matrix_a, matrix_b): #sparce matrix mutiplication funtion\n",
    "    if len(matrix_a[0]) != len(matrix_b):\n",
    "        return [[]]\n",
    "    \n",
    "    sparce_mat_a = get_useful_values(matrix_a)\n",
    "    sparce_mat_b = get_useful_values(matrix_b)\n",
    "    \n",
    "    matrix_c = [[0] * len(matrix_b[0]) for _ in range(len(matrix_a))] # this line just creates a container, a matrix full of 0 with the shape we want\n",
    "    #print(matrix_c)\n",
    "    for i, k in sparce_mat_a.keys():\n",
    "        for j in range(len(matrix_b[0])):\n",
    "            if (k,j) in sparce_mat_b.keys():\n",
    "                matrix_c[i][j] += sparce_mat_a[(i, k)] * sparce_mat_b[(k, j)]\n",
    "    return matrix_c\n",
    "        \n",
    "def get_useful_values(matrix):\n",
    "    res = {}\n",
    "    for i in range(len(matrix)):\n",
    "        for j in range(len(matrix[0])):\n",
    "            if matrix[i][j] != 0:\n",
    "                res[(i, j)] = matrix[i][j]\n",
    "    return res\n",
    "\n",
    "    #{(0,1):2,}  this is a return form of our dictionary where 0 and 1 is row and column and 2 is a value\n",
    "        \n",
    "    "
   ],
   "id": "6d1c3938aa433033",
   "outputs": [],
   "execution_count": 52
  },
  {
   "metadata": {
    "ExecuteTime": {
     "end_time": "2024-05-13T15:13:10.973861Z",
     "start_time": "2024-05-13T15:13:10.965607Z"
    }
   },
   "cell_type": "code",
   "source": [
    "res = sparce_mm(m_a, m_b)\n",
    "res"
   ],
   "id": "6144d97ec0a3821f",
   "outputs": [
    {
     "data": {
      "text/plain": [
       "[[0, 0, 0, 0, 0],\n",
       " [0, 0, 0, 0, 0],\n",
       " [0, 0, 0, 0, 0],\n",
       " [0, 0, 0, 0, 0],\n",
       " [0, 0, 0, 0, 0]]"
      ]
     },
     "execution_count": 50,
     "metadata": {},
     "output_type": "execute_result"
    }
   ],
   "execution_count": 50
  },
  {
   "metadata": {
    "ExecuteTime": {
     "end_time": "2024-05-13T15:16:07.691986Z",
     "start_time": "2024-05-13T15:16:07.684207Z"
    }
   },
   "cell_type": "code",
   "source": [
    "a = [[0, 2, 0,],\n",
    "     [0,0,0]]\n",
    "b = [[0,1],\n",
    "     [2,0],\n",
    "     [1,0]]\n",
    "res = sparce_mm(a, b)\n",
    "res"
   ],
   "id": "191443e69bb03845",
   "outputs": [
    {
     "name": "stdout",
     "output_type": "stream",
     "text": [
      "[[0, 0], [0, 0]]\n"
     ]
    },
    {
     "data": {
      "text/plain": [
       "[[4, 0], [0, 0]]"
      ]
     },
     "execution_count": 53,
     "metadata": {},
     "output_type": "execute_result"
    }
   ],
   "execution_count": 53
  },
  {
   "metadata": {},
   "cell_type": "code",
   "outputs": [],
   "execution_count": null,
   "source": "",
   "id": "a25aac4479259c98"
  }
 ],
 "metadata": {
  "kernelspec": {
   "display_name": "Python 3",
   "language": "python",
   "name": "python3"
  },
  "language_info": {
   "codemirror_mode": {
    "name": "ipython",
    "version": 2
   },
   "file_extension": ".py",
   "mimetype": "text/x-python",
   "name": "python",
   "nbconvert_exporter": "python",
   "pygments_lexer": "ipython2",
   "version": "2.7.6"
  }
 },
 "nbformat": 4,
 "nbformat_minor": 5
}
