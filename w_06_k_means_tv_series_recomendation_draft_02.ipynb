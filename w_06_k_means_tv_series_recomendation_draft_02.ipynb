{
 "cells": [
  {
   "cell_type": "code",
   "id": "initial_id",
   "metadata": {
    "collapsed": true,
    "ExecuteTime": {
     "end_time": "2024-06-27T20:48:36.727819Z",
     "start_time": "2024-06-27T20:48:36.723773Z"
    }
   },
   "source": [
    "import pandas as pd\n",
    "import numpy as np\n",
    "import seaborn as sns"
   ],
   "outputs": [],
   "execution_count": 136
  },
  {
   "metadata": {
    "ExecuteTime": {
     "end_time": "2024-06-27T20:48:36.799474Z",
     "start_time": "2024-06-27T20:48:36.754399Z"
    }
   },
   "cell_type": "code",
   "source": "df = pd.read_csv('netflix_titles.csv')",
   "id": "cae980582b5db64c",
   "outputs": [],
   "execution_count": 137
  },
  {
   "metadata": {
    "ExecuteTime": {
     "end_time": "2024-06-27T20:48:36.816017Z",
     "start_time": "2024-06-27T20:48:36.800963Z"
    }
   },
   "cell_type": "code",
   "source": "df.head()",
   "id": "6086d1ad7ecf03a0",
   "outputs": [
    {
     "data": {
      "text/plain": [
       "  show_id     type                  title         director  \\\n",
       "0      s1    Movie   Dick Johnson Is Dead  Kirsten Johnson   \n",
       "1      s2  TV Show          Blood & Water              NaN   \n",
       "2      s3  TV Show              Ganglands  Julien Leclercq   \n",
       "3      s4  TV Show  Jailbirds New Orleans              NaN   \n",
       "4      s5  TV Show           Kota Factory              NaN   \n",
       "\n",
       "                                                                                                                                                                                                                                                                                                              cast  \\\n",
       "0                                                                                                                                                                                                                                                                                                              NaN   \n",
       "1  Ama Qamata, Khosi Ngema, Gail Mabalane, Thabang Molaba, Dillon Windvogel, Natasha Thahane, Arno Greeff, Xolile Tshabalala, Getmore Sithole, Cindy Mahlangu, Ryle De Morny, Greteli Fincham, Sello Maake Ka-Ncube, Odwa Gwanya, Mekaila Mathys, Sandi Schultz, Duane Williams, Shamilla Miller, Patrick Mofokeng   \n",
       "2                                                                                                                                                              Sami Bouajila, Tracy Gotoas, Samuel Jouy, Nabiha Akkari, Sofia Lesaffre, Salim Kechiouche, Noureddine Farihi, Geert Van Rampelberg, Bakary Diombera   \n",
       "3                                                                                                                                                                                                                                                                                                              NaN   \n",
       "4                                                                                                                                                                                                         Mayur More, Jitendra Kumar, Ranjan Raj, Alam Khan, Ahsaas Channa, Revathi Pillai, Urvi Singh, Arun Kumar   \n",
       "\n",
       "         country          date_added  release_year rating   duration  \\\n",
       "0  United States  September 25, 2021          2020  PG-13     90 min   \n",
       "1   South Africa  September 24, 2021          2021  TV-MA  2 Seasons   \n",
       "2            NaN  September 24, 2021          2021  TV-MA   1 Season   \n",
       "3            NaN  September 24, 2021          2021  TV-MA   1 Season   \n",
       "4          India  September 24, 2021          2021  TV-MA  2 Seasons   \n",
       "\n",
       "                                                       listed_in  \\\n",
       "0                                                  Documentaries   \n",
       "1                International TV Shows, TV Dramas, TV Mysteries   \n",
       "2  Crime TV Shows, International TV Shows, TV Action & Adventure   \n",
       "3                                         Docuseries, Reality TV   \n",
       "4         International TV Shows, Romantic TV Shows, TV Comedies   \n",
       "\n",
       "                                                                                                                                                description  \n",
       "0  As her father nears the end of his life, filmmaker Kirsten Johnson stages his death in inventive and comical ways to help them both face the inevitable.  \n",
       "1       After crossing paths at a party, a Cape Town teen sets out to prove whether a private-school swimming star is her sister who was abducted at birth.  \n",
       "2        To protect his family from a powerful drug lord, skilled thief Mehdi and his expert team of robbers are pulled into a violent and deadly turf war.  \n",
       "3       Feuds, flirtations and toilet talk go down among the incarcerated women at the Orleans Justice Center in New Orleans on this gritty reality series.  \n",
       "4  In a city of coaching centers known to train India’s finest collegiate minds, an earnest but unexceptional student and his friends navigate campus life.  "
      ],
      "text/html": [
       "<div>\n",
       "<style scoped>\n",
       "    .dataframe tbody tr th:only-of-type {\n",
       "        vertical-align: middle;\n",
       "    }\n",
       "\n",
       "    .dataframe tbody tr th {\n",
       "        vertical-align: top;\n",
       "    }\n",
       "\n",
       "    .dataframe thead th {\n",
       "        text-align: right;\n",
       "    }\n",
       "</style>\n",
       "<table border=\"1\" class=\"dataframe\">\n",
       "  <thead>\n",
       "    <tr style=\"text-align: right;\">\n",
       "      <th></th>\n",
       "      <th>show_id</th>\n",
       "      <th>type</th>\n",
       "      <th>title</th>\n",
       "      <th>director</th>\n",
       "      <th>cast</th>\n",
       "      <th>country</th>\n",
       "      <th>date_added</th>\n",
       "      <th>release_year</th>\n",
       "      <th>rating</th>\n",
       "      <th>duration</th>\n",
       "      <th>listed_in</th>\n",
       "      <th>description</th>\n",
       "    </tr>\n",
       "  </thead>\n",
       "  <tbody>\n",
       "    <tr>\n",
       "      <th>0</th>\n",
       "      <td>s1</td>\n",
       "      <td>Movie</td>\n",
       "      <td>Dick Johnson Is Dead</td>\n",
       "      <td>Kirsten Johnson</td>\n",
       "      <td>NaN</td>\n",
       "      <td>United States</td>\n",
       "      <td>September 25, 2021</td>\n",
       "      <td>2020</td>\n",
       "      <td>PG-13</td>\n",
       "      <td>90 min</td>\n",
       "      <td>Documentaries</td>\n",
       "      <td>As her father nears the end of his life, filmmaker Kirsten Johnson stages his death in inventive and comical ways to help them both face the inevitable.</td>\n",
       "    </tr>\n",
       "    <tr>\n",
       "      <th>1</th>\n",
       "      <td>s2</td>\n",
       "      <td>TV Show</td>\n",
       "      <td>Blood &amp; Water</td>\n",
       "      <td>NaN</td>\n",
       "      <td>Ama Qamata, Khosi Ngema, Gail Mabalane, Thabang Molaba, Dillon Windvogel, Natasha Thahane, Arno Greeff, Xolile Tshabalala, Getmore Sithole, Cindy Mahlangu, Ryle De Morny, Greteli Fincham, Sello Maake Ka-Ncube, Odwa Gwanya, Mekaila Mathys, Sandi Schultz, Duane Williams, Shamilla Miller, Patrick Mofokeng</td>\n",
       "      <td>South Africa</td>\n",
       "      <td>September 24, 2021</td>\n",
       "      <td>2021</td>\n",
       "      <td>TV-MA</td>\n",
       "      <td>2 Seasons</td>\n",
       "      <td>International TV Shows, TV Dramas, TV Mysteries</td>\n",
       "      <td>After crossing paths at a party, a Cape Town teen sets out to prove whether a private-school swimming star is her sister who was abducted at birth.</td>\n",
       "    </tr>\n",
       "    <tr>\n",
       "      <th>2</th>\n",
       "      <td>s3</td>\n",
       "      <td>TV Show</td>\n",
       "      <td>Ganglands</td>\n",
       "      <td>Julien Leclercq</td>\n",
       "      <td>Sami Bouajila, Tracy Gotoas, Samuel Jouy, Nabiha Akkari, Sofia Lesaffre, Salim Kechiouche, Noureddine Farihi, Geert Van Rampelberg, Bakary Diombera</td>\n",
       "      <td>NaN</td>\n",
       "      <td>September 24, 2021</td>\n",
       "      <td>2021</td>\n",
       "      <td>TV-MA</td>\n",
       "      <td>1 Season</td>\n",
       "      <td>Crime TV Shows, International TV Shows, TV Action &amp; Adventure</td>\n",
       "      <td>To protect his family from a powerful drug lord, skilled thief Mehdi and his expert team of robbers are pulled into a violent and deadly turf war.</td>\n",
       "    </tr>\n",
       "    <tr>\n",
       "      <th>3</th>\n",
       "      <td>s4</td>\n",
       "      <td>TV Show</td>\n",
       "      <td>Jailbirds New Orleans</td>\n",
       "      <td>NaN</td>\n",
       "      <td>NaN</td>\n",
       "      <td>NaN</td>\n",
       "      <td>September 24, 2021</td>\n",
       "      <td>2021</td>\n",
       "      <td>TV-MA</td>\n",
       "      <td>1 Season</td>\n",
       "      <td>Docuseries, Reality TV</td>\n",
       "      <td>Feuds, flirtations and toilet talk go down among the incarcerated women at the Orleans Justice Center in New Orleans on this gritty reality series.</td>\n",
       "    </tr>\n",
       "    <tr>\n",
       "      <th>4</th>\n",
       "      <td>s5</td>\n",
       "      <td>TV Show</td>\n",
       "      <td>Kota Factory</td>\n",
       "      <td>NaN</td>\n",
       "      <td>Mayur More, Jitendra Kumar, Ranjan Raj, Alam Khan, Ahsaas Channa, Revathi Pillai, Urvi Singh, Arun Kumar</td>\n",
       "      <td>India</td>\n",
       "      <td>September 24, 2021</td>\n",
       "      <td>2021</td>\n",
       "      <td>TV-MA</td>\n",
       "      <td>2 Seasons</td>\n",
       "      <td>International TV Shows, Romantic TV Shows, TV Comedies</td>\n",
       "      <td>In a city of coaching centers known to train India’s finest collegiate minds, an earnest but unexceptional student and his friends navigate campus life.</td>\n",
       "    </tr>\n",
       "  </tbody>\n",
       "</table>\n",
       "</div>"
      ]
     },
     "execution_count": 138,
     "metadata": {},
     "output_type": "execute_result"
    }
   ],
   "execution_count": 138
  },
  {
   "metadata": {
    "ExecuteTime": {
     "end_time": "2024-06-27T20:48:36.833160Z",
     "start_time": "2024-06-27T20:48:36.816938Z"
    }
   },
   "cell_type": "code",
   "source": [
    "df.drop(df.loc[df['type']=='Movie'].index, inplace=True)\n",
    "tv_series_df = df.reset_index(drop=True)\n",
    "tv_series_df.tail()"
   ],
   "id": "3a15165c2439e443",
   "outputs": [
    {
     "data": {
      "text/plain": [
       "     show_id     type               title director  \\\n",
       "2671   s8796  TV Show     Yu-Gi-Oh! Arc-V      NaN   \n",
       "2672   s8797  TV Show          Yunus Emre      NaN   \n",
       "2673   s8798  TV Show           Zak Storm      NaN   \n",
       "2674   s8801  TV Show  Zindagi Gulzar Hai      NaN   \n",
       "2675   s8804  TV Show         Zombie Dumb      NaN   \n",
       "\n",
       "                                                                                                                                                                                                                                                                cast  \\\n",
       "2671                                                                                                                                                                            Mike Liscio, Emily Bauer, Billy Bob Thompson, Alyson Leigh Rosenfeld, Michael Crouch   \n",
       "2672  Gökhan Atalay, Payidar Tüfekçioglu, Baran Akbulut, Mehmet Çepiç, Seda Tosun, Mehmet Ali Tuncer, Asuman Çakır, Müge Uyar, Rüzgar Aksoy, Ergun Taş, Sedat Erdiş, Ahmet Talay, Umut Tanyolu, Murat Ercanlı, Birand Tunca, Atilla Kiliç, Saygin Asan, Emrah Girgin   \n",
       "2673                                                                                                                                         Michael Johnston, Jessica Gee-George, Christine Marie Cabanos, Christopher Smith, Max Mittelman, Reba Buhr, Kyle Hebert   \n",
       "2674                                                                                                                        Sanam Saeed, Fawad Khan, Ayesha Omer, Mehreen Raheel, Sheheryar Munawar, Samina Peerzada, Waseem Abbas, Javed Sheikh, Hina Khawaja Bayat   \n",
       "2675                                                                                                                                                                                                                                                             NaN   \n",
       "\n",
       "                                            country          date_added  \\\n",
       "2671                                  Japan, Canada         May 1, 2018   \n",
       "2672                                         Turkey    January 17, 2017   \n",
       "2673  United States, France, South Korea, Indonesia  September 13, 2018   \n",
       "2674                                       Pakistan   December 15, 2016   \n",
       "2675                                            NaN        July 1, 2019   \n",
       "\n",
       "      release_year rating   duration  \\\n",
       "2671          2015  TV-Y7  2 Seasons   \n",
       "2672          2016  TV-PG  2 Seasons   \n",
       "2673          2016  TV-Y7  3 Seasons   \n",
       "2674          2012  TV-PG   1 Season   \n",
       "2675          2018  TV-Y7  2 Seasons   \n",
       "\n",
       "                                                 listed_in  \\\n",
       "2671                                Anime Series, Kids' TV   \n",
       "2672                     International TV Shows, TV Dramas   \n",
       "2673                                              Kids' TV   \n",
       "2674  International TV Shows, Romantic TV Shows, TV Dramas   \n",
       "2675                Kids' TV, Korean TV Shows, TV Comedies   \n",
       "\n",
       "                                                                                                                                                description  \n",
       "2671      Now that he's discovered the Pendulum Summoning technique, Yuya's dream of becoming the greatest \"dueltainer\" is in reach – but it won't be easy!  \n",
       "2672    During the Mongol invasions, Yunus Emre leaves his home to travel across the Ottoman Empire, defying hardships and temptations to become a dervish.  \n",
       "2673             Teen surfer Zak Storm is mysteriously transported to the Bermuda Triangle, where he becomes the captain of a magical ship full of misfits.  \n",
       "2674  Strong-willed, middle-class Kashaf and carefree, wealthy Zaroon meet in college, but before love can take root, they each have some growing up to do.  \n",
       "2675                               While living alone in a spooky town, a young girl befriends a motley crew of zombie children with diverse personalities.  "
      ],
      "text/html": [
       "<div>\n",
       "<style scoped>\n",
       "    .dataframe tbody tr th:only-of-type {\n",
       "        vertical-align: middle;\n",
       "    }\n",
       "\n",
       "    .dataframe tbody tr th {\n",
       "        vertical-align: top;\n",
       "    }\n",
       "\n",
       "    .dataframe thead th {\n",
       "        text-align: right;\n",
       "    }\n",
       "</style>\n",
       "<table border=\"1\" class=\"dataframe\">\n",
       "  <thead>\n",
       "    <tr style=\"text-align: right;\">\n",
       "      <th></th>\n",
       "      <th>show_id</th>\n",
       "      <th>type</th>\n",
       "      <th>title</th>\n",
       "      <th>director</th>\n",
       "      <th>cast</th>\n",
       "      <th>country</th>\n",
       "      <th>date_added</th>\n",
       "      <th>release_year</th>\n",
       "      <th>rating</th>\n",
       "      <th>duration</th>\n",
       "      <th>listed_in</th>\n",
       "      <th>description</th>\n",
       "    </tr>\n",
       "  </thead>\n",
       "  <tbody>\n",
       "    <tr>\n",
       "      <th>2671</th>\n",
       "      <td>s8796</td>\n",
       "      <td>TV Show</td>\n",
       "      <td>Yu-Gi-Oh! Arc-V</td>\n",
       "      <td>NaN</td>\n",
       "      <td>Mike Liscio, Emily Bauer, Billy Bob Thompson, Alyson Leigh Rosenfeld, Michael Crouch</td>\n",
       "      <td>Japan, Canada</td>\n",
       "      <td>May 1, 2018</td>\n",
       "      <td>2015</td>\n",
       "      <td>TV-Y7</td>\n",
       "      <td>2 Seasons</td>\n",
       "      <td>Anime Series, Kids' TV</td>\n",
       "      <td>Now that he's discovered the Pendulum Summoning technique, Yuya's dream of becoming the greatest \"dueltainer\" is in reach – but it won't be easy!</td>\n",
       "    </tr>\n",
       "    <tr>\n",
       "      <th>2672</th>\n",
       "      <td>s8797</td>\n",
       "      <td>TV Show</td>\n",
       "      <td>Yunus Emre</td>\n",
       "      <td>NaN</td>\n",
       "      <td>Gökhan Atalay, Payidar Tüfekçioglu, Baran Akbulut, Mehmet Çepiç, Seda Tosun, Mehmet Ali Tuncer, Asuman Çakır, Müge Uyar, Rüzgar Aksoy, Ergun Taş, Sedat Erdiş, Ahmet Talay, Umut Tanyolu, Murat Ercanlı, Birand Tunca, Atilla Kiliç, Saygin Asan, Emrah Girgin</td>\n",
       "      <td>Turkey</td>\n",
       "      <td>January 17, 2017</td>\n",
       "      <td>2016</td>\n",
       "      <td>TV-PG</td>\n",
       "      <td>2 Seasons</td>\n",
       "      <td>International TV Shows, TV Dramas</td>\n",
       "      <td>During the Mongol invasions, Yunus Emre leaves his home to travel across the Ottoman Empire, defying hardships and temptations to become a dervish.</td>\n",
       "    </tr>\n",
       "    <tr>\n",
       "      <th>2673</th>\n",
       "      <td>s8798</td>\n",
       "      <td>TV Show</td>\n",
       "      <td>Zak Storm</td>\n",
       "      <td>NaN</td>\n",
       "      <td>Michael Johnston, Jessica Gee-George, Christine Marie Cabanos, Christopher Smith, Max Mittelman, Reba Buhr, Kyle Hebert</td>\n",
       "      <td>United States, France, South Korea, Indonesia</td>\n",
       "      <td>September 13, 2018</td>\n",
       "      <td>2016</td>\n",
       "      <td>TV-Y7</td>\n",
       "      <td>3 Seasons</td>\n",
       "      <td>Kids' TV</td>\n",
       "      <td>Teen surfer Zak Storm is mysteriously transported to the Bermuda Triangle, where he becomes the captain of a magical ship full of misfits.</td>\n",
       "    </tr>\n",
       "    <tr>\n",
       "      <th>2674</th>\n",
       "      <td>s8801</td>\n",
       "      <td>TV Show</td>\n",
       "      <td>Zindagi Gulzar Hai</td>\n",
       "      <td>NaN</td>\n",
       "      <td>Sanam Saeed, Fawad Khan, Ayesha Omer, Mehreen Raheel, Sheheryar Munawar, Samina Peerzada, Waseem Abbas, Javed Sheikh, Hina Khawaja Bayat</td>\n",
       "      <td>Pakistan</td>\n",
       "      <td>December 15, 2016</td>\n",
       "      <td>2012</td>\n",
       "      <td>TV-PG</td>\n",
       "      <td>1 Season</td>\n",
       "      <td>International TV Shows, Romantic TV Shows, TV Dramas</td>\n",
       "      <td>Strong-willed, middle-class Kashaf and carefree, wealthy Zaroon meet in college, but before love can take root, they each have some growing up to do.</td>\n",
       "    </tr>\n",
       "    <tr>\n",
       "      <th>2675</th>\n",
       "      <td>s8804</td>\n",
       "      <td>TV Show</td>\n",
       "      <td>Zombie Dumb</td>\n",
       "      <td>NaN</td>\n",
       "      <td>NaN</td>\n",
       "      <td>NaN</td>\n",
       "      <td>July 1, 2019</td>\n",
       "      <td>2018</td>\n",
       "      <td>TV-Y7</td>\n",
       "      <td>2 Seasons</td>\n",
       "      <td>Kids' TV, Korean TV Shows, TV Comedies</td>\n",
       "      <td>While living alone in a spooky town, a young girl befriends a motley crew of zombie children with diverse personalities.</td>\n",
       "    </tr>\n",
       "  </tbody>\n",
       "</table>\n",
       "</div>"
      ]
     },
     "execution_count": 139,
     "metadata": {},
     "output_type": "execute_result"
    }
   ],
   "execution_count": 139
  },
  {
   "metadata": {
    "ExecuteTime": {
     "end_time": "2024-06-27T20:48:36.948651Z",
     "start_time": "2024-06-27T20:48:36.834434Z"
    }
   },
   "cell_type": "code",
   "source": "sns.heatmap(tv_series_df.isnull(), yticklabels=False, cbar=False, cmap=\"viridis\")",
   "id": "60ddad173576d2df",
   "outputs": [
    {
     "data": {
      "text/plain": [
       "<Axes: >"
      ]
     },
     "execution_count": 140,
     "metadata": {},
     "output_type": "execute_result"
    },
    {
     "data": {
      "text/plain": [
       "<Figure size 800x550 with 1 Axes>"
      ],
      "image/png": "[encoded data removed]"
     },
     "metadata": {},
     "output_type": "display_data"
    }
   ],
   "execution_count": 140
  },
  {
   "metadata": {
    "ExecuteTime": {
     "end_time": "2024-06-27T20:48:36.953272Z",
     "start_time": "2024-06-27T20:48:36.949432Z"
    }
   },
   "cell_type": "code",
   "source": "tv_series_df.drop(['type', 'director', 'duration', 'cast', 'date_added', 'release_year', 'rating', 'duration', 'description'], inplace=True, axis=1)",
   "id": "a876cdeef13bde02",
   "outputs": [],
   "execution_count": 141
  },
  {
   "metadata": {
    "ExecuteTime": {
     "end_time": "2024-06-27T20:48:36.973154Z",
     "start_time": "2024-06-27T20:48:36.954641Z"
    }
   },
   "cell_type": "code",
   "source": "tv_series_df.head()",
   "id": "a7b34ce6f332b46",
   "outputs": [
    {
     "data": {
      "text/plain": [
       "  show_id                  title       country  \\\n",
       "0      s2          Blood & Water  South Africa   \n",
       "1      s3              Ganglands           NaN   \n",
       "2      s4  Jailbirds New Orleans           NaN   \n",
       "3      s5           Kota Factory         India   \n",
       "4      s6          Midnight Mass           NaN   \n",
       "\n",
       "                                                       listed_in  \n",
       "0                International TV Shows, TV Dramas, TV Mysteries  \n",
       "1  Crime TV Shows, International TV Shows, TV Action & Adventure  \n",
       "2                                         Docuseries, Reality TV  \n",
       "3         International TV Shows, Romantic TV Shows, TV Comedies  \n",
       "4                             TV Dramas, TV Horror, TV Mysteries  "
      ],
      "text/html": [
       "<div>\n",
       "<style scoped>\n",
       "    .dataframe tbody tr th:only-of-type {\n",
       "        vertical-align: middle;\n",
       "    }\n",
       "\n",
       "    .dataframe tbody tr th {\n",
       "        vertical-align: top;\n",
       "    }\n",
       "\n",
       "    .dataframe thead th {\n",
       "        text-align: right;\n",
       "    }\n",
       "</style>\n",
       "<table border=\"1\" class=\"dataframe\">\n",
       "  <thead>\n",
       "    <tr style=\"text-align: right;\">\n",
       "      <th></th>\n",
       "      <th>show_id</th>\n",
       "      <th>title</th>\n",
       "      <th>country</th>\n",
       "      <th>listed_in</th>\n",
       "    </tr>\n",
       "  </thead>\n",
       "  <tbody>\n",
       "    <tr>\n",
       "      <th>0</th>\n",
       "      <td>s2</td>\n",
       "      <td>Blood &amp; Water</td>\n",
       "      <td>South Africa</td>\n",
       "      <td>International TV Shows, TV Dramas, TV Mysteries</td>\n",
       "    </tr>\n",
       "    <tr>\n",
       "      <th>1</th>\n",
       "      <td>s3</td>\n",
       "      <td>Ganglands</td>\n",
       "      <td>NaN</td>\n",
       "      <td>Crime TV Shows, International TV Shows, TV Action &amp; Adventure</td>\n",
       "    </tr>\n",
       "    <tr>\n",
       "      <th>2</th>\n",
       "      <td>s4</td>\n",
       "      <td>Jailbirds New Orleans</td>\n",
       "      <td>NaN</td>\n",
       "      <td>Docuseries, Reality TV</td>\n",
       "    </tr>\n",
       "    <tr>\n",
       "      <th>3</th>\n",
       "      <td>s5</td>\n",
       "      <td>Kota Factory</td>\n",
       "      <td>India</td>\n",
       "      <td>International TV Shows, Romantic TV Shows, TV Comedies</td>\n",
       "    </tr>\n",
       "    <tr>\n",
       "      <th>4</th>\n",
       "      <td>s6</td>\n",
       "      <td>Midnight Mass</td>\n",
       "      <td>NaN</td>\n",
       "      <td>TV Dramas, TV Horror, TV Mysteries</td>\n",
       "    </tr>\n",
       "  </tbody>\n",
       "</table>\n",
       "</div>"
      ]
     },
     "execution_count": 142,
     "metadata": {},
     "output_type": "execute_result"
    }
   ],
   "execution_count": 142
  },
  {
   "metadata": {
    "ExecuteTime": {
     "end_time": "2024-06-27T20:48:36.991078Z",
     "start_time": "2024-06-27T20:48:36.974019Z"
    }
   },
   "cell_type": "code",
   "source": [
    "tv_series_df['listed_in'] =  tv_series_df['listed_in'].apply(lambda x: x.upper())\n",
    "tv_series_df['country']=tv_series_df['country'].fillna('-')\n",
    "tv_series_df['country'] =  tv_series_df['country'].apply(lambda x: x.upper())\n",
    "tv_series_df.head()"
   ],
   "id": "bd2c9ab1e3ff0dd1",
   "outputs": [
    {
     "data": {
      "text/plain": [
       "  show_id                  title       country  \\\n",
       "0      s2          Blood & Water  SOUTH AFRICA   \n",
       "1      s3              Ganglands             -   \n",
       "2      s4  Jailbirds New Orleans             -   \n",
       "3      s5           Kota Factory         INDIA   \n",
       "4      s6          Midnight Mass             -   \n",
       "\n",
       "                                                       listed_in  \n",
       "0                INTERNATIONAL TV SHOWS, TV DRAMAS, TV MYSTERIES  \n",
       "1  CRIME TV SHOWS, INTERNATIONAL TV SHOWS, TV ACTION & ADVENTURE  \n",
       "2                                         DOCUSERIES, REALITY TV  \n",
       "3         INTERNATIONAL TV SHOWS, ROMANTIC TV SHOWS, TV COMEDIES  \n",
       "4                             TV DRAMAS, TV HORROR, TV MYSTERIES  "
      ],
      "text/html": [
       "<div>\n",
       "<style scoped>\n",
       "    .dataframe tbody tr th:only-of-type {\n",
       "        vertical-align: middle;\n",
       "    }\n",
       "\n",
       "    .dataframe tbody tr th {\n",
       "        vertical-align: top;\n",
       "    }\n",
       "\n",
       "    .dataframe thead th {\n",
       "        text-align: right;\n",
       "    }\n",
       "</style>\n",
       "<table border=\"1\" class=\"dataframe\">\n",
       "  <thead>\n",
       "    <tr style=\"text-align: right;\">\n",
       "      <th></th>\n",
       "      <th>show_id</th>\n",
       "      <th>title</th>\n",
       "      <th>country</th>\n",
       "      <th>listed_in</th>\n",
       "    </tr>\n",
       "  </thead>\n",
       "  <tbody>\n",
       "    <tr>\n",
       "      <th>0</th>\n",
       "      <td>s2</td>\n",
       "      <td>Blood &amp; Water</td>\n",
       "      <td>SOUTH AFRICA</td>\n",
       "      <td>INTERNATIONAL TV SHOWS, TV DRAMAS, TV MYSTERIES</td>\n",
       "    </tr>\n",
       "    <tr>\n",
       "      <th>1</th>\n",
       "      <td>s3</td>\n",
       "      <td>Ganglands</td>\n",
       "      <td>-</td>\n",
       "      <td>CRIME TV SHOWS, INTERNATIONAL TV SHOWS, TV ACTION &amp; ADVENTURE</td>\n",
       "    </tr>\n",
       "    <tr>\n",
       "      <th>2</th>\n",
       "      <td>s4</td>\n",
       "      <td>Jailbirds New Orleans</td>\n",
       "      <td>-</td>\n",
       "      <td>DOCUSERIES, REALITY TV</td>\n",
       "    </tr>\n",
       "    <tr>\n",
       "      <th>3</th>\n",
       "      <td>s5</td>\n",
       "      <td>Kota Factory</td>\n",
       "      <td>INDIA</td>\n",
       "      <td>INTERNATIONAL TV SHOWS, ROMANTIC TV SHOWS, TV COMEDIES</td>\n",
       "    </tr>\n",
       "    <tr>\n",
       "      <th>4</th>\n",
       "      <td>s6</td>\n",
       "      <td>Midnight Mass</td>\n",
       "      <td>-</td>\n",
       "      <td>TV DRAMAS, TV HORROR, TV MYSTERIES</td>\n",
       "    </tr>\n",
       "  </tbody>\n",
       "</table>\n",
       "</div>"
      ]
     },
     "execution_count": 143,
     "metadata": {},
     "output_type": "execute_result"
    }
   ],
   "execution_count": 143
  },
  {
   "metadata": {
    "ExecuteTime": {
     "end_time": "2024-06-27T20:48:37.006574Z",
     "start_time": "2024-06-27T20:48:36.992045Z"
    }
   },
   "cell_type": "code",
   "source": [
    "\n",
    "tv_series_df['listed_in'] = tv_series_df['listed_in'].str.replace(r'[^a-zA-Z,]+', '',regex=True)\n",
    "tv_series_df['listed_in']"
   ],
   "id": "688d2863a0cd7bae",
   "outputs": [
    {
     "data": {
      "text/plain": [
       "0                 INTERNATIONALTVSHOWS,TVDRAMAS,TVMYSTERIES\n",
       "1       CRIMETVSHOWS,INTERNATIONALTVSHOWS,TVACTIONADVENTURE\n",
       "2                                      DOCUSERIES,REALITYTV\n",
       "3           INTERNATIONALTVSHOWS,ROMANTICTVSHOWS,TVCOMEDIES\n",
       "4                             TVDRAMAS,TVHORROR,TVMYSTERIES\n",
       "                               ...                         \n",
       "2671                                     ANIMESERIES,KIDSTV\n",
       "2672                          INTERNATIONALTVSHOWS,TVDRAMAS\n",
       "2673                                                 KIDSTV\n",
       "2674          INTERNATIONALTVSHOWS,ROMANTICTVSHOWS,TVDRAMAS\n",
       "2675                        KIDSTV,KOREANTVSHOWS,TVCOMEDIES\n",
       "Name: listed_in, Length: 2676, dtype: object"
      ]
     },
     "execution_count": 144,
     "metadata": {},
     "output_type": "execute_result"
    }
   ],
   "execution_count": 144
  },
  {
   "metadata": {
    "ExecuteTime": {
     "end_time": "2024-06-27T20:48:37.026512Z",
     "start_time": "2024-06-27T20:48:37.007175Z"
    }
   },
   "cell_type": "code",
   "source": [
    "df_split_genre = tv_series_df['listed_in'].str.split(',', expand=True)\n",
    "df_split_country = tv_series_df['country'].str.split(',', expand=True)\n",
    "df_split_country = df_split_country.iloc[:, :3]\n",
    "df_split_genre.columns = [f'genre_{i+1}' for i in range(df_split_genre.shape[1])]\n",
    "df_split_country.columns = [f'country_{i+1}' for i in range(df_split_country.shape[1])]\n",
    "df_split = pd.concat([df_split_genre, df_split_country], axis=1 )\n",
    "df_split= df_split.fillna('-')\n",
    "df_split\n"
   ],
   "id": "9ed995a26ea7f940",
   "outputs": [
    {
     "data": {
      "text/plain": [
       "                   genre_1               genre_2            genre_3  \\\n",
       "0     INTERNATIONALTVSHOWS              TVDRAMAS        TVMYSTERIES   \n",
       "1             CRIMETVSHOWS  INTERNATIONALTVSHOWS  TVACTIONADVENTURE   \n",
       "2               DOCUSERIES             REALITYTV                  -   \n",
       "3     INTERNATIONALTVSHOWS       ROMANTICTVSHOWS         TVCOMEDIES   \n",
       "4                 TVDRAMAS              TVHORROR        TVMYSTERIES   \n",
       "...                    ...                   ...                ...   \n",
       "2671           ANIMESERIES                KIDSTV                  -   \n",
       "2672  INTERNATIONALTVSHOWS              TVDRAMAS                  -   \n",
       "2673                KIDSTV                     -                  -   \n",
       "2674  INTERNATIONALTVSHOWS       ROMANTICTVSHOWS           TVDRAMAS   \n",
       "2675                KIDSTV         KOREANTVSHOWS         TVCOMEDIES   \n",
       "\n",
       "          country_1 country_2     country_3  \n",
       "0      SOUTH AFRICA         -             -  \n",
       "1                 -         -             -  \n",
       "2                 -         -             -  \n",
       "3             INDIA         -             -  \n",
       "4                 -         -             -  \n",
       "...             ...       ...           ...  \n",
       "2671          JAPAN    CANADA             -  \n",
       "2672         TURKEY         -             -  \n",
       "2673  UNITED STATES    FRANCE   SOUTH KOREA  \n",
       "2674       PAKISTAN         -             -  \n",
       "2675              -         -             -  \n",
       "\n",
       "[2676 rows x 6 columns]"
      ],
      "text/html": [
       "<div>\n",
       "<style scoped>\n",
       "    .dataframe tbody tr th:only-of-type {\n",
       "        vertical-align: middle;\n",
       "    }\n",
       "\n",
       "    .dataframe tbody tr th {\n",
       "        vertical-align: top;\n",
       "    }\n",
       "\n",
       "    .dataframe thead th {\n",
       "        text-align: right;\n",
       "    }\n",
       "</style>\n",
       "<table border=\"1\" class=\"dataframe\">\n",
       "  <thead>\n",
       "    <tr style=\"text-align: right;\">\n",
       "      <th></th>\n",
       "      <th>genre_1</th>\n",
       "      <th>genre_2</th>\n",
       "      <th>genre_3</th>\n",
       "      <th>country_1</th>\n",
       "      <th>country_2</th>\n",
       "      <th>country_3</th>\n",
       "    </tr>\n",
       "  </thead>\n",
       "  <tbody>\n",
       "    <tr>\n",
       "      <th>0</th>\n",
       "      <td>INTERNATIONALTVSHOWS</td>\n",
       "      <td>TVDRAMAS</td>\n",
       "      <td>TVMYSTERIES</td>\n",
       "      <td>SOUTH AFRICA</td>\n",
       "      <td>-</td>\n",
       "      <td>-</td>\n",
       "    </tr>\n",
       "    <tr>\n",
       "      <th>1</th>\n",
       "      <td>CRIMETVSHOWS</td>\n",
       "      <td>INTERNATIONALTVSHOWS</td>\n",
       "      <td>TVACTIONADVENTURE</td>\n",
       "      <td>-</td>\n",
       "      <td>-</td>\n",
       "      <td>-</td>\n",
       "    </tr>\n",
       "    <tr>\n",
       "      <th>2</th>\n",
       "      <td>DOCUSERIES</td>\n",
       "      <td>REALITYTV</td>\n",
       "      <td>-</td>\n",
       "      <td>-</td>\n",
       "      <td>-</td>\n",
       "      <td>-</td>\n",
       "    </tr>\n",
       "    <tr>\n",
       "      <th>3</th>\n",
       "      <td>INTERNATIONALTVSHOWS</td>\n",
       "      <td>ROMANTICTVSHOWS</td>\n",
       "      <td>TVCOMEDIES</td>\n",
       "      <td>INDIA</td>\n",
       "      <td>-</td>\n",
       "      <td>-</td>\n",
       "    </tr>\n",
       "    <tr>\n",
       "      <th>4</th>\n",
       "      <td>TVDRAMAS</td>\n",
       "      <td>TVHORROR</td>\n",
       "      <td>TVMYSTERIES</td>\n",
       "      <td>-</td>\n",
       "      <td>-</td>\n",
       "      <td>-</td>\n",
       "    </tr>\n",
       "    <tr>\n",
       "      <th>...</th>\n",
       "      <td>...</td>\n",
       "      <td>...</td>\n",
       "      <td>...</td>\n",
       "      <td>...</td>\n",
       "      <td>...</td>\n",
       "      <td>...</td>\n",
       "    </tr>\n",
       "    <tr>\n",
       "      <th>2671</th>\n",
       "      <td>ANIMESERIES</td>\n",
       "      <td>KIDSTV</td>\n",
       "      <td>-</td>\n",
       "      <td>JAPAN</td>\n",
       "      <td>CANADA</td>\n",
       "      <td>-</td>\n",
       "    </tr>\n",
       "    <tr>\n",
       "      <th>2672</th>\n",
       "      <td>INTERNATIONALTVSHOWS</td>\n",
       "      <td>TVDRAMAS</td>\n",
       "      <td>-</td>\n",
       "      <td>TURKEY</td>\n",
       "      <td>-</td>\n",
       "      <td>-</td>\n",
       "    </tr>\n",
       "    <tr>\n",
       "      <th>2673</th>\n",
       "      <td>KIDSTV</td>\n",
       "      <td>-</td>\n",
       "      <td>-</td>\n",
       "      <td>UNITED STATES</td>\n",
       "      <td>FRANCE</td>\n",
       "      <td>SOUTH KOREA</td>\n",
       "    </tr>\n",
       "    <tr>\n",
       "      <th>2674</th>\n",
       "      <td>INTERNATIONALTVSHOWS</td>\n",
       "      <td>ROMANTICTVSHOWS</td>\n",
       "      <td>TVDRAMAS</td>\n",
       "      <td>PAKISTAN</td>\n",
       "      <td>-</td>\n",
       "      <td>-</td>\n",
       "    </tr>\n",
       "    <tr>\n",
       "      <th>2675</th>\n",
       "      <td>KIDSTV</td>\n",
       "      <td>KOREANTVSHOWS</td>\n",
       "      <td>TVCOMEDIES</td>\n",
       "      <td>-</td>\n",
       "      <td>-</td>\n",
       "      <td>-</td>\n",
       "    </tr>\n",
       "  </tbody>\n",
       "</table>\n",
       "<p>2676 rows × 6 columns</p>\n",
       "</div>"
      ]
     },
     "execution_count": 145,
     "metadata": {},
     "output_type": "execute_result"
    }
   ],
   "execution_count": 145
  },
  {
   "metadata": {
    "ExecuteTime": {
     "end_time": "2024-06-27T20:48:37.033563Z",
     "start_time": "2024-06-27T20:48:37.027328Z"
    }
   },
   "cell_type": "code",
   "source": [
    "merged_df = pd.concat([tv_series_df[\"show_id\"], tv_series_df[\"title\"], df_split], axis=1)\n",
    "merged_df.head()"
   ],
   "id": "c71ed368361d271c",
   "outputs": [
    {
     "data": {
      "text/plain": [
       "  show_id                  title               genre_1               genre_2  \\\n",
       "0      s2          Blood & Water  INTERNATIONALTVSHOWS              TVDRAMAS   \n",
       "1      s3              Ganglands          CRIMETVSHOWS  INTERNATIONALTVSHOWS   \n",
       "2      s4  Jailbirds New Orleans            DOCUSERIES             REALITYTV   \n",
       "3      s5           Kota Factory  INTERNATIONALTVSHOWS       ROMANTICTVSHOWS   \n",
       "4      s6          Midnight Mass              TVDRAMAS              TVHORROR   \n",
       "\n",
       "             genre_3     country_1 country_2 country_3  \n",
       "0        TVMYSTERIES  SOUTH AFRICA         -         -  \n",
       "1  TVACTIONADVENTURE             -         -         -  \n",
       "2                  -             -         -         -  \n",
       "3         TVCOMEDIES         INDIA         -         -  \n",
       "4        TVMYSTERIES             -         -         -  "
      ],
      "text/html": [
       "<div>\n",
       "<style scoped>\n",
       "    .dataframe tbody tr th:only-of-type {\n",
       "        vertical-align: middle;\n",
       "    }\n",
       "\n",
       "    .dataframe tbody tr th {\n",
       "        vertical-align: top;\n",
       "    }\n",
       "\n",
       "    .dataframe thead th {\n",
       "        text-align: right;\n",
       "    }\n",
       "</style>\n",
       "<table border=\"1\" class=\"dataframe\">\n",
       "  <thead>\n",
       "    <tr style=\"text-align: right;\">\n",
       "      <th></th>\n",
       "      <th>show_id</th>\n",
       "      <th>title</th>\n",
       "      <th>genre_1</th>\n",
       "      <th>genre_2</th>\n",
       "      <th>genre_3</th>\n",
       "      <th>country_1</th>\n",
       "      <th>country_2</th>\n",
       "      <th>country_3</th>\n",
       "    </tr>\n",
       "  </thead>\n",
       "  <tbody>\n",
       "    <tr>\n",
       "      <th>0</th>\n",
       "      <td>s2</td>\n",
       "      <td>Blood &amp; Water</td>\n",
       "      <td>INTERNATIONALTVSHOWS</td>\n",
       "      <td>TVDRAMAS</td>\n",
       "      <td>TVMYSTERIES</td>\n",
       "      <td>SOUTH AFRICA</td>\n",
       "      <td>-</td>\n",
       "      <td>-</td>\n",
       "    </tr>\n",
       "    <tr>\n",
       "      <th>1</th>\n",
       "      <td>s3</td>\n",
       "      <td>Ganglands</td>\n",
       "      <td>CRIMETVSHOWS</td>\n",
       "      <td>INTERNATIONALTVSHOWS</td>\n",
       "      <td>TVACTIONADVENTURE</td>\n",
       "      <td>-</td>\n",
       "      <td>-</td>\n",
       "      <td>-</td>\n",
       "    </tr>\n",
       "    <tr>\n",
       "      <th>2</th>\n",
       "      <td>s4</td>\n",
       "      <td>Jailbirds New Orleans</td>\n",
       "      <td>DOCUSERIES</td>\n",
       "      <td>REALITYTV</td>\n",
       "      <td>-</td>\n",
       "      <td>-</td>\n",
       "      <td>-</td>\n",
       "      <td>-</td>\n",
       "    </tr>\n",
       "    <tr>\n",
       "      <th>3</th>\n",
       "      <td>s5</td>\n",
       "      <td>Kota Factory</td>\n",
       "      <td>INTERNATIONALTVSHOWS</td>\n",
       "      <td>ROMANTICTVSHOWS</td>\n",
       "      <td>TVCOMEDIES</td>\n",
       "      <td>INDIA</td>\n",
       "      <td>-</td>\n",
       "      <td>-</td>\n",
       "    </tr>\n",
       "    <tr>\n",
       "      <th>4</th>\n",
       "      <td>s6</td>\n",
       "      <td>Midnight Mass</td>\n",
       "      <td>TVDRAMAS</td>\n",
       "      <td>TVHORROR</td>\n",
       "      <td>TVMYSTERIES</td>\n",
       "      <td>-</td>\n",
       "      <td>-</td>\n",
       "      <td>-</td>\n",
       "    </tr>\n",
       "  </tbody>\n",
       "</table>\n",
       "</div>"
      ]
     },
     "execution_count": 146,
     "metadata": {},
     "output_type": "execute_result"
    }
   ],
   "execution_count": 146
  },
  {
   "metadata": {
    "ExecuteTime": {
     "end_time": "2024-06-27T20:48:37.042267Z",
     "start_time": "2024-06-27T20:48:37.034432Z"
    }
   },
   "cell_type": "code",
   "source": [
    "def set_col_mapping(df, col_type):\n",
    "    object_columns = df.select_dtypes(include=[col_type]).columns.tolist()\n",
    "    #print(object_columns)\n",
    "    for col in object_columns:\n",
    "        res = {}\n",
    "        for x, value in enumerate(df[col].value_counts().index.tolist()):\n",
    "            res[value] = x\n",
    "        #print(res)\n",
    "        df[col] = df[col].map(res)\n",
    "            \n",
    "    return df"
   ],
   "id": "a2f48ebe66ded52f",
   "outputs": [],
   "execution_count": 147
  },
  {
   "metadata": {
    "ExecuteTime": {
     "end_time": "2024-06-27T20:48:37.080216Z",
     "start_time": "2024-06-27T20:48:37.065006Z"
    }
   },
   "cell_type": "code",
   "source": [
    "tvs_df = set_col_mapping(merged_df, 'object')\n",
    "tvs_df.head()"
   ],
   "id": "ade653417f01e576",
   "outputs": [
    {
     "data": {
      "text/plain": [
       "   show_id  title  genre_1  genre_2  genre_3  country_1  country_2  country_3\n",
       "0        1      1        0        2        6         32          0          0\n",
       "1        2      2        1        1       11          1          0          0\n",
       "2        3      3        4        7        0          1          0          0\n",
       "3     2644   2644        0        4        2          6          0          0\n",
       "4     2675   2675        8       13        6          1          0          0"
      ],
      "text/html": [
       "<div>\n",
       "<style scoped>\n",
       "    .dataframe tbody tr th:only-of-type {\n",
       "        vertical-align: middle;\n",
       "    }\n",
       "\n",
       "    .dataframe tbody tr th {\n",
       "        vertical-align: top;\n",
       "    }\n",
       "\n",
       "    .dataframe thead th {\n",
       "        text-align: right;\n",
       "    }\n",
       "</style>\n",
       "<table border=\"1\" class=\"dataframe\">\n",
       "  <thead>\n",
       "    <tr style=\"text-align: right;\">\n",
       "      <th></th>\n",
       "      <th>show_id</th>\n",
       "      <th>title</th>\n",
       "      <th>genre_1</th>\n",
       "      <th>genre_2</th>\n",
       "      <th>genre_3</th>\n",
       "      <th>country_1</th>\n",
       "      <th>country_2</th>\n",
       "      <th>country_3</th>\n",
       "    </tr>\n",
       "  </thead>\n",
       "  <tbody>\n",
       "    <tr>\n",
       "      <th>0</th>\n",
       "      <td>1</td>\n",
       "      <td>1</td>\n",
       "      <td>0</td>\n",
       "      <td>2</td>\n",
       "      <td>6</td>\n",
       "      <td>32</td>\n",
       "      <td>0</td>\n",
       "      <td>0</td>\n",
       "    </tr>\n",
       "    <tr>\n",
       "      <th>1</th>\n",
       "      <td>2</td>\n",
       "      <td>2</td>\n",
       "      <td>1</td>\n",
       "      <td>1</td>\n",
       "      <td>11</td>\n",
       "      <td>1</td>\n",
       "      <td>0</td>\n",
       "      <td>0</td>\n",
       "    </tr>\n",
       "    <tr>\n",
       "      <th>2</th>\n",
       "      <td>3</td>\n",
       "      <td>3</td>\n",
       "      <td>4</td>\n",
       "      <td>7</td>\n",
       "      <td>0</td>\n",
       "      <td>1</td>\n",
       "      <td>0</td>\n",
       "      <td>0</td>\n",
       "    </tr>\n",
       "    <tr>\n",
       "      <th>3</th>\n",
       "      <td>2644</td>\n",
       "      <td>2644</td>\n",
       "      <td>0</td>\n",
       "      <td>4</td>\n",
       "      <td>2</td>\n",
       "      <td>6</td>\n",
       "      <td>0</td>\n",
       "      <td>0</td>\n",
       "    </tr>\n",
       "    <tr>\n",
       "      <th>4</th>\n",
       "      <td>2675</td>\n",
       "      <td>2675</td>\n",
       "      <td>8</td>\n",
       "      <td>13</td>\n",
       "      <td>6</td>\n",
       "      <td>1</td>\n",
       "      <td>0</td>\n",
       "      <td>0</td>\n",
       "    </tr>\n",
       "  </tbody>\n",
       "</table>\n",
       "</div>"
      ]
     },
     "execution_count": 148,
     "metadata": {},
     "output_type": "execute_result"
    }
   ],
   "execution_count": 148
  },
  {
   "metadata": {
    "ExecuteTime": {
     "end_time": "2024-06-27T20:48:37.111182Z",
     "start_time": "2024-06-27T20:48:37.108388Z"
    }
   },
   "cell_type": "code",
   "source": "sampled_df = tvs_df.drop(['show_id', 'title'], axis=1)",
   "id": "81f513cefeb5cb12",
   "outputs": [],
   "execution_count": 149
  },
  {
   "metadata": {
    "ExecuteTime": {
     "end_time": "2024-06-27T20:48:37.165238Z",
     "start_time": "2024-06-27T20:48:37.161136Z"
    }
   },
   "cell_type": "code",
   "source": [
    "X_genre_type = np.array(sampled_df)\n",
    "X_genre_type"
   ],
   "id": "9e7ef24dd11fe890",
   "outputs": [
    {
     "data": {
      "text/plain": [
       "array([[ 0,  2,  6, 32,  0,  0],\n",
       "       [ 1,  1, 11,  1,  0,  0],\n",
       "       [ 4,  7,  0,  1,  0,  0],\n",
       "       ...,\n",
       "       [ 2,  0,  0,  0,  4, 14],\n",
       "       [ 0,  4,  1, 37,  0,  0],\n",
       "       [ 2,  6,  2,  1,  0,  0]])"
      ]
     },
     "execution_count": 150,
     "metadata": {},
     "output_type": "execute_result"
    }
   ],
   "execution_count": 150
  },
  {
   "metadata": {
    "ExecuteTime": {
     "end_time": "2024-06-27T20:48:37.261118Z",
     "start_time": "2024-06-27T20:48:37.257029Z"
    }
   },
   "cell_type": "code",
   "source": [
    "from sklearn.cluster import KMeans\n",
    "from yellowbrick.cluster import KElbowVisualizer"
   ],
   "id": "20b63ffbac72b293",
   "outputs": [],
   "execution_count": 151
  },
  {
   "metadata": {
    "ExecuteTime": {
     "end_time": "2024-06-27T20:48:43.249589Z",
     "start_time": "2024-06-27T20:48:37.395995Z"
    }
   },
   "cell_type": "code",
   "source": [
    "model = KMeans()\n",
    "visualizer = KElbowVisualizer(model, k=(3,(3*65)), metric='distortion')\n",
    "column_weights = np.ones(X_genre_type.shape[1]) \n",
    "column_weights[5] = 0.7\n",
    "\n",
    "#print(column_weights)\n",
    "X_scaled= X_genre_type * column_weights\n",
    "\n",
    "visualizer.fit(X_scaled)        \n",
    "visualizer.show()\n"
   ],
   "id": "e69ce1619b7cb9e5",
   "outputs": [
    {
     "data": {
      "text/plain": [
       "<Figure size 800x550 with 2 Axes>"
      ],
      "image/png": "[encoded data removed]"
     },
     "metadata": {},
     "output_type": "display_data"
    },
    {
     "data": {
      "text/plain": [
       "<Axes: title={'center': 'Distortion Score Elbow for KMeans Clustering'}, xlabel='k', ylabel='distortion score'>"
      ]
     },
     "execution_count": 152,
     "metadata": {},
     "output_type": "execute_result"
    }
   ],
   "execution_count": 152
  },
  {
   "metadata": {
    "ExecuteTime": {
     "end_time": "2024-06-27T20:48:43.255037Z",
     "start_time": "2024-06-27T20:48:43.250995Z"
    }
   },
   "cell_type": "code",
   "source": "X_genre_type.shape",
   "id": "396ff1c572b8e264",
   "outputs": [
    {
     "data": {
      "text/plain": [
       "(2676, 6)"
      ]
     },
     "execution_count": 153,
     "metadata": {},
     "output_type": "execute_result"
    }
   ],
   "execution_count": 153
  },
  {
   "metadata": {
    "ExecuteTime": {
     "end_time": "2024-06-27T20:53:37.565699Z",
     "start_time": "2024-06-27T20:53:37.539427Z"
    }
   },
   "cell_type": "code",
   "source": [
    "kmeans_model = KMeans(n_clusters =19, random_state=2, algorithm='elkan')\n",
    "\n",
    "#column_weights = np.ones(X_genre_type.shape[1]) \n",
    "#column_weights[0] = 0.7\n",
    "\n",
    "#print(column_weights)\n",
    "#X_scaled= X_genre_type * column_weights\n",
    "\n",
    "#y_Kmeans = kmeans_model.fit_predict(X_scaled)\n",
    "# \n",
    "y_Kmeans = kmeans_model.fit_predict(X_genre_type)\n",
    "print(y_Kmeans)\n"
   ],
   "id": "a56cc08e6f376a8f",
   "outputs": [
    {
     "name": "stdout",
     "output_type": "stream",
     "text": [
      "[17  2 13 ... 10 17 13]\n"
     ]
    }
   ],
   "execution_count": 182
  },
  {
   "metadata": {
    "ExecuteTime": {
     "end_time": "2024-06-27T20:53:38.243811Z",
     "start_time": "2024-06-27T20:53:38.240606Z"
    }
   },
   "cell_type": "code",
   "source": "df_cluster = tv_series_df.copy()",
   "id": "7b6f74989c3e5f60",
   "outputs": [],
   "execution_count": 183
  },
  {
   "metadata": {
    "ExecuteTime": {
     "end_time": "2024-06-27T20:53:38.889454Z",
     "start_time": "2024-06-27T20:53:38.885186Z"
    }
   },
   "cell_type": "code",
   "source": "#df_cluster['title'] = df_cluster['title'].apply(lambda x : x.upper())",
   "id": "95b24810311b051d",
   "outputs": [],
   "execution_count": 184
  },
  {
   "metadata": {
    "ExecuteTime": {
     "end_time": "2024-06-27T20:53:39.266330Z",
     "start_time": "2024-06-27T20:53:39.261922Z"
    }
   },
   "cell_type": "code",
   "source": "df_cluster['clusters_genre'] = y_Kmeans",
   "id": "53bd2b7dc2375ec8",
   "outputs": [],
   "execution_count": 185
  },
  {
   "metadata": {
    "ExecuteTime": {
     "end_time": "2024-06-27T20:53:39.705432Z",
     "start_time": "2024-06-27T20:53:39.697846Z"
    }
   },
   "cell_type": "code",
   "source": "df_cluster.tail()",
   "id": "24c0ed2453b26050",
   "outputs": [
    {
     "data": {
      "text/plain": [
       "     show_id               title  \\\n",
       "2671   s8796     Yu-Gi-Oh! Arc-V   \n",
       "2672   s8797          Yunus Emre   \n",
       "2673   s8798           Zak Storm   \n",
       "2674   s8801  Zindagi Gulzar Hai   \n",
       "2675   s8804         Zombie Dumb   \n",
       "\n",
       "                                            country  \\\n",
       "2671                                  JAPAN, CANADA   \n",
       "2672                                         TURKEY   \n",
       "2673  UNITED STATES, FRANCE, SOUTH KOREA, INDONESIA   \n",
       "2674                                       PAKISTAN   \n",
       "2675                                              -   \n",
       "\n",
       "                                          listed_in  clusters_genre  \n",
       "2671                             ANIMESERIES,KIDSTV               9  \n",
       "2672                  INTERNATIONALTVSHOWS,TVDRAMAS              12  \n",
       "2673                                         KIDSTV              10  \n",
       "2674  INTERNATIONALTVSHOWS,ROMANTICTVSHOWS,TVDRAMAS              17  \n",
       "2675                KIDSTV,KOREANTVSHOWS,TVCOMEDIES              13  "
      ],
      "text/html": [
       "<div>\n",
       "<style scoped>\n",
       "    .dataframe tbody tr th:only-of-type {\n",
       "        vertical-align: middle;\n",
       "    }\n",
       "\n",
       "    .dataframe tbody tr th {\n",
       "        vertical-align: top;\n",
       "    }\n",
       "\n",
       "    .dataframe thead th {\n",
       "        text-align: right;\n",
       "    }\n",
       "</style>\n",
       "<table border=\"1\" class=\"dataframe\">\n",
       "  <thead>\n",
       "    <tr style=\"text-align: right;\">\n",
       "      <th></th>\n",
       "      <th>show_id</th>\n",
       "      <th>title</th>\n",
       "      <th>country</th>\n",
       "      <th>listed_in</th>\n",
       "      <th>clusters_genre</th>\n",
       "    </tr>\n",
       "  </thead>\n",
       "  <tbody>\n",
       "    <tr>\n",
       "      <th>2671</th>\n",
       "      <td>s8796</td>\n",
       "      <td>Yu-Gi-Oh! Arc-V</td>\n",
       "      <td>JAPAN, CANADA</td>\n",
       "      <td>ANIMESERIES,KIDSTV</td>\n",
       "      <td>9</td>\n",
       "    </tr>\n",
       "    <tr>\n",
       "      <th>2672</th>\n",
       "      <td>s8797</td>\n",
       "      <td>Yunus Emre</td>\n",
       "      <td>TURKEY</td>\n",
       "      <td>INTERNATIONALTVSHOWS,TVDRAMAS</td>\n",
       "      <td>12</td>\n",
       "    </tr>\n",
       "    <tr>\n",
       "      <th>2673</th>\n",
       "      <td>s8798</td>\n",
       "      <td>Zak Storm</td>\n",
       "      <td>UNITED STATES, FRANCE, SOUTH KOREA, INDONESIA</td>\n",
       "      <td>KIDSTV</td>\n",
       "      <td>10</td>\n",
       "    </tr>\n",
       "    <tr>\n",
       "      <th>2674</th>\n",
       "      <td>s8801</td>\n",
       "      <td>Zindagi Gulzar Hai</td>\n",
       "      <td>PAKISTAN</td>\n",
       "      <td>INTERNATIONALTVSHOWS,ROMANTICTVSHOWS,TVDRAMAS</td>\n",
       "      <td>17</td>\n",
       "    </tr>\n",
       "    <tr>\n",
       "      <th>2675</th>\n",
       "      <td>s8804</td>\n",
       "      <td>Zombie Dumb</td>\n",
       "      <td>-</td>\n",
       "      <td>KIDSTV,KOREANTVSHOWS,TVCOMEDIES</td>\n",
       "      <td>13</td>\n",
       "    </tr>\n",
       "  </tbody>\n",
       "</table>\n",
       "</div>"
      ]
     },
     "execution_count": 186,
     "metadata": {},
     "output_type": "execute_result"
    }
   ],
   "execution_count": 186
  },
  {
   "metadata": {
    "ExecuteTime": {
     "end_time": "2024-06-27T20:53:40.483935Z",
     "start_time": "2024-06-27T20:53:40.475798Z"
    }
   },
   "cell_type": "code",
   "source": [
    "from dataclasses import dataclass\n",
    "@dataclass\n",
    "class QueryRecommends:\n",
    "    dataset: pd.DataFrame \n",
    "    name: str  \n",
    "    top_n: int  \n",
    "    \n",
    "def recommends(query):\n",
    "    name_upper = query.name\n",
    "    print(name_upper)\n",
    "    \n",
    "    title_match = query.dataset[query.dataset['title'] == name_upper]\n",
    "\n",
    "    cluster_genre = title_match['clusters_genre'].iloc[0]\n",
    "    print(cluster_genre)\n",
    "    recommendations = query.dataset[query.dataset['clusters_genre'] == cluster_genre]\n",
    "    \n",
    "    top_recommendations = recommendations[['title', 'listed_in', 'clusters_genre', 'show_id']].head(query.top_n)\n",
    "\n",
    "    print(title_match['listed_in'].iloc[0])\n",
    "    print(title_match['country'].iloc[0])\n",
    "    \n",
    "    \n",
    "    return top_recommendations"
   ],
   "id": "25ffe05c24808a4c",
   "outputs": [],
   "execution_count": 187
  },
  {
   "metadata": {
    "ExecuteTime": {
     "end_time": "2024-06-27T20:53:41.419561Z",
     "start_time": "2024-06-27T20:53:41.407323Z"
    }
   },
   "cell_type": "code",
   "source": [
    "query = QueryRecommends(dataset=df_cluster, name='Peaky Blinders', top_n=10)\n",
    "result = recommends(query)\n",
    "result"
   ],
   "id": "4817da5b339b103b",
   "outputs": [
    {
     "name": "stdout",
     "output_type": "stream",
     "text": [
      "Peaky Blinders\n",
      "3\n",
      "BRITISHTVSHOWS,CRIMETVSHOWS,INTERNATIONALTVSHOWS\n",
      "UNITED KINGDOM\n"
     ]
    },
    {
     "data": {
      "text/plain": [
       "                                              title  \\\n",
       "6               Vendetta: Truth, Lies and The Mafia   \n",
       "11                                           Jaguar   \n",
       "12  Monsters Inside: The 24 Faces of Billy Milligan   \n",
       "24                                    Dharmakshetra   \n",
       "30                        Too Hot To Handle: Latino   \n",
       "31           Jack Whitehall: Travels with My Father   \n",
       "41                                       Kid Cosmic   \n",
       "78                                        Clickbait   \n",
       "79    John of God: The Crimes of a Spiritual Healer   \n",
       "81                                   Open Your Eyes   \n",
       "\n",
       "                                                        listed_in  \\\n",
       "6                    CRIMETVSHOWS,DOCUSERIES,INTERNATIONALTVSHOWS   \n",
       "11  INTERNATIONALTVSHOWS,SPANISHLANGUAGETVSHOWS,TVACTIONADVENTURE   \n",
       "12                   CRIMETVSHOWS,DOCUSERIES,INTERNATIONALTVSHOWS   \n",
       "24                   INTERNATIONALTVSHOWS,TVDRAMAS,TVSCIFIFANTASY   \n",
       "30                 INTERNATIONALTVSHOWS,REALITYTV,ROMANTICTVSHOWS   \n",
       "31                 BRITISHTVSHOWS,DOCUSERIES,INTERNATIONALTVSHOWS   \n",
       "41                               KIDSTV,TVCOMEDIES,TVSCIFIFANTASY   \n",
       "78                              CRIMETVSHOWS,TVDRAMAS,TVMYSTERIES   \n",
       "79                   CRIMETVSHOWS,DOCUSERIES,INTERNATIONALTVSHOWS   \n",
       "81                      INTERNATIONALTVSHOWS,TVDRAMAS,TVMYSTERIES   \n",
       "\n",
       "    clusters_genre show_id  \n",
       "6                3     s11  \n",
       "11               3     s20  \n",
       "12               3     s21  \n",
       "24               3     s51  \n",
       "30               3     s71  \n",
       "31               3     s73  \n",
       "41               3     s98  \n",
       "78               3    s223  \n",
       "79               3    s224  \n",
       "81               3    s226  "
      ],
      "text/html": [
       "<div>\n",
       "<style scoped>\n",
       "    .dataframe tbody tr th:only-of-type {\n",
       "        vertical-align: middle;\n",
       "    }\n",
       "\n",
       "    .dataframe tbody tr th {\n",
       "        vertical-align: top;\n",
       "    }\n",
       "\n",
       "    .dataframe thead th {\n",
       "        text-align: right;\n",
       "    }\n",
       "</style>\n",
       "<table border=\"1\" class=\"dataframe\">\n",
       "  <thead>\n",
       "    <tr style=\"text-align: right;\">\n",
       "      <th></th>\n",
       "      <th>title</th>\n",
       "      <th>listed_in</th>\n",
       "      <th>clusters_genre</th>\n",
       "      <th>show_id</th>\n",
       "    </tr>\n",
       "  </thead>\n",
       "  <tbody>\n",
       "    <tr>\n",
       "      <th>6</th>\n",
       "      <td>Vendetta: Truth, Lies and The Mafia</td>\n",
       "      <td>CRIMETVSHOWS,DOCUSERIES,INTERNATIONALTVSHOWS</td>\n",
       "      <td>3</td>\n",
       "      <td>s11</td>\n",
       "    </tr>\n",
       "    <tr>\n",
       "      <th>11</th>\n",
       "      <td>Jaguar</td>\n",
       "      <td>INTERNATIONALTVSHOWS,SPANISHLANGUAGETVSHOWS,TVACTIONADVENTURE</td>\n",
       "      <td>3</td>\n",
       "      <td>s20</td>\n",
       "    </tr>\n",
       "    <tr>\n",
       "      <th>12</th>\n",
       "      <td>Monsters Inside: The 24 Faces of Billy Milligan</td>\n",
       "      <td>CRIMETVSHOWS,DOCUSERIES,INTERNATIONALTVSHOWS</td>\n",
       "      <td>3</td>\n",
       "      <td>s21</td>\n",
       "    </tr>\n",
       "    <tr>\n",
       "      <th>24</th>\n",
       "      <td>Dharmakshetra</td>\n",
       "      <td>INTERNATIONALTVSHOWS,TVDRAMAS,TVSCIFIFANTASY</td>\n",
       "      <td>3</td>\n",
       "      <td>s51</td>\n",
       "    </tr>\n",
       "    <tr>\n",
       "      <th>30</th>\n",
       "      <td>Too Hot To Handle: Latino</td>\n",
       "      <td>INTERNATIONALTVSHOWS,REALITYTV,ROMANTICTVSHOWS</td>\n",
       "      <td>3</td>\n",
       "      <td>s71</td>\n",
       "    </tr>\n",
       "    <tr>\n",
       "      <th>31</th>\n",
       "      <td>Jack Whitehall: Travels with My Father</td>\n",
       "      <td>BRITISHTVSHOWS,DOCUSERIES,INTERNATIONALTVSHOWS</td>\n",
       "      <td>3</td>\n",
       "      <td>s73</td>\n",
       "    </tr>\n",
       "    <tr>\n",
       "      <th>41</th>\n",
       "      <td>Kid Cosmic</td>\n",
       "      <td>KIDSTV,TVCOMEDIES,TVSCIFIFANTASY</td>\n",
       "      <td>3</td>\n",
       "      <td>s98</td>\n",
       "    </tr>\n",
       "    <tr>\n",
       "      <th>78</th>\n",
       "      <td>Clickbait</td>\n",
       "      <td>CRIMETVSHOWS,TVDRAMAS,TVMYSTERIES</td>\n",
       "      <td>3</td>\n",
       "      <td>s223</td>\n",
       "    </tr>\n",
       "    <tr>\n",
       "      <th>79</th>\n",
       "      <td>John of God: The Crimes of a Spiritual Healer</td>\n",
       "      <td>CRIMETVSHOWS,DOCUSERIES,INTERNATIONALTVSHOWS</td>\n",
       "      <td>3</td>\n",
       "      <td>s224</td>\n",
       "    </tr>\n",
       "    <tr>\n",
       "      <th>81</th>\n",
       "      <td>Open Your Eyes</td>\n",
       "      <td>INTERNATIONALTVSHOWS,TVDRAMAS,TVMYSTERIES</td>\n",
       "      <td>3</td>\n",
       "      <td>s226</td>\n",
       "    </tr>\n",
       "  </tbody>\n",
       "</table>\n",
       "</div>"
      ]
     },
     "execution_count": 188,
     "metadata": {},
     "output_type": "execute_result"
    }
   ],
   "execution_count": 188
  },
  {
   "metadata": {
    "ExecuteTime": {
     "end_time": "2024-06-27T20:51:52.894061Z",
     "start_time": "2024-06-27T20:51:52.890565Z"
    }
   },
   "cell_type": "code",
   "source": "",
   "id": "cc722afcda2c2283",
   "outputs": [],
   "execution_count": 171
  },
  {
   "metadata": {},
   "cell_type": "code",
   "outputs": [],
   "execution_count": null,
   "source": "",
   "id": "3b7d4a1fd7f90e9b"
  }
 ],
 "metadata": {
  "kernelspec": {
   "display_name": "Python 3",
   "language": "python",
   "name": "python3"
  },
  "language_info": {
   "codemirror_mode": {
    "name": "ipython",
    "version": 2
   },
   "file_extension": ".py",
   "mimetype": "text/x-python",
   "name": "python",
   "nbconvert_exporter": "python",
   "pygments_lexer": "ipython2",
   "version": "2.7.6"
  }
 },
 "nbformat": 4,
 "nbformat_minor": 5
}
