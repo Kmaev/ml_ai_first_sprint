{
 "cells": [
  {
   "cell_type": "code",
   "id": "initial_id",
   "metadata": {
    "collapsed": true,
    "ExecuteTime": {
     "end_time": "2024-05-14T14:26:05.725190Z",
     "start_time": "2024-05-14T14:26:04.932928Z"
    }
   },
   "source": [
    "import numpy as np\n",
    "import matplotlib.pyplot as plt"
   ],
   "outputs": [],
   "execution_count": 37
  },
  {
   "metadata": {
    "ExecuteTime": {
     "end_time": "2024-05-14T13:14:00.134141Z",
     "start_time": "2024-05-14T13:14:00.123948Z"
    }
   },
   "cell_type": "code",
   "source": [
    "M = np.round(10 * np.random.randn(3,3))\n",
    "#print(M)\n",
    "#print(\"\")\n",
    "print(M.T)\n",
    "print(\"\")\n",
    "T = M.T\n",
    "print(T.T) #traspoicing matrix twice will give the original matrix"
   ],
   "id": "d8ef30bae7195e97",
   "outputs": [
    {
     "name": "stdout",
     "output_type": "stream",
     "text": [
      "[[ -7.   6.  -5.]\n",
      " [-11.   9. -17.]\n",
      " [  7.   2.   7.]]\n",
      "\n",
      "[[ -7. -11.   7.]\n",
      " [  6.   9.   2.]\n",
      " [ -5. -17.   7.]]\n",
      "\n",
      "[[ -7.   6.  -5.]\n",
      " [-11.   9. -17.]\n",
      " [  7.   2.   7.]]\n"
     ]
    }
   ],
   "execution_count": 8
  },
  {
   "metadata": {},
   "cell_type": "markdown",
   "source": "Matrix Multiplication:\n",
   "id": "62baf40efa435bf4"
  },
  {
   "metadata": {
    "ExecuteTime": {
     "end_time": "2024-05-14T13:42:20.120622Z",
     "start_time": "2024-05-14T13:42:20.101255Z"
    }
   },
   "cell_type": "code",
   "source": [
    "M1 = np.round(np.random.randn(4,5))\n",
    "M2 = np.round(np.random.randn(4,5)) #this two matrices cannot be multiplied because the amount of rows in M1 is not the same as amount of columns on M2, we should transpose one of them\n",
    "M3 = M2.T\n",
    "result_a = np.matmul(M1,M3)\n",
    "result_b = M1@M3 # just different sintax to multiplication \n",
    "\n",
    "print(result_a)\n",
    "print(result_b) \n",
    "print(np.matmul(M1,M3) - M1@M3) #to prove that the result is the same by subtracting the results we should get zero matrix\n"
   ],
   "id": "c74412a16a62e084",
   "outputs": [
    {
     "name": "stdout",
     "output_type": "stream",
     "text": [
      "[[ 0.  1.  1.  0.]\n",
      " [ 2.  0.  0. -2.]\n",
      " [ 0. -1. -1.  0.]\n",
      " [-2.  1.  3. -2.]]\n",
      "[[ 0.  1.  1.  0.]\n",
      " [ 2.  0.  0. -2.]\n",
      " [ 0. -1. -1.  0.]\n",
      " [-2.  1.  3. -2.]]\n",
      "[[0. 0. 0. 0.]\n",
      " [0. 0. 0. 0.]\n",
      " [0. 0. 0. 0.]\n",
      " [0. 0. 0. 0.]]\n"
     ]
    }
   ],
   "execution_count": 18
  },
  {
   "metadata": {},
   "cell_type": "code",
   "outputs": [
    {
     "name": "stdout",
     "output_type": "stream",
     "text": [
      "[[ 0. -2. -0.]\n",
      " [-7.  1. -1.]\n",
      " [16.  9.  5.]]\n"
     ]
    }
   ],
   "execution_count": 26,
   "source": [
    "M1 = np.round(10 * np.random.randn(3,3))\n",
    "print(M1)"
   ],
   "id": "8c96447ab09d2625"
  },
  {
   "metadata": {
    "ExecuteTime": {
     "end_time": "2024-05-14T13:51:43.171683Z",
     "start_time": "2024-05-14T13:51:43.156655Z"
    }
   },
   "cell_type": "code",
   "source": [
    "M2 = np.eye(3) #creating identity matrix\n",
    "print(M1@M2) #multiplication by identity matrix (return the matrix same as M1 the original one)"
   ],
   "id": "69aff15cb5237ed7",
   "outputs": [
    {
     "name": "stdout",
     "output_type": "stream",
     "text": [
      "[[ 0. -2.  0.]\n",
      " [-7.  1. -1.]\n",
      " [16.  9.  5.]]\n"
     ]
    }
   ],
   "execution_count": 27
  },
  {
   "metadata": {},
   "cell_type": "code",
   "outputs": [
    {
     "name": "stdout",
     "output_type": "stream",
     "text": [
      "[[0. 0. 0.]\n",
      " [0. 0. 0.]\n",
      " [0. 0. 0.]]\n"
     ]
    }
   ],
   "execution_count": 24,
   "source": [
    "M3 = np.zeros((3,3)) #multiplication by zero matrix\n",
    "print(M1@M3)"
   ],
   "id": "e3461161d90b2a66"
  },
  {
   "metadata": {
    "ExecuteTime": {
     "end_time": "2024-05-14T14:15:31.230804Z",
     "start_time": "2024-05-14T14:15:31.205351Z"
    }
   },
   "cell_type": "code",
   "source": "print(M1@M1.T) #multiplication by the same matrix transposed (the result will be symmetric matrix)",
   "id": "dbd286628a636541",
   "outputs": [
    {
     "name": "stdout",
     "output_type": "stream",
     "text": [
      "[[   4.   -2.  -18.]\n",
      " [  -2.   51. -108.]\n",
      " [ -18. -108.  362.]]\n"
     ]
    }
   ],
   "execution_count": 28
  },
  {
   "metadata": {},
   "cell_type": "markdown",
   "source": "THE MATRIX INVERSE\n",
   "id": "d32fe0c2df4425d6"
  },
  {
   "metadata": {
    "ExecuteTime": {
     "end_time": "2024-05-14T14:23:45.805545Z",
     "start_time": "2024-05-14T14:23:45.796941Z"
    }
   },
   "cell_type": "code",
   "source": [
    "A = np.random.randn(4,4)\n",
    "\n",
    "Ainv = np.linalg.inv(A) #inversing matrix A \n",
    "\n",
    "AinvA = A@Ainv #when we multiply a matrix to int inverced matrix we get an indent matrix as a result\n",
    "\n",
    "print(A)\n",
    "print(\"\")\n",
    "print(Ainv)\n",
    "print(\"\")\n",
    "print(AinvA)"
   ],
   "id": "38677fc44e97294a",
   "outputs": [
    {
     "name": "stdout",
     "output_type": "stream",
     "text": [
      "[[-0.50646775  1.35448555 -0.12446156  0.24868206]\n",
      " [ 0.32572838  0.16897387  2.3990934   0.96809209]\n",
      " [-0.16830696 -0.16027126 -0.67877921  0.2203295 ]\n",
      " [ 0.10565373 -1.14159552  0.92824096  0.38251487]]\n",
      "\n",
      "[[-2.14472897  1.25282188  1.33805903 -2.54710412]\n",
      " [ 0.03408037  0.30491307 -0.00791964 -0.78928744]\n",
      " [ 0.41900593 -0.11164134 -1.08004028  0.63224882]\n",
      " [-0.32269033  0.83487515  2.22769296 -0.57204364]]\n",
      "\n",
      "[[ 1.00000000e+00 -6.22304010e-17 -4.02572608e-17  1.19225920e-16]\n",
      " [ 2.28516823e-16  1.00000000e+00 -7.98530676e-17 -5.12190007e-17]\n",
      " [-4.04279335e-17 -5.92779254e-17  1.00000000e+00  2.17160963e-16]\n",
      " [-9.17769337e-17  1.97756899e-16  2.79933491e-16  1.00000000e+00]]\n"
     ]
    }
   ],
   "execution_count": 35
  },
  {
   "metadata": {
    "ExecuteTime": {
     "end_time": "2024-05-14T14:29:31.478711Z",
     "start_time": "2024-05-14T14:29:31.010741Z"
    }
   },
   "cell_type": "code",
   "source": [
    "fig,ax = plt.subplots(1,3,figsize=(6,5))\n",
    "ax[0].imshow(A)\n",
    "ax[0].set_title(\"A\")\n",
    "\n",
    "ax[1].imshow(Ainv)\n",
    "ax[1].set_title(\"A$^{-1}$\")\n",
    "\n",
    "ax[2].imshow(AinvA)\n",
    "ax[2].set_title(\"A$^{-1}$A\")\n",
    "\n",
    "plt.show()\n"
   ],
   "id": "695a748e91083b5c",
   "outputs": [
    {
     "data": {
      "text/plain": [
       "<Figure size 600x500 with 3 Axes>"
      ],
      "image/png": "[encoded data removed]"
     },
     "metadata": {},
     "output_type": "display_data"
    }
   ],
   "execution_count": 41
  },
  {
   "metadata": {
    "ExecuteTime": {
     "end_time": "2024-05-14T14:36:24.313706Z",
     "start_time": "2024-05-14T14:36:24.294949Z"
    }
   },
   "cell_type": "code",
   "source": [
    "#assignment \n",
    "# create a vector3, create diagonal matrix from this vector \n",
    "# compute it's inverse (discover property of inverse of diagonal matrix\n",
    "# create a none square matrix try to compute this inverse, what the error message tells\n",
    "\n",
    "v = np.array((1,2,3)) #creating a vector\n",
    "M = np.diag(v) # creating diagonal matrix\n",
    "\n",
    "Minv = np.linalg.inv(M) #creating inverse matrix from M\n",
    "\n",
    "print(M)\n",
    "print(\"\")\n",
    "print(Minv)"
   ],
   "id": "bc51b077ff801aea",
   "outputs": [
    {
     "name": "stdout",
     "output_type": "stream",
     "text": [
      "[[1 0 0]\n",
      " [0 2 0]\n",
      " [0 0 3]]\n",
      "\n",
      "[[1.         0.         0.        ]\n",
      " [0.         0.5        0.        ]\n",
      " [0.         0.         0.33333333]]\n"
     ]
    }
   ],
   "execution_count": 46
  },
  {
   "metadata": {
    "ExecuteTime": {
     "end_time": "2024-05-14T14:39:29.755576Z",
     "start_time": "2024-05-14T14:39:29.747989Z"
    }
   },
   "cell_type": "code",
   "source": [
    "M1 = np.random.randn(3,4) #creating none square matrix\n",
    "#M1inv = np.linalg.inv(M1) # will bring an error \"Last 2 dimensions of the array must be square\""
   ],
   "id": "42298eac8d2c7e2c",
   "outputs": [],
   "execution_count": 50
  },
  {
   "metadata": {},
   "cell_type": "code",
   "outputs": [],
   "execution_count": null,
   "source": "",
   "id": "b911c69b331a0b6c"
  }
 ],
 "metadata": {
  "kernelspec": {
   "display_name": "Python 3",
   "language": "python",
   "name": "python3"
  },
  "language_info": {
   "codemirror_mode": {
    "name": "ipython",
    "version": 2
   },
   "file_extension": ".py",
   "mimetype": "text/x-python",
   "name": "python",
   "nbconvert_exporter": "python",
   "pygments_lexer": "ipython2",
   "version": "2.7.6"
  }
 },
 "nbformat": 4,
 "nbformat_minor": 5
}
