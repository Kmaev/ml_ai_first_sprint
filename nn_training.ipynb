{
 "cells": [
  {
   "cell_type": "code",
   "id": "initial_id",
   "metadata": {
    "collapsed": true,
    "ExecuteTime": {
     "end_time": "2024-07-06T08:45:10.614295Z",
     "start_time": "2024-07-06T08:45:09.872758Z"
    }
   },
   "source": [
    "import pandas as pd\n",
    "import numpy as np\n",
    "import matplotlib.pyplot as plt\n",
    "\n",
    "from mnist.nn_neural_network import NeuralNetwork\n",
    "from mnist.nn_data_utils import DataUtils\n",
    "from mnist.nn_metrics import Metrics\n",
    "from mnist.nn_encoders import Encoders\n",
    "from mnist.nn_activations import Activations"
   ],
   "outputs": [],
   "execution_count": 1
  },
  {
   "metadata": {
    "ExecuteTime": {
     "end_time": "2024-07-06T08:45:11.743838Z",
     "start_time": "2024-07-06T08:45:10.616373Z"
    }
   },
   "cell_type": "code",
   "source": "df = pd.read_csv('train.csv')",
   "id": "4a14138a161a056",
   "outputs": [],
   "execution_count": 2
  },
  {
   "metadata": {
    "ExecuteTime": {
     "end_time": "2024-07-06T08:45:11.748112Z",
     "start_time": "2024-07-06T08:45:11.745142Z"
    }
   },
   "cell_type": "code",
   "source": [
    "neural_model = NeuralNetwork(df)\n",
    "dataset = DataUtils(df)"
   ],
   "id": "726fdfbc7341236c",
   "outputs": [],
   "execution_count": 3
  },
  {
   "metadata": {
    "ExecuteTime": {
     "end_time": "2024-07-06T08:45:12.456837Z",
     "start_time": "2024-07-06T08:45:11.749632Z"
    }
   },
   "cell_type": "code",
   "source": "X_train, X_test, y_train, y_test = dataset.train_test_split(df)",
   "id": "23ac05a3907d9a52",
   "outputs": [],
   "execution_count": 4
  },
  {
   "metadata": {
    "ExecuteTime": {
     "end_time": "2024-07-06T08:45:40.864833Z",
     "start_time": "2024-07-06T08:45:12.458591Z"
    }
   },
   "cell_type": "code",
   "source": "w1,b1,w2,b2 = neural_model.gradient_descent(X_train, y_train, 0.1, 500) ",
   "id": "e61946d9bb4eee13",
   "outputs": [
    {
     "name": "stdout",
     "output_type": "stream",
     "text": [
      "Epoch:  1\n",
      "Epoch:  11\n",
      "Epoch:  21\n",
      "Epoch:  31\n",
      "Epoch:  41\n",
      "Epoch:  51\n",
      "Epoch:  61\n",
      "Epoch:  71\n",
      "Epoch:  81\n",
      "Epoch:  91\n",
      "Epoch:  101\n",
      "Epoch:  111\n",
      "Epoch:  121\n",
      "Epoch:  131\n",
      "Epoch:  141\n",
      "Epoch:  151\n",
      "Epoch:  161\n",
      "Epoch:  171\n",
      "Epoch:  181\n",
      "Epoch:  191\n",
      "Epoch:  201\n",
      "Epoch:  211\n",
      "Epoch:  221\n",
      "Epoch:  231\n",
      "Epoch:  241\n",
      "Epoch:  251\n",
      "Epoch:  261\n",
      "Epoch:  271\n",
      "Epoch:  281\n",
      "Epoch:  291\n",
      "Epoch:  301\n",
      "Epoch:  311\n",
      "Epoch:  321\n",
      "Epoch:  331\n",
      "Epoch:  341\n",
      "Epoch:  351\n",
      "Epoch:  361\n",
      "Epoch:  371\n",
      "Epoch:  381\n",
      "Epoch:  391\n",
      "Epoch:  401\n",
      "Epoch:  411\n",
      "Epoch:  421\n",
      "Epoch:  431\n",
      "Epoch:  441\n",
      "Epoch:  451\n",
      "Epoch:  461\n",
      "Epoch:  471\n",
      "Epoch:  481\n",
      "Epoch:  491\n"
     ]
    }
   ],
   "execution_count": 5
  },
  {
   "metadata": {
    "ExecuteTime": {
     "end_time": "2024-07-06T08:45:40.873838Z",
     "start_time": "2024-07-06T08:45:40.865895Z"
    }
   },
   "cell_type": "code",
   "source": "weights = (w1, b1, w2, b2)",
   "id": "13bbd9dc08113d01",
   "outputs": [],
   "execution_count": 6
  },
  {
   "metadata": {
    "ExecuteTime": {
     "end_time": "2024-07-06T08:45:40.894819Z",
     "start_time": "2024-07-06T08:45:40.875058Z"
    }
   },
   "cell_type": "code",
   "source": [
    "print(w1)\n",
    "print(\"_______________\")\n",
    "print(weights[1])"
   ],
   "id": "826c57d41404d638",
   "outputs": [
    {
     "name": "stdout",
     "output_type": "stream",
     "text": [
      "[[ 0.26795993 -0.23664589  0.18800999 ...  0.10733519 -0.22247814\n",
      "   0.22094235]\n",
      " [ 0.01430746  0.48013037 -0.28346522 ...  0.35651443 -0.25443304\n",
      "   0.04062515]\n",
      " [ 0.10072869 -0.03782566 -0.26870253 ... -0.0411361   0.23311621\n",
      "   0.13148912]\n",
      " ...\n",
      " [ 0.20780805  0.21044331 -0.33160795 ...  0.25402261  0.03399726\n",
      "   0.49957278]\n",
      " [-0.14815558 -0.44737447 -0.45839947 ...  0.17576392  0.16178902\n",
      "  -0.17437012]\n",
      " [-0.39030825 -0.19627267 -0.3688234  ...  0.18173271 -0.1264259\n",
      "  -0.07690499]]\n",
      "_______________\n",
      "[[0.24158308]\n",
      " [0.73946831]\n",
      " [0.31593928]\n",
      " [0.06617523]\n",
      " [0.0722805 ]\n",
      " [0.74037084]\n",
      " [0.77965373]\n",
      " [1.01282749]\n",
      " [0.7884186 ]\n",
      " [0.8891716 ]]\n"
     ]
    }
   ],
   "execution_count": 7
  },
  {
   "metadata": {
    "ExecuteTime": {
     "end_time": "2024-07-06T08:45:40.907574Z",
     "start_time": "2024-07-06T08:45:40.896111Z"
    }
   },
   "cell_type": "code",
   "source": "print(weights[0])",
   "id": "bc5578f03192799",
   "outputs": [
    {
     "name": "stdout",
     "output_type": "stream",
     "text": [
      "[[ 0.26795993 -0.23664589  0.18800999 ...  0.10733519 -0.22247814\n",
      "   0.22094235]\n",
      " [ 0.01430746  0.48013037 -0.28346522 ...  0.35651443 -0.25443304\n",
      "   0.04062515]\n",
      " [ 0.10072869 -0.03782566 -0.26870253 ... -0.0411361   0.23311621\n",
      "   0.13148912]\n",
      " ...\n",
      " [ 0.20780805  0.21044331 -0.33160795 ...  0.25402261  0.03399726\n",
      "   0.49957278]\n",
      " [-0.14815558 -0.44737447 -0.45839947 ...  0.17576392  0.16178902\n",
      "  -0.17437012]\n",
      " [-0.39030825 -0.19627267 -0.3688234  ...  0.18173271 -0.1264259\n",
      "  -0.07690499]]\n"
     ]
    }
   ],
   "execution_count": 8
  },
  {
   "metadata": {
    "ExecuteTime": {
     "end_time": "2024-07-06T08:45:40.914251Z",
     "start_time": "2024-07-06T08:45:40.908843Z"
    }
   },
   "cell_type": "code",
   "source": [
    "def make_predictions(X, W1, b1, W2, b2):\n",
    "    _, _, _, A2 = neural_model.forward(W1, b1, W2, b2, X)\n",
    "    predictions = neural_model.get_predictions(A2)\n",
    "    return predictions"
   ],
   "id": "883fe1788eb838b0",
   "outputs": [],
   "execution_count": 9
  },
  {
   "metadata": {
    "ExecuteTime": {
     "end_time": "2024-07-06T08:45:40.926339Z",
     "start_time": "2024-07-06T08:45:40.918276Z"
    }
   },
   "cell_type": "code",
   "source": "a = np.zeros(784)",
   "id": "e1dd2d05dd2e5",
   "outputs": [],
   "execution_count": 10
  },
  {
   "metadata": {
    "ExecuteTime": {
     "end_time": "2024-07-06T08:45:40.939206Z",
     "start_time": "2024-07-06T08:45:40.927991Z"
    }
   },
   "cell_type": "code",
   "source": [
    "def test_prediction(index, W1, b1, W2, b2):\n",
    "    current_image = X_train[:, index, None]\n",
    "\n",
    "    prediction = make_predictions(X_train[:, index, None], W1, b1, W2, b2)\n",
    "    label = y_train[index]\n",
    "    print(\"Prediction: \", prediction)\n",
    "    print(\"Label: \", label)\n",
    "\n",
    "    current_image = current_image.reshape((28, 28)) * 255\n",
    "    plt.gray()\n",
    "    plt.imshow(current_image, interpolation='nearest')\n",
    "    plt.show()"
   ],
   "id": "99598cb8e31b83bd",
   "outputs": [],
   "execution_count": 11
  },
  {
   "metadata": {
    "ExecuteTime": {
     "end_time": "2024-07-06T08:45:41.052892Z",
     "start_time": "2024-07-06T08:45:40.940527Z"
    }
   },
   "cell_type": "code",
   "source": "test_prediction(0, weights[0],weights[1], weights[2], weights[3])",
   "id": "1e23ff6a282c89be",
   "outputs": [
    {
     "name": "stdout",
     "output_type": "stream",
     "text": [
      "Prediction:  [6]\n",
      "Label:  6\n"
     ]
    },
    {
     "data": {
      "text/plain": [
       "<Figure size 640x480 with 1 Axes>"
      ],
      "image/png": "[encoded data removed]"
     },
     "metadata": {},
     "output_type": "display_data"
    }
   ],
   "execution_count": 12
  },
  {
   "metadata": {
    "ExecuteTime": {
     "end_time": "2024-07-06T08:45:41.058888Z",
     "start_time": "2024-07-06T08:45:41.054355Z"
    }
   },
   "cell_type": "code",
   "source": "import pickle",
   "id": "de12c92031e4fed1",
   "outputs": [],
   "execution_count": 13
  },
  {
   "metadata": {
    "ExecuteTime": {
     "end_time": "2024-07-06T08:45:41.068837Z",
     "start_time": "2024-07-06T08:45:41.060567Z"
    }
   },
   "cell_type": "code",
   "source": [
    "filename = \"finalised_model_02.sav\"\n",
    "pickle.dump(weights, open(filename, \"wb\"))"
   ],
   "id": "1ec8f55b16f36d5e",
   "outputs": [],
   "execution_count": 14
  },
  {
   "metadata": {
    "ExecuteTime": {
     "end_time": "2024-07-06T08:45:41.071955Z",
     "start_time": "2024-07-06T08:45:41.069949Z"
    }
   },
   "cell_type": "code",
   "source": "",
   "id": "adf3fb9ffa40c488",
   "outputs": [],
   "execution_count": 14
  }
 ],
 "metadata": {
  "kernelspec": {
   "display_name": "Python 3",
   "language": "python",
   "name": "python3"
  },
  "language_info": {
   "codemirror_mode": {
    "name": "ipython",
    "version": 2
   },
   "file_extension": ".py",
   "mimetype": "text/x-python",
   "name": "python",
   "nbconvert_exporter": "python",
   "pygments_lexer": "ipython2",
   "version": "2.7.6"
  }
 },
 "nbformat": 4,
 "nbformat_minor": 5
}
