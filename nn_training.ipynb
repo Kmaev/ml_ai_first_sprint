{
 "cells": [
  {
   "cell_type": "code",
   "id": "initial_id",
   "metadata": {
    "collapsed": true,
    "ExecuteTime": {
     "end_time": "2024-07-07T13:55:40.076927Z",
     "start_time": "2024-07-07T13:55:40.071648Z"
    }
   },
   "source": [
    "import pandas as pd\n",
    "import numpy as np\n",
    "import matplotlib.pyplot as plt\n",
    "\n",
    "from mnist.nn_neural_network import NeuralNetwork\n",
    "from mnist.nn_data_utils import DataUtils\n",
    "from mnist.nn_metrics import Metrics\n",
    "from mnist.nn_encoders import Encoders\n",
    "from mnist.nn_activations import Activations"
   ],
   "outputs": [],
   "execution_count": 50
  },
  {
   "metadata": {
    "ExecuteTime": {
     "end_time": "2024-07-07T13:55:40.875875Z",
     "start_time": "2024-07-07T13:55:40.139409Z"
    }
   },
   "cell_type": "code",
   "source": "df = pd.read_csv('/home/kmaev/dev/ML_Rebelway_course/ml_course_homework/train.csv')",
   "id": "4a14138a161a056",
   "outputs": [],
   "execution_count": 51
  },
  {
   "metadata": {},
   "cell_type": "markdown",
   "source": "TRAINING:\n",
   "id": "4f37a6afc54cd7cf"
  },
  {
   "metadata": {
    "ExecuteTime": {
     "end_time": "2024-07-07T13:55:40.881388Z",
     "start_time": "2024-07-07T13:55:40.877796Z"
    }
   },
   "cell_type": "code",
   "source": [
    "neural_model = NeuralNetwork(df)\n",
    "dataset = DataUtils(df)"
   ],
   "id": "726fdfbc7341236c",
   "outputs": [],
   "execution_count": 52
  },
  {
   "metadata": {
    "ExecuteTime": {
     "end_time": "2024-07-07T13:55:41.525557Z",
     "start_time": "2024-07-07T13:55:40.882326Z"
    }
   },
   "cell_type": "code",
   "source": "X_train, X_test, y_train, y_test = dataset.train_test_split(df)",
   "id": "23ac05a3907d9a52",
   "outputs": [],
   "execution_count": 53
  },
  {
   "metadata": {
    "ExecuteTime": {
     "end_time": "2024-07-07T13:56:27.492112Z",
     "start_time": "2024-07-07T13:55:41.526508Z"
    }
   },
   "cell_type": "code",
   "source": "w1,b1,w2,b2 = neural_model.gradient_descent(X_train, y_train, 0.1, 1000) \n",
   "id": "e61946d9bb4eee13",
   "outputs": [
    {
     "name": "stdout",
     "output_type": "stream",
     "text": [
      "Epoch:  1\n",
      "[4 8 6 ... 4 0 5] [0 9 9 ... 3 5 7]\n",
      "0.063225\n",
      "Epoch:  11\n",
      "[6 8 8 ... 8 6 5] [0 9 9 ... 3 5 7]\n",
      "0.09315\n",
      "Epoch:  21\n",
      "[6 8 8 ... 8 6 5] [0 9 9 ... 3 5 7]\n",
      "0.11565\n",
      "Epoch:  31\n",
      "[6 8 8 ... 1 6 5] [0 9 9 ... 3 5 7]\n",
      "0.19765\n",
      "Epoch:  41\n",
      "[6 8 8 ... 1 6 5] [0 9 9 ... 3 5 7]\n",
      "0.234275\n",
      "Epoch:  51\n",
      "[6 8 8 ... 1 6 5] [0 9 9 ... 3 5 7]\n",
      "0.26425\n",
      "Epoch:  61\n",
      "[6 8 5 ... 1 6 5] [0 9 9 ... 3 5 7]\n",
      "0.298925\n",
      "Epoch:  71\n",
      "[0 8 5 ... 1 4 5] [0 9 9 ... 3 5 7]\n",
      "0.335625\n",
      "Epoch:  81\n",
      "[0 3 5 ... 3 4 5] [0 9 9 ... 3 5 7]\n",
      "0.372875\n",
      "Epoch:  91\n",
      "[0 7 5 ... 3 4 5] [0 9 9 ... 3 5 7]\n",
      "0.3986\n",
      "Epoch:  101\n",
      "[0 7 5 ... 3 9 5] [0 9 9 ... 3 5 7]\n",
      "0.424625\n",
      "Epoch:  111\n",
      "[0 7 9 ... 3 9 5] [0 9 9 ... 3 5 7]\n",
      "0.449275\n",
      "Epoch:  121\n",
      "[0 7 9 ... 3 9 7] [0 9 9 ... 3 5 7]\n",
      "0.47315\n",
      "Epoch:  131\n",
      "[6 7 9 ... 3 9 7] [0 9 9 ... 3 5 7]\n",
      "0.492575\n",
      "Epoch:  141\n",
      "[6 7 9 ... 3 9 7] [0 9 9 ... 3 5 7]\n",
      "0.50945\n",
      "Epoch:  151\n",
      "[6 7 9 ... 3 9 7] [0 9 9 ... 3 5 7]\n",
      "0.526\n",
      "Epoch:  161\n",
      "[6 7 9 ... 3 9 7] [0 9 9 ... 3 5 7]\n",
      "0.5393\n",
      "Epoch:  171\n",
      "[6 7 9 ... 3 5 7] [0 9 9 ... 3 5 7]\n",
      "0.55335\n",
      "Epoch:  181\n",
      "[6 7 9 ... 3 5 7] [0 9 9 ... 3 5 7]\n",
      "0.567525\n",
      "Epoch:  191\n",
      "[6 7 9 ... 3 5 7] [0 9 9 ... 3 5 7]\n",
      "0.58335\n",
      "Epoch:  201\n",
      "[6 7 9 ... 3 5 7] [0 9 9 ... 3 5 7]\n",
      "0.599025\n",
      "Epoch:  211\n",
      "[6 7 9 ... 3 5 7] [0 9 9 ... 3 5 7]\n",
      "0.615475\n",
      "Epoch:  221\n",
      "[0 7 9 ... 3 5 7] [0 9 9 ... 3 5 7]\n",
      "0.631125\n",
      "Epoch:  231\n",
      "[0 7 9 ... 3 5 7] [0 9 9 ... 3 5 7]\n",
      "0.646425\n",
      "Epoch:  241\n",
      "[0 7 9 ... 3 5 7] [0 9 9 ... 3 5 7]\n",
      "0.662025\n",
      "Epoch:  251\n",
      "[0 7 9 ... 3 5 7] [0 9 9 ... 3 5 7]\n",
      "0.676575\n",
      "Epoch:  261\n",
      "[0 7 9 ... 3 5 7] [0 9 9 ... 3 5 7]\n",
      "0.6904\n",
      "Epoch:  271\n",
      "[0 7 9 ... 3 5 7] [0 9 9 ... 3 5 7]\n",
      "0.7024\n",
      "Epoch:  281\n",
      "[0 7 9 ... 3 5 7] [0 9 9 ... 3 5 7]\n",
      "0.71485\n",
      "Epoch:  291\n",
      "[0 7 9 ... 3 5 7] [0 9 9 ... 3 5 7]\n",
      "0.724625\n",
      "Epoch:  301\n",
      "[0 7 9 ... 3 5 7] [0 9 9 ... 3 5 7]\n",
      "0.735525\n",
      "Epoch:  311\n",
      "[0 7 9 ... 3 5 7] [0 9 9 ... 3 5 7]\n",
      "0.744625\n",
      "Epoch:  321\n",
      "[0 7 9 ... 3 5 7] [0 9 9 ... 3 5 7]\n",
      "0.7521\n",
      "Epoch:  331\n",
      "[0 7 9 ... 3 5 7] [0 9 9 ... 3 5 7]\n",
      "0.75955\n",
      "Epoch:  341\n",
      "[0 7 9 ... 3 5 7] [0 9 9 ... 3 5 7]\n",
      "0.765925\n",
      "Epoch:  351\n",
      "[0 7 9 ... 3 5 7] [0 9 9 ... 3 5 7]\n",
      "0.77155\n",
      "Epoch:  361\n",
      "[0 7 9 ... 3 5 7] [0 9 9 ... 3 5 7]\n",
      "0.77705\n",
      "Epoch:  371\n",
      "[0 7 9 ... 3 5 7] [0 9 9 ... 3 5 7]\n",
      "0.7822\n",
      "Epoch:  381\n",
      "[0 7 9 ... 3 5 7] [0 9 9 ... 3 5 7]\n",
      "0.787025\n",
      "Epoch:  391\n",
      "[0 7 9 ... 3 5 7] [0 9 9 ... 3 5 7]\n",
      "0.7915\n",
      "Epoch:  401\n",
      "[0 7 9 ... 3 5 7] [0 9 9 ... 3 5 7]\n",
      "0.7953\n",
      "Epoch:  411\n",
      "[0 7 9 ... 3 5 7] [0 9 9 ... 3 5 7]\n",
      "0.798575\n",
      "Epoch:  421\n",
      "[0 7 9 ... 3 5 7] [0 9 9 ... 3 5 7]\n",
      "0.80175\n",
      "Epoch:  431\n",
      "[0 7 9 ... 3 5 7] [0 9 9 ... 3 5 7]\n",
      "0.80465\n",
      "Epoch:  441\n",
      "[0 7 9 ... 3 5 7] [0 9 9 ... 3 5 7]\n",
      "0.80735\n",
      "Epoch:  451\n",
      "[0 7 9 ... 3 5 7] [0 9 9 ... 3 5 7]\n",
      "0.8098\n",
      "Epoch:  461\n",
      "[0 9 9 ... 3 5 7] [0 9 9 ... 3 5 7]\n",
      "0.81255\n",
      "Epoch:  471\n",
      "[0 9 9 ... 3 5 7] [0 9 9 ... 3 5 7]\n",
      "0.814725\n",
      "Epoch:  481\n",
      "[0 9 9 ... 3 5 7] [0 9 9 ... 3 5 7]\n",
      "0.8173\n",
      "Epoch:  491\n",
      "[0 9 9 ... 3 5 7] [0 9 9 ... 3 5 7]\n",
      "0.8191\n",
      "Epoch:  501\n",
      "[0 9 9 ... 3 5 7] [0 9 9 ... 3 5 7]\n",
      "0.821475\n",
      "Epoch:  511\n",
      "[0 9 9 ... 3 5 7] [0 9 9 ... 3 5 7]\n",
      "0.823075\n",
      "Epoch:  521\n",
      "[0 9 9 ... 3 5 7] [0 9 9 ... 3 5 7]\n",
      "0.82475\n",
      "Epoch:  531\n",
      "[0 9 9 ... 3 5 7] [0 9 9 ... 3 5 7]\n",
      "0.82635\n",
      "Epoch:  541\n",
      "[0 9 9 ... 3 5 7] [0 9 9 ... 3 5 7]\n",
      "0.82775\n",
      "Epoch:  551\n",
      "[0 9 9 ... 3 5 7] [0 9 9 ... 3 5 7]\n",
      "0.829175\n",
      "Epoch:  561\n",
      "[0 9 9 ... 3 5 7] [0 9 9 ... 3 5 7]\n",
      "0.83025\n",
      "Epoch:  571\n",
      "[0 9 9 ... 3 5 7] [0 9 9 ... 3 5 7]\n",
      "0.831475\n",
      "Epoch:  581\n",
      "[0 9 9 ... 3 5 7] [0 9 9 ... 3 5 7]\n",
      "0.83345\n",
      "Epoch:  591\n",
      "[0 9 9 ... 3 5 7] [0 9 9 ... 3 5 7]\n",
      "0.835225\n",
      "Epoch:  601\n",
      "[0 9 9 ... 3 5 7] [0 9 9 ... 3 5 7]\n",
      "0.836675\n",
      "Epoch:  611\n",
      "[0 9 9 ... 3 5 7] [0 9 9 ... 3 5 7]\n",
      "0.8382\n",
      "Epoch:  621\n",
      "[0 9 9 ... 3 5 7] [0 9 9 ... 3 5 7]\n",
      "0.839325\n",
      "Epoch:  631\n",
      "[0 9 9 ... 3 5 7] [0 9 9 ... 3 5 7]\n",
      "0.8403\n",
      "Epoch:  641\n",
      "[0 9 9 ... 3 5 7] [0 9 9 ... 3 5 7]\n",
      "0.841675\n",
      "Epoch:  651\n",
      "[0 9 9 ... 3 5 7] [0 9 9 ... 3 5 7]\n",
      "0.842875\n",
      "Epoch:  661\n",
      "[0 9 9 ... 3 5 7] [0 9 9 ... 3 5 7]\n",
      "0.844375\n",
      "Epoch:  671\n",
      "[0 9 9 ... 3 5 7] [0 9 9 ... 3 5 7]\n",
      "0.8452\n",
      "Epoch:  681\n",
      "[0 9 9 ... 3 5 7] [0 9 9 ... 3 5 7]\n",
      "0.8463\n",
      "Epoch:  691\n",
      "[0 9 9 ... 3 5 7] [0 9 9 ... 3 5 7]\n",
      "0.84735\n",
      "Epoch:  701\n",
      "[0 9 9 ... 3 5 7] [0 9 9 ... 3 5 7]\n",
      "0.84845\n",
      "Epoch:  711\n",
      "[0 9 9 ... 3 5 7] [0 9 9 ... 3 5 7]\n",
      "0.849475\n",
      "Epoch:  721\n",
      "[0 9 9 ... 3 5 7] [0 9 9 ... 3 5 7]\n",
      "0.85035\n",
      "Epoch:  731\n",
      "[0 9 9 ... 3 5 7] [0 9 9 ... 3 5 7]\n",
      "0.851425\n",
      "Epoch:  741\n",
      "[0 9 9 ... 3 5 7] [0 9 9 ... 3 5 7]\n",
      "0.852325\n",
      "Epoch:  751\n",
      "[0 9 9 ... 3 5 7] [0 9 9 ... 3 5 7]\n",
      "0.853075\n",
      "Epoch:  761\n",
      "[0 9 9 ... 3 5 7] [0 9 9 ... 3 5 7]\n",
      "0.8538\n",
      "Epoch:  771\n",
      "[0 9 9 ... 3 5 7] [0 9 9 ... 3 5 7]\n",
      "0.854725\n",
      "Epoch:  781\n",
      "[0 9 9 ... 3 5 7] [0 9 9 ... 3 5 7]\n",
      "0.85575\n",
      "Epoch:  791\n",
      "[0 9 9 ... 3 5 7] [0 9 9 ... 3 5 7]\n",
      "0.8565\n",
      "Epoch:  801\n",
      "[0 9 9 ... 3 5 7] [0 9 9 ... 3 5 7]\n",
      "0.8574\n",
      "Epoch:  811\n",
      "[0 9 9 ... 3 5 7] [0 9 9 ... 3 5 7]\n",
      "0.858225\n",
      "Epoch:  821\n",
      "[0 9 9 ... 3 5 7] [0 9 9 ... 3 5 7]\n",
      "0.858975\n",
      "Epoch:  831\n",
      "[0 9 9 ... 3 5 7] [0 9 9 ... 3 5 7]\n",
      "0.85965\n",
      "Epoch:  841\n",
      "[0 9 9 ... 3 5 7] [0 9 9 ... 3 5 7]\n",
      "0.8603\n",
      "Epoch:  851\n",
      "[0 9 9 ... 3 5 7] [0 9 9 ... 3 5 7]\n",
      "0.861175\n",
      "Epoch:  861\n",
      "[0 9 9 ... 3 5 7] [0 9 9 ... 3 5 7]\n",
      "0.861875\n",
      "Epoch:  871\n",
      "[0 9 9 ... 3 5 7] [0 9 9 ... 3 5 7]\n",
      "0.86265\n",
      "Epoch:  881\n",
      "[0 9 9 ... 3 5 7] [0 9 9 ... 3 5 7]\n",
      "0.863275\n",
      "Epoch:  891\n",
      "[0 9 9 ... 3 5 7] [0 9 9 ... 3 5 7]\n",
      "0.86375\n",
      "Epoch:  901\n",
      "[0 9 9 ... 3 5 7] [0 9 9 ... 3 5 7]\n",
      "0.8647\n",
      "Epoch:  911\n",
      "[0 9 9 ... 3 5 7] [0 9 9 ... 3 5 7]\n",
      "0.8652\n",
      "Epoch:  921\n",
      "[0 9 9 ... 3 5 7] [0 9 9 ... 3 5 7]\n",
      "0.86595\n",
      "Epoch:  931\n",
      "[0 9 9 ... 3 5 7] [0 9 9 ... 3 5 7]\n",
      "0.866425\n",
      "Epoch:  941\n",
      "[0 9 9 ... 3 5 7] [0 9 9 ... 3 5 7]\n",
      "0.866975\n",
      "Epoch:  951\n",
      "[0 9 9 ... 3 5 7] [0 9 9 ... 3 5 7]\n",
      "0.8676\n",
      "Epoch:  961\n",
      "[0 9 9 ... 3 5 7] [0 9 9 ... 3 5 7]\n",
      "0.868425\n",
      "Epoch:  971\n",
      "[0 9 9 ... 3 5 7] [0 9 9 ... 3 5 7]\n",
      "0.86915\n",
      "Epoch:  981\n",
      "[0 9 9 ... 3 5 7] [0 9 9 ... 3 5 7]\n",
      "0.869975\n",
      "Epoch:  991\n",
      "[0 9 9 ... 3 5 7] [0 9 9 ... 3 5 7]\n",
      "0.87055\n"
     ]
    }
   ],
   "execution_count": 54
  },
  {
   "metadata": {
    "ExecuteTime": {
     "end_time": "2024-07-07T13:56:27.498471Z",
     "start_time": "2024-07-07T13:56:27.494945Z"
    }
   },
   "cell_type": "code",
   "source": "weights = (w1, b1, w2, b2) # Initialising weights to save",
   "id": "13bbd9dc08113d01",
   "outputs": [],
   "execution_count": 55
  },
  {
   "metadata": {
    "ExecuteTime": {
     "end_time": "2024-07-07T13:56:27.518361Z",
     "start_time": "2024-07-07T13:56:27.501170Z"
    }
   },
   "cell_type": "code",
   "source": [
    "#print(w1) #Comparing weights\n",
    "print(\"_______________\")\n",
    "#print(weights[1])"
   ],
   "id": "826c57d41404d638",
   "outputs": [
    {
     "name": "stdout",
     "output_type": "stream",
     "text": [
      "_______________\n"
     ]
    }
   ],
   "execution_count": 56
  },
  {
   "metadata": {
    "ExecuteTime": {
     "end_time": "2024-07-07T13:56:27.525151Z",
     "start_time": "2024-07-07T13:56:27.520083Z"
    }
   },
   "cell_type": "code",
   "source": [
    "def make_predictions(X, W1, b1, W2, b2):\n",
    "    _, _, _, A2 = neural_model.forward(W1, b1, W2, b2, X)\n",
    "\n",
    "    predictions = neural_model.get_predictions(A2)\n",
    "    return predictions"
   ],
   "id": "883fe1788eb838b0",
   "outputs": [],
   "execution_count": 57
  },
  {
   "metadata": {
    "ExecuteTime": {
     "end_time": "2024-07-07T14:07:06.571854Z",
     "start_time": "2024-07-07T14:07:06.565711Z"
    }
   },
   "cell_type": "code",
   "source": [
    "def test_prediction(image, W1, b1, W2, b2):\n",
    "    prediction = make_predictions(image, W1, b1, W2, b2)\n",
    "    return prediction\n",
    "    "
   ],
   "id": "99598cb8e31b83bd",
   "outputs": [],
   "execution_count": 90
  },
  {
   "metadata": {
    "ExecuteTime": {
     "end_time": "2024-07-07T14:07:07.283310Z",
     "start_time": "2024-07-07T14:07:07.214222Z"
    }
   },
   "cell_type": "code",
   "source": [
    "index =1 \n",
    "current_image = X_test[:, index, None]\n",
    "label = y_test[index]\n",
    "print(\"Prediction: \", test_prediction(current_image, weights[0],weights[1], weights[2], weights[3])) #Testing prediction, with updated weights \n",
    "print(\"Label: \", label)\n",
    "current_image = current_image.reshape((28, 28)) * 255\n",
    "plt.gray()\n",
    "plt.imshow(current_image, interpolation='nearest')\n",
    "plt.show()\n"
   ],
   "id": "1e23ff6a282c89be",
   "outputs": [
    {
     "name": "stdout",
     "output_type": "stream",
     "text": [
      "Prediction:  [1]\n",
      "Label:  1\n"
     ]
    },
    {
     "data": {
      "text/plain": [
       "<Figure size 640x480 with 1 Axes>"
      ],
      "image/png": "[encoded data removed]"
     },
     "metadata": {},
     "output_type": "display_data"
    }
   ],
   "execution_count": 91
  },
  {
   "metadata": {},
   "cell_type": "markdown",
   "source": "Saving Weights:",
   "id": "3bc9158caf34751e"
  },
  {
   "metadata": {
    "ExecuteTime": {
     "end_time": "2024-07-07T13:56:27.689484Z",
     "start_time": "2024-07-07T13:56:27.686251Z"
    }
   },
   "cell_type": "code",
   "source": "import pickle",
   "id": "de12c92031e4fed1",
   "outputs": [],
   "execution_count": 60
  },
  {
   "metadata": {
    "ExecuteTime": {
     "end_time": "2024-07-07T13:56:27.698981Z",
     "start_time": "2024-07-07T13:56:27.690548Z"
    }
   },
   "cell_type": "code",
   "source": [
    "filename = \"finalised_model_06.sav\" \n",
    "pickle.dump(weights, open(filename, \"wb\"))"
   ],
   "id": "1ec8f55b16f36d5e",
   "outputs": [],
   "execution_count": 61
  },
  {
   "metadata": {},
   "cell_type": "markdown",
   "source": "TESTING A MODEL WITH IMPORTED WEIGHTS ON DATASET",
   "id": "d31c3f16bbd303fb"
  },
  {
   "metadata": {
    "ExecuteTime": {
     "end_time": "2024-07-07T13:56:27.707648Z",
     "start_time": "2024-07-07T13:56:27.699731Z"
    }
   },
   "cell_type": "code",
   "source": [
    "with open('/home/kmaev/dev/ML_Rebelway_course/ml_course_homework/finalised_model_06.sav', 'rb') as file:\n",
    "    i_weights = pickle.load(file)"
   ],
   "id": "adf3fb9ffa40c488",
   "outputs": [],
   "execution_count": 62
  },
  {
   "metadata": {
    "ExecuteTime": {
     "end_time": "2024-07-07T14:08:46.798914Z",
     "start_time": "2024-07-07T14:08:46.744331Z"
    }
   },
   "cell_type": "code",
   "source": [
    "index =2 \n",
    "current_image = X_test[:, index, None]\n",
    "label = y_test[index]\n",
    "print(\"Prediction: \", test_prediction(current_image, i_weights[0],i_weights[1], i_weights[2], i_weights[3])) #Testing prediction, with updated weights \n",
    "print(\"Label: \", label)\n",
    "current_image = current_image.reshape((28, 28)) * 255\n",
    "plt.gray()\n",
    "plt.imshow(current_image, interpolation='nearest')\n",
    "plt.show()\n"
   ],
   "id": "8aa00c59cbba852c",
   "outputs": [
    {
     "name": "stdout",
     "output_type": "stream",
     "text": [
      "Prediction:  [3]\n",
      "Label:  3\n"
     ]
    },
    {
     "data": {
      "text/plain": [
       "<Figure size 640x480 with 1 Axes>"
      ],
      "image/png": "[encoded data removed]"
     },
     "metadata": {},
     "output_type": "display_data"
    }
   ],
   "execution_count": 93
  },
  {
   "metadata": {},
   "cell_type": "markdown",
   "source": [
    "__________________________________________________________\n",
    "Testing a model with an exported NumPy array from Houdini: "
   ],
   "id": "ac64f818d7d30777"
  },
  {
   "metadata": {
    "ExecuteTime": {
     "end_time": "2024-07-07T14:08:50.661722Z",
     "start_time": "2024-07-07T14:08:50.656044Z"
    }
   },
   "cell_type": "code",
   "source": "color_array = np.load(\"file_test.npy\")",
   "id": "4e361d2826052494",
   "outputs": [],
   "execution_count": 94
  },
  {
   "metadata": {
    "ExecuteTime": {
     "end_time": "2024-07-07T14:08:55.510659Z",
     "start_time": "2024-07-07T14:08:55.446292Z"
    }
   },
   "cell_type": "code",
   "source": [
    "current_image = color_array.reshape((28, 28)) * 255 #Plotting imported NumPy array\n",
    "plt.gray()\n",
    "plt.imshow(current_image, interpolation='nearest')\n",
    "plt.show()"
   ],
   "id": "423cfcdd405947d5",
   "outputs": [
    {
     "data": {
      "text/plain": [
       "<Figure size 640x480 with 1 Axes>"
      ],
      "image/png": "[encoded data removed]"
     },
     "metadata": {},
     "output_type": "display_data"
    }
   ],
   "execution_count": 95
  },
  {
   "metadata": {
    "ExecuteTime": {
     "end_time": "2024-07-07T14:10:20.574043Z",
     "start_time": "2024-07-07T14:10:20.511386Z"
    }
   },
   "cell_type": "code",
   "source": [
    "\n",
    "print(\"Prediction: \", test_prediction(color_array,i_weights[0],i_weights[1], i_weights[2], i_weights[3]))\n",
    "current_image = color_array.reshape((28, 28)) * 255\n",
    "plt.gray()\n",
    "plt.imshow(current_image, interpolation='nearest')\n",
    "plt.show()"
   ],
   "id": "48851c7b78608bee",
   "outputs": [
    {
     "name": "stdout",
     "output_type": "stream",
     "text": [
      "Prediction:  [5]\n"
     ]
    },
    {
     "data": {
      "text/plain": [
       "<Figure size 640x480 with 1 Axes>"
      ],
      "image/png": "[encoded data removed]"
     },
     "metadata": {},
     "output_type": "display_data"
    }
   ],
   "execution_count": 98
  },
  {
   "metadata": {},
   "cell_type": "markdown",
   "source": "Testing a model with an exported texture from Houdini: ",
   "id": "c7182a3da9851dc1"
  },
  {
   "metadata": {
    "ExecuteTime": {
     "end_time": "2024-07-07T14:14:26.590484Z",
     "start_time": "2024-07-07T14:14:26.518965Z"
    }
   },
   "cell_type": "code",
   "source": [
    "import cv2\n",
    "hou_image = '/home/kmaev/dev/ML_Rebelway_course/ml_course_homework/render/mnist_hda2_basecolor.jpg'\n",
    "\n",
    "image = cv2.imread(hou_image)\n",
    "\n",
    "red_channel = image[:, :, 2]  \n",
    "red_channel_resized = cv2.resize(red_channel, (1, 784))\n",
    "red_channel_vector = red_channel_resized.reshape(-1, 1)\n",
    "\n",
    "print(\"Prediction: \", test_prediction(red_channel_vector,i_weights[0],i_weights[1], i_weights[2], i_weights[3]))\n",
    "plt.figure(figsize=(10, 5))\n",
    "\n",
    "plt.subplot(1, 2, 1)\n",
    "plt.title('Original Image')\n",
    "plt.imshow(image)\n",
    "plt.axis('off')\n",
    "\n",
    "# Display the red channel\n",
    "plt.subplot(1, 2, 2)\n",
    "plt.title('Red Channel')\n",
    "plt.imshow(red_channel, cmap='Reds')\n",
    "plt.axis('off')\n",
    "\n",
    "plt.show()"
   ],
   "id": "c37e2ec81e154b72",
   "outputs": [
    {
     "name": "stdout",
     "output_type": "stream",
     "text": [
      "Prediction:  [2]\n"
     ]
    },
    {
     "data": {
      "text/plain": [
       "<Figure size 1000x500 with 2 Axes>"
      ],
      "image/png": "[encoded data removed]"
     },
     "metadata": {},
     "output_type": "display_data"
    }
   ],
   "execution_count": 103
  }
 ],
 "metadata": {
  "kernelspec": {
   "display_name": "Python 3",
   "language": "python",
   "name": "python3"
  },
  "language_info": {
   "codemirror_mode": {
    "name": "ipython",
    "version": 2
   },
   "file_extension": ".py",
   "mimetype": "text/x-python",
   "name": "python",
   "nbconvert_exporter": "python",
   "pygments_lexer": "ipython2",
   "version": "2.7.6"
  }
 },
 "nbformat": 4,
 "nbformat_minor": 5
}
