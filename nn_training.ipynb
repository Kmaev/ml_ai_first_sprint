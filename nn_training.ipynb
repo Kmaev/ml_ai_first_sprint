{
 "cells": [
  {
   "cell_type": "code",
   "id": "initial_id",
   "metadata": {
    "collapsed": true,
    "ExecuteTime": {
     "end_time": "2024-07-07T09:01:34.256063Z",
     "start_time": "2024-07-07T09:01:34.250494Z"
    }
   },
   "source": [
    "import pandas as pd\n",
    "import numpy as np\n",
    "import matplotlib.pyplot as plt\n",
    "\n",
    "from mnist.nn_neural_network import NeuralNetwork\n",
    "from mnist.nn_data_utils import DataUtils\n",
    "from mnist.nn_metrics import Metrics\n",
    "from mnist.nn_encoders import Encoders\n",
    "from mnist.nn_activations import Activations"
   ],
   "outputs": [],
   "execution_count": 97
  },
  {
   "metadata": {
    "ExecuteTime": {
     "end_time": "2024-07-07T09:01:35.413288Z",
     "start_time": "2024-07-07T09:01:34.267164Z"
    }
   },
   "cell_type": "code",
   "source": "df = pd.read_csv('train.csv')",
   "id": "4a14138a161a056",
   "outputs": [],
   "execution_count": 98
  },
  {
   "metadata": {
    "ExecuteTime": {
     "end_time": "2024-07-07T09:01:35.418297Z",
     "start_time": "2024-07-07T09:01:35.415123Z"
    }
   },
   "cell_type": "code",
   "source": [
    "neural_model = NeuralNetwork(df)\n",
    "dataset = DataUtils(df)"
   ],
   "id": "726fdfbc7341236c",
   "outputs": [],
   "execution_count": 99
  },
  {
   "metadata": {
    "ExecuteTime": {
     "end_time": "2024-07-07T09:01:36.132041Z",
     "start_time": "2024-07-07T09:01:35.419687Z"
    }
   },
   "cell_type": "code",
   "source": "X_train, X_test, y_train, y_test = dataset.train_test_split(df)",
   "id": "23ac05a3907d9a52",
   "outputs": [],
   "execution_count": 100
  },
  {
   "metadata": {
    "ExecuteTime": {
     "end_time": "2024-07-07T09:02:31.799522Z",
     "start_time": "2024-07-07T09:01:36.133779Z"
    }
   },
   "cell_type": "code",
   "source": "w1,b1,w2,b2 = neural_model.gradient_descent(X_train, y_train, 0.1, 1000) ",
   "id": "e61946d9bb4eee13",
   "outputs": [
    {
     "name": "stdout",
     "output_type": "stream",
     "text": [
      "Epoch:  1\n",
      "Epoch:  11\n",
      "Epoch:  21\n",
      "Epoch:  31\n",
      "Epoch:  41\n",
      "Epoch:  51\n",
      "Epoch:  61\n",
      "Epoch:  71\n",
      "Epoch:  81\n",
      "Epoch:  91\n",
      "Epoch:  101\n",
      "Epoch:  111\n",
      "Epoch:  121\n",
      "Epoch:  131\n",
      "Epoch:  141\n",
      "Epoch:  151\n",
      "Epoch:  161\n",
      "Epoch:  171\n",
      "Epoch:  181\n",
      "Epoch:  191\n",
      "Epoch:  201\n",
      "Epoch:  211\n",
      "Epoch:  221\n",
      "Epoch:  231\n",
      "Epoch:  241\n",
      "Epoch:  251\n",
      "Epoch:  261\n",
      "Epoch:  271\n",
      "Epoch:  281\n",
      "Epoch:  291\n",
      "Epoch:  301\n",
      "Epoch:  311\n",
      "Epoch:  321\n",
      "Epoch:  331\n",
      "Epoch:  341\n",
      "Epoch:  351\n",
      "Epoch:  361\n",
      "Epoch:  371\n",
      "Epoch:  381\n",
      "Epoch:  391\n",
      "Epoch:  401\n",
      "Epoch:  411\n",
      "Epoch:  421\n",
      "Epoch:  431\n",
      "Epoch:  441\n",
      "Epoch:  451\n",
      "Epoch:  461\n",
      "Epoch:  471\n",
      "Epoch:  481\n",
      "Epoch:  491\n",
      "Epoch:  501\n",
      "Epoch:  511\n",
      "Epoch:  521\n",
      "Epoch:  531\n",
      "Epoch:  541\n",
      "Epoch:  551\n",
      "Epoch:  561\n",
      "Epoch:  571\n",
      "Epoch:  581\n",
      "Epoch:  591\n",
      "Epoch:  601\n",
      "Epoch:  611\n",
      "Epoch:  621\n",
      "Epoch:  631\n",
      "Epoch:  641\n",
      "Epoch:  651\n",
      "Epoch:  661\n",
      "Epoch:  671\n",
      "Epoch:  681\n",
      "Epoch:  691\n",
      "Epoch:  701\n",
      "Epoch:  711\n",
      "Epoch:  721\n",
      "Epoch:  731\n",
      "Epoch:  741\n",
      "Epoch:  751\n",
      "Epoch:  761\n",
      "Epoch:  771\n",
      "Epoch:  781\n",
      "Epoch:  791\n",
      "Epoch:  801\n",
      "Epoch:  811\n",
      "Epoch:  821\n",
      "Epoch:  831\n",
      "Epoch:  841\n",
      "Epoch:  851\n",
      "Epoch:  861\n",
      "Epoch:  871\n",
      "Epoch:  881\n",
      "Epoch:  891\n",
      "Epoch:  901\n",
      "Epoch:  911\n",
      "Epoch:  921\n",
      "Epoch:  931\n",
      "Epoch:  941\n",
      "Epoch:  951\n",
      "Epoch:  961\n",
      "Epoch:  971\n",
      "Epoch:  981\n",
      "Epoch:  991\n"
     ]
    }
   ],
   "execution_count": 101
  },
  {
   "metadata": {
    "ExecuteTime": {
     "end_time": "2024-07-07T09:02:31.804149Z",
     "start_time": "2024-07-07T09:02:31.800843Z"
    }
   },
   "cell_type": "code",
   "source": "weights = (w1, b1, w2, b2)",
   "id": "13bbd9dc08113d01",
   "outputs": [],
   "execution_count": 102
  },
  {
   "metadata": {
    "ExecuteTime": {
     "end_time": "2024-07-07T09:02:31.825737Z",
     "start_time": "2024-07-07T09:02:31.807005Z"
    }
   },
   "cell_type": "code",
   "source": [
    "print(w1)\n",
    "print(\"_______________\")\n",
    "print(weights[1])"
   ],
   "id": "826c57d41404d638",
   "outputs": [
    {
     "name": "stdout",
     "output_type": "stream",
     "text": [
      "[[-0.01078094  0.10984104  0.46721471 ... -0.39062608  0.0771347\n",
      "   0.05589879]\n",
      " [-0.41360856  0.09383482  0.35172817 ...  0.05378236 -0.26333288\n",
      "   0.04234499]\n",
      " [ 0.03322306 -0.03528523  0.38053691 ... -0.2403338  -0.30549976\n",
      "  -0.17337911]\n",
      " ...\n",
      " [-0.45505195  0.37876762 -0.18597412 ...  0.27442791  0.2121344\n",
      "  -0.16472064]\n",
      " [-0.10683049 -0.41212987 -0.43931252 ...  0.25888105 -0.48063589\n",
      "   0.42870989]\n",
      " [ 0.4277207  -0.25197512 -0.37049704 ...  0.39331329  0.11982151\n",
      "  -0.3783386 ]]\n",
      "_______________\n",
      "[[0.46524968]\n",
      " [0.96991052]\n",
      " [0.34962547]\n",
      " [0.24728749]\n",
      " [1.05727066]\n",
      " [0.3342897 ]\n",
      " [0.82872853]\n",
      " [0.68856958]\n",
      " [0.49002429]\n",
      " [0.241342  ]]\n"
     ]
    }
   ],
   "execution_count": 103
  },
  {
   "metadata": {
    "ExecuteTime": {
     "end_time": "2024-07-07T09:02:31.836494Z",
     "start_time": "2024-07-07T09:02:31.826612Z"
    }
   },
   "cell_type": "code",
   "source": "print(weights[0])",
   "id": "bc5578f03192799",
   "outputs": [
    {
     "name": "stdout",
     "output_type": "stream",
     "text": [
      "[[-0.01078094  0.10984104  0.46721471 ... -0.39062608  0.0771347\n",
      "   0.05589879]\n",
      " [-0.41360856  0.09383482  0.35172817 ...  0.05378236 -0.26333288\n",
      "   0.04234499]\n",
      " [ 0.03322306 -0.03528523  0.38053691 ... -0.2403338  -0.30549976\n",
      "  -0.17337911]\n",
      " ...\n",
      " [-0.45505195  0.37876762 -0.18597412 ...  0.27442791  0.2121344\n",
      "  -0.16472064]\n",
      " [-0.10683049 -0.41212987 -0.43931252 ...  0.25888105 -0.48063589\n",
      "   0.42870989]\n",
      " [ 0.4277207  -0.25197512 -0.37049704 ...  0.39331329  0.11982151\n",
      "  -0.3783386 ]]\n"
     ]
    }
   ],
   "execution_count": 104
  },
  {
   "metadata": {
    "ExecuteTime": {
     "end_time": "2024-07-07T09:02:31.845541Z",
     "start_time": "2024-07-07T09:02:31.837607Z"
    }
   },
   "cell_type": "code",
   "source": [
    "def make_predictions(X, W1, b1, W2, b2):\n",
    "    _, _, _, A2 = neural_model.forward(W1, b1, W2, b2, X)\n",
    "\n",
    "    predictions = neural_model.get_predictions(A2)\n",
    "    return predictions"
   ],
   "id": "883fe1788eb838b0",
   "outputs": [],
   "execution_count": 105
  },
  {
   "metadata": {
    "ExecuteTime": {
     "end_time": "2024-07-07T09:02:31.858939Z",
     "start_time": "2024-07-07T09:02:31.846508Z"
    }
   },
   "cell_type": "code",
   "source": [
    "def test_prediction(index, W1, b1, W2, b2):\n",
    "    current_image = X_test[:, index, None]\n",
    "\n",
    "    prediction = make_predictions(X_test[:, index, None], W1, b1, W2, b2)\n",
    "    label = y_test[index]\n",
    "    print(\"Prediction: \", prediction)\n",
    "    print(\"Label: \", label)\n",
    "\n",
    "    current_image = current_image.reshape((28, 28)) * 255\n",
    "    plt.gray()\n",
    "    plt.imshow(current_image, interpolation='nearest')\n",
    "    plt.show()"
   ],
   "id": "99598cb8e31b83bd",
   "outputs": [],
   "execution_count": 106
  },
  {
   "metadata": {
    "ExecuteTime": {
     "end_time": "2024-07-07T09:02:31.943166Z",
     "start_time": "2024-07-07T09:02:31.860798Z"
    }
   },
   "cell_type": "code",
   "source": "test_prediction(1, weights[0],weights[1], weights[2], weights[3])",
   "id": "1e23ff6a282c89be",
   "outputs": [
    {
     "name": "stdout",
     "output_type": "stream",
     "text": [
      "Prediction:  [1]\n",
      "Label:  1\n"
     ]
    },
    {
     "data": {
      "text/plain": [
       "<Figure size 640x480 with 1 Axes>"
      ],
      "image/png": "[encoded data removed]"
     },
     "metadata": {},
     "output_type": "display_data"
    }
   ],
   "execution_count": 107
  },
  {
   "metadata": {
    "ExecuteTime": {
     "end_time": "2024-07-07T09:02:31.947703Z",
     "start_time": "2024-07-07T09:02:31.944358Z"
    }
   },
   "cell_type": "code",
   "source": "import pickle",
   "id": "de12c92031e4fed1",
   "outputs": [],
   "execution_count": 108
  },
  {
   "metadata": {
    "ExecuteTime": {
     "end_time": "2024-07-07T09:02:31.958850Z",
     "start_time": "2024-07-07T09:02:31.948996Z"
    }
   },
   "cell_type": "code",
   "source": [
    "filename = \"finalised_model_03.sav\"\n",
    "pickle.dump(weights, open(filename, \"wb\"))"
   ],
   "id": "1ec8f55b16f36d5e",
   "outputs": [],
   "execution_count": 109
  },
  {
   "metadata": {
    "ExecuteTime": {
     "end_time": "2024-07-07T09:02:31.967942Z",
     "start_time": "2024-07-07T09:02:31.959969Z"
    }
   },
   "cell_type": "code",
   "source": [
    "with open('/home/kmaev/dev/ML_Rebelway_course/ml_course_homework/finalised_model_02.sav', 'rb') as file:\n",
    "    i_weights = pickle.load(file)"
   ],
   "id": "adf3fb9ffa40c488",
   "outputs": [],
   "execution_count": 110
  },
  {
   "metadata": {
    "ExecuteTime": {
     "end_time": "2024-07-07T09:02:32.039573Z",
     "start_time": "2024-07-07T09:02:31.968985Z"
    }
   },
   "cell_type": "code",
   "source": "test_prediction(0, i_weights[0],i_weights[1], i_weights[2], i_weights[3])",
   "id": "8aa00c59cbba852c",
   "outputs": [
    {
     "name": "stdout",
     "output_type": "stream",
     "text": [
      "Prediction:  [5]\n",
      "Label:  5\n"
     ]
    },
    {
     "data": {
      "text/plain": [
       "<Figure size 640x480 with 1 Axes>"
      ],
      "image/png": "[encoded data removed]"
     },
     "metadata": {},
     "output_type": "display_data"
    }
   ],
   "execution_count": 111
  },
  {
   "metadata": {
    "ExecuteTime": {
     "end_time": "2024-07-07T09:02:32.045555Z",
     "start_time": "2024-07-07T09:02:32.041230Z"
    }
   },
   "cell_type": "code",
   "source": [
    "hou_array = np.load('file_test.npy')\n",
    "\n"
   ],
   "id": "80b7a64c51cfcd73",
   "outputs": [],
   "execution_count": 112
  },
  {
   "metadata": {
    "ExecuteTime": {
     "end_time": "2024-07-07T09:02:32.061776Z",
     "start_time": "2024-07-07T09:02:32.046582Z"
    }
   },
   "cell_type": "code",
   "source": [
    "def test_hou_prediction(hou_array, W1, b1, W2, b2):\n",
    "    current_image = hou_array\n",
    "\n",
    "    prediction = make_predictions(hou_array, W1, b1, W2, b2)\n",
    "    \n",
    "    print(\"Prediction: \", prediction)\n",
    "    "
   ],
   "id": "24c9760905ad8d9",
   "outputs": [],
   "execution_count": 113
  },
  {
   "metadata": {
    "ExecuteTime": {
     "end_time": "2024-07-07T09:02:32.077422Z",
     "start_time": "2024-07-07T09:02:32.062791Z"
    }
   },
   "cell_type": "code",
   "source": [
    "test_hou_prediction(hou_array, i_weights[0],i_weights[1], i_weights[2], i_weights[3])\n",
    "\n"
   ],
   "id": "c3e0c80ef4733e4f",
   "outputs": [
    {
     "name": "stdout",
     "output_type": "stream",
     "text": [
      "Prediction:  [9]\n"
     ]
    }
   ],
   "execution_count": 114
  },
  {
   "metadata": {
    "ExecuteTime": {
     "end_time": "2024-07-07T09:02:32.081783Z",
     "start_time": "2024-07-07T09:02:32.079247Z"
    }
   },
   "cell_type": "code",
   "source": "",
   "id": "c2e6288d69e59c56",
   "outputs": [],
   "execution_count": 114
  },
  {
   "metadata": {
    "ExecuteTime": {
     "end_time": "2024-07-07T09:02:32.085779Z",
     "start_time": "2024-07-07T09:02:32.083271Z"
    }
   },
   "cell_type": "code",
   "source": "",
   "id": "c37e2ec81e154b72",
   "outputs": [],
   "execution_count": 114
  }
 ],
 "metadata": {
  "kernelspec": {
   "display_name": "Python 3",
   "language": "python",
   "name": "python3"
  },
  "language_info": {
   "codemirror_mode": {
    "name": "ipython",
    "version": 2
   },
   "file_extension": ".py",
   "mimetype": "text/x-python",
   "name": "python",
   "nbconvert_exporter": "python",
   "pygments_lexer": "ipython2",
   "version": "2.7.6"
  }
 },
 "nbformat": 4,
 "nbformat_minor": 5
}
